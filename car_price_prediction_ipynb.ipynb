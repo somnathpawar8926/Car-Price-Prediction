{
  "metadata": {
    "kernelspec": {
      "language": "python",
      "display_name": "Python 3",
      "name": "python3"
    },
    "language_info": {
      "name": "python",
      "version": "3.10.12",
      "mimetype": "text/x-python",
      "codemirror_mode": {
        "name": "ipython",
        "version": 3
      },
      "pygments_lexer": "ipython3",
      "nbconvert_exporter": "python",
      "file_extension": ".py"
    },
    "kaggle": {
      "accelerator": "none",
      "dataSources": [
        {
          "sourceId": 6524237,
          "sourceType": "datasetVersion",
          "datasetId": 3771834
        }
      ],
      "dockerImageVersionId": 30558,
      "isInternetEnabled": true,
      "language": "python",
      "sourceType": "notebook",
      "isGpuEnabled": false
    },
    "colab": {
      "provenance": []
    }
  },
  "nbformat_minor": 0,
  "nbformat": 4,
  "cells": [
    {
      "cell_type": "markdown",
      "source": [
        "**STEPS :-**\n",
        "\n",
        "1) Problem Statement\n",
        "\n",
        "2) Collect and Prepare Data\n",
        "\n",
        "3) Loading data and related work\n",
        "\n",
        "4) Exploratory Data Analysis(EDA)\n",
        "\n",
        "5) Preprocess the Data\n",
        "\n",
        "6) Model Building :\n",
        "    \n",
        "\n",
        "*   Decision Tree\n",
        "*   Random Forest\n",
        "\n",
        "*   Multiple Linear Regression\n",
        "\n",
        "*   Support Vector Regression\n",
        "*   XGBoost\n",
        "\n",
        "*   LASSO\n",
        "\n",
        "7) Evaluate the Model\n",
        "\n",
        "\n",
        "*   R-Squared\n",
        "*   MSE\n",
        "\n",
        "*   MAE\n",
        "\n",
        "\n",
        "# 1) Problem Statement:\n",
        "\n",
        "The goal of this project is to develop a predictive model that estimates the selling price of used cars based on various attributes such as make, model, year, mileage, fuel type, Registration Status etc. Given historical car sales data, the model aims to provide accurate price predictions to aid buyers and sellers in making informed decisions. Key challenges include handling missing data, selecting appropriate algorithms, and ensuring the model generalizes well to new data.\n",
        "\n",
        "#2) Collect and Prepare Data\n",
        "\n",
        "**Data Collection:** Gather data on car sales, including features like make, company_name, model, price, year, location, mileage, fuel type, transmission type, and Registration Status.\n",
        "\n",
        "\n",
        "**Data Sources:** Identify and obtain datasets from reliable sources (e.g., online marketplaces, car dealerships, public datasets).\n",
        "\n",
        "\n",
        "\n",
        "\n",
        "\n",
        "\n",
        "\n",
        "\n",
        "\n",
        "\n",
        "\n",
        "\n",
        "\n",
        "\n",
        "\n"
      ],
      "metadata": {
        "id": "ojXYyiCsNk-y"
      }
    },
    {
      "cell_type": "markdown",
      "source": [
        "# Coding Time....!"
      ],
      "metadata": {
        "id": "nm9JC1KefEvl"
      }
    },
    {
      "cell_type": "markdown",
      "source": [
        "# 3) Loading Packages, Data and Related"
      ],
      "metadata": {
        "id": "_vzm7tnjTtil"
      }
    },
    {
      "cell_type": "markdown",
      "source": [
        "\n",
        "\n",
        "*  Loading Packages\n",
        "\n"
      ],
      "metadata": {
        "id": "MS6zTkIoT7D8"
      }
    },
    {
      "cell_type": "code",
      "source": [
        "#importing necessary libraries\n",
        "import pandas as pd\n",
        "import numpy as np               # For mathematical calculations\n",
        "\n",
        "import seaborn as sns            # For data visualization\n",
        "import matplotlib.pyplot as plt  # For plotting graphs\n",
        "%matplotlib inline\n",
        "\n",
        "import warnings                   # To ignore any warnings\n",
        "warnings.filterwarnings('ignore')\n"
      ],
      "metadata": {
        "execution": {
          "iopub.status.busy": "2024-04-23T05:00:29.140719Z",
          "iopub.execute_input": "2024-04-23T05:00:29.141651Z",
          "iopub.status.idle": "2024-04-23T05:00:29.151512Z",
          "shell.execute_reply.started": "2024-04-23T05:00:29.141619Z",
          "shell.execute_reply": "2024-04-23T05:00:29.150556Z"
        },
        "trusted": true,
        "id": "e629PBMnfEvn"
      },
      "execution_count": 39,
      "outputs": []
    },
    {
      "cell_type": "code",
      "source": [
        "#reading and displaying the first five rows of the dataset\n",
        "car = pd.read_csv('/content/cleaned_dataset.csv')\n",
        "car.head()"
      ],
      "metadata": {
        "execution": {
          "iopub.status.busy": "2024-04-23T05:00:29.153183Z",
          "iopub.execute_input": "2024-04-23T05:00:29.154345Z",
          "iopub.status.idle": "2024-04-23T05:00:29.435918Z",
          "shell.execute_reply.started": "2024-04-23T05:00:29.154308Z",
          "shell.execute_reply": "2024-04-23T05:00:29.434795Z"
        },
        "trusted": true,
        "id": "HD8nkcoXfEvn",
        "outputId": "a964d85c-fb94-4791-938d-d2f423e1a64b",
        "colab": {
          "base_uri": "https://localhost:8080/",
          "height": 223
        }
      },
      "execution_count": 29,
      "outputs": [
        {
          "output_type": "execute_result",
          "data": {
            "text/plain": [
              "  Company Name Model Name    Price  Model Year   Location  Mileage  \\\n",
              "0       Toyota       Vitz  2385000        2017  Islamabad     9869   \n",
              "1       Toyota    Corolla   111000        2019        KPK    11111   \n",
              "2       Suzuki       Alto  1530000        2019        KPK    17500   \n",
              "3       Suzuki       Alto  1650000        2019     Punjab     9600   \n",
              "4       Toyota    Corolla  1435000        2010  Islamabad   120000   \n",
              "\n",
              "  Engine Type  Engine Capacity   Color  Assembly  Body Type Transmission Type  \\\n",
              "0      Petrol             1000  Silver  Imported  Hatchback         Automatic   \n",
              "1      Petrol             1300   White     Local      Sedan         Automatic   \n",
              "2      Petrol              660   White     Local  Hatchback         Automatic   \n",
              "3      Petrol              660   White     Local  Hatchback            Manual   \n",
              "4      Petrol             1300   Black     Local      Sedan            Manual   \n",
              "\n",
              "  Registration Status  \n",
              "0       Un-Registered  \n",
              "1          Registered  \n",
              "2       Un-Registered  \n",
              "3          Registered  \n",
              "4          Registered  "
            ],
            "text/html": [
              "\n",
              "  <div id=\"df-66a36c42-fdbc-4763-953f-981a0fa6dd52\" class=\"colab-df-container\">\n",
              "    <div>\n",
              "<style scoped>\n",
              "    .dataframe tbody tr th:only-of-type {\n",
              "        vertical-align: middle;\n",
              "    }\n",
              "\n",
              "    .dataframe tbody tr th {\n",
              "        vertical-align: top;\n",
              "    }\n",
              "\n",
              "    .dataframe thead th {\n",
              "        text-align: right;\n",
              "    }\n",
              "</style>\n",
              "<table border=\"1\" class=\"dataframe\">\n",
              "  <thead>\n",
              "    <tr style=\"text-align: right;\">\n",
              "      <th></th>\n",
              "      <th>Company Name</th>\n",
              "      <th>Model Name</th>\n",
              "      <th>Price</th>\n",
              "      <th>Model Year</th>\n",
              "      <th>Location</th>\n",
              "      <th>Mileage</th>\n",
              "      <th>Engine Type</th>\n",
              "      <th>Engine Capacity</th>\n",
              "      <th>Color</th>\n",
              "      <th>Assembly</th>\n",
              "      <th>Body Type</th>\n",
              "      <th>Transmission Type</th>\n",
              "      <th>Registration Status</th>\n",
              "    </tr>\n",
              "  </thead>\n",
              "  <tbody>\n",
              "    <tr>\n",
              "      <th>0</th>\n",
              "      <td>Toyota</td>\n",
              "      <td>Vitz</td>\n",
              "      <td>2385000</td>\n",
              "      <td>2017</td>\n",
              "      <td>Islamabad</td>\n",
              "      <td>9869</td>\n",
              "      <td>Petrol</td>\n",
              "      <td>1000</td>\n",
              "      <td>Silver</td>\n",
              "      <td>Imported</td>\n",
              "      <td>Hatchback</td>\n",
              "      <td>Automatic</td>\n",
              "      <td>Un-Registered</td>\n",
              "    </tr>\n",
              "    <tr>\n",
              "      <th>1</th>\n",
              "      <td>Toyota</td>\n",
              "      <td>Corolla</td>\n",
              "      <td>111000</td>\n",
              "      <td>2019</td>\n",
              "      <td>KPK</td>\n",
              "      <td>11111</td>\n",
              "      <td>Petrol</td>\n",
              "      <td>1300</td>\n",
              "      <td>White</td>\n",
              "      <td>Local</td>\n",
              "      <td>Sedan</td>\n",
              "      <td>Automatic</td>\n",
              "      <td>Registered</td>\n",
              "    </tr>\n",
              "    <tr>\n",
              "      <th>2</th>\n",
              "      <td>Suzuki</td>\n",
              "      <td>Alto</td>\n",
              "      <td>1530000</td>\n",
              "      <td>2019</td>\n",
              "      <td>KPK</td>\n",
              "      <td>17500</td>\n",
              "      <td>Petrol</td>\n",
              "      <td>660</td>\n",
              "      <td>White</td>\n",
              "      <td>Local</td>\n",
              "      <td>Hatchback</td>\n",
              "      <td>Automatic</td>\n",
              "      <td>Un-Registered</td>\n",
              "    </tr>\n",
              "    <tr>\n",
              "      <th>3</th>\n",
              "      <td>Suzuki</td>\n",
              "      <td>Alto</td>\n",
              "      <td>1650000</td>\n",
              "      <td>2019</td>\n",
              "      <td>Punjab</td>\n",
              "      <td>9600</td>\n",
              "      <td>Petrol</td>\n",
              "      <td>660</td>\n",
              "      <td>White</td>\n",
              "      <td>Local</td>\n",
              "      <td>Hatchback</td>\n",
              "      <td>Manual</td>\n",
              "      <td>Registered</td>\n",
              "    </tr>\n",
              "    <tr>\n",
              "      <th>4</th>\n",
              "      <td>Toyota</td>\n",
              "      <td>Corolla</td>\n",
              "      <td>1435000</td>\n",
              "      <td>2010</td>\n",
              "      <td>Islamabad</td>\n",
              "      <td>120000</td>\n",
              "      <td>Petrol</td>\n",
              "      <td>1300</td>\n",
              "      <td>Black</td>\n",
              "      <td>Local</td>\n",
              "      <td>Sedan</td>\n",
              "      <td>Manual</td>\n",
              "      <td>Registered</td>\n",
              "    </tr>\n",
              "  </tbody>\n",
              "</table>\n",
              "</div>\n",
              "    <div class=\"colab-df-buttons\">\n",
              "\n",
              "  <div class=\"colab-df-container\">\n",
              "    <button class=\"colab-df-convert\" onclick=\"convertToInteractive('df-66a36c42-fdbc-4763-953f-981a0fa6dd52')\"\n",
              "            title=\"Convert this dataframe to an interactive table.\"\n",
              "            style=\"display:none;\">\n",
              "\n",
              "  <svg xmlns=\"http://www.w3.org/2000/svg\" height=\"24px\" viewBox=\"0 -960 960 960\">\n",
              "    <path d=\"M120-120v-720h720v720H120Zm60-500h600v-160H180v160Zm220 220h160v-160H400v160Zm0 220h160v-160H400v160ZM180-400h160v-160H180v160Zm440 0h160v-160H620v160ZM180-180h160v-160H180v160Zm440 0h160v-160H620v160Z\"/>\n",
              "  </svg>\n",
              "    </button>\n",
              "\n",
              "  <style>\n",
              "    .colab-df-container {\n",
              "      display:flex;\n",
              "      gap: 12px;\n",
              "    }\n",
              "\n",
              "    .colab-df-convert {\n",
              "      background-color: #E8F0FE;\n",
              "      border: none;\n",
              "      border-radius: 50%;\n",
              "      cursor: pointer;\n",
              "      display: none;\n",
              "      fill: #1967D2;\n",
              "      height: 32px;\n",
              "      padding: 0 0 0 0;\n",
              "      width: 32px;\n",
              "    }\n",
              "\n",
              "    .colab-df-convert:hover {\n",
              "      background-color: #E2EBFA;\n",
              "      box-shadow: 0px 1px 2px rgba(60, 64, 67, 0.3), 0px 1px 3px 1px rgba(60, 64, 67, 0.15);\n",
              "      fill: #174EA6;\n",
              "    }\n",
              "\n",
              "    .colab-df-buttons div {\n",
              "      margin-bottom: 4px;\n",
              "    }\n",
              "\n",
              "    [theme=dark] .colab-df-convert {\n",
              "      background-color: #3B4455;\n",
              "      fill: #D2E3FC;\n",
              "    }\n",
              "\n",
              "    [theme=dark] .colab-df-convert:hover {\n",
              "      background-color: #434B5C;\n",
              "      box-shadow: 0px 1px 3px 1px rgba(0, 0, 0, 0.15);\n",
              "      filter: drop-shadow(0px 1px 2px rgba(0, 0, 0, 0.3));\n",
              "      fill: #FFFFFF;\n",
              "    }\n",
              "  </style>\n",
              "\n",
              "    <script>\n",
              "      const buttonEl =\n",
              "        document.querySelector('#df-66a36c42-fdbc-4763-953f-981a0fa6dd52 button.colab-df-convert');\n",
              "      buttonEl.style.display =\n",
              "        google.colab.kernel.accessAllowed ? 'block' : 'none';\n",
              "\n",
              "      async function convertToInteractive(key) {\n",
              "        const element = document.querySelector('#df-66a36c42-fdbc-4763-953f-981a0fa6dd52');\n",
              "        const dataTable =\n",
              "          await google.colab.kernel.invokeFunction('convertToInteractive',\n",
              "                                                    [key], {});\n",
              "        if (!dataTable) return;\n",
              "\n",
              "        const docLinkHtml = 'Like what you see? Visit the ' +\n",
              "          '<a target=\"_blank\" href=https://colab.research.google.com/notebooks/data_table.ipynb>data table notebook</a>'\n",
              "          + ' to learn more about interactive tables.';\n",
              "        element.innerHTML = '';\n",
              "        dataTable['output_type'] = 'display_data';\n",
              "        await google.colab.output.renderOutput(dataTable, element);\n",
              "        const docLink = document.createElement('div');\n",
              "        docLink.innerHTML = docLinkHtml;\n",
              "        element.appendChild(docLink);\n",
              "      }\n",
              "    </script>\n",
              "  </div>\n",
              "\n",
              "\n",
              "<div id=\"df-ea1cd167-bd24-4abd-ac8b-4a5a548b1924\">\n",
              "  <button class=\"colab-df-quickchart\" onclick=\"quickchart('df-ea1cd167-bd24-4abd-ac8b-4a5a548b1924')\"\n",
              "            title=\"Suggest charts\"\n",
              "            style=\"display:none;\">\n",
              "\n",
              "<svg xmlns=\"http://www.w3.org/2000/svg\" height=\"24px\"viewBox=\"0 0 24 24\"\n",
              "     width=\"24px\">\n",
              "    <g>\n",
              "        <path d=\"M19 3H5c-1.1 0-2 .9-2 2v14c0 1.1.9 2 2 2h14c1.1 0 2-.9 2-2V5c0-1.1-.9-2-2-2zM9 17H7v-7h2v7zm4 0h-2V7h2v10zm4 0h-2v-4h2v4z\"/>\n",
              "    </g>\n",
              "</svg>\n",
              "  </button>\n",
              "\n",
              "<style>\n",
              "  .colab-df-quickchart {\n",
              "      --bg-color: #E8F0FE;\n",
              "      --fill-color: #1967D2;\n",
              "      --hover-bg-color: #E2EBFA;\n",
              "      --hover-fill-color: #174EA6;\n",
              "      --disabled-fill-color: #AAA;\n",
              "      --disabled-bg-color: #DDD;\n",
              "  }\n",
              "\n",
              "  [theme=dark] .colab-df-quickchart {\n",
              "      --bg-color: #3B4455;\n",
              "      --fill-color: #D2E3FC;\n",
              "      --hover-bg-color: #434B5C;\n",
              "      --hover-fill-color: #FFFFFF;\n",
              "      --disabled-bg-color: #3B4455;\n",
              "      --disabled-fill-color: #666;\n",
              "  }\n",
              "\n",
              "  .colab-df-quickchart {\n",
              "    background-color: var(--bg-color);\n",
              "    border: none;\n",
              "    border-radius: 50%;\n",
              "    cursor: pointer;\n",
              "    display: none;\n",
              "    fill: var(--fill-color);\n",
              "    height: 32px;\n",
              "    padding: 0;\n",
              "    width: 32px;\n",
              "  }\n",
              "\n",
              "  .colab-df-quickchart:hover {\n",
              "    background-color: var(--hover-bg-color);\n",
              "    box-shadow: 0 1px 2px rgba(60, 64, 67, 0.3), 0 1px 3px 1px rgba(60, 64, 67, 0.15);\n",
              "    fill: var(--button-hover-fill-color);\n",
              "  }\n",
              "\n",
              "  .colab-df-quickchart-complete:disabled,\n",
              "  .colab-df-quickchart-complete:disabled:hover {\n",
              "    background-color: var(--disabled-bg-color);\n",
              "    fill: var(--disabled-fill-color);\n",
              "    box-shadow: none;\n",
              "  }\n",
              "\n",
              "  .colab-df-spinner {\n",
              "    border: 2px solid var(--fill-color);\n",
              "    border-color: transparent;\n",
              "    border-bottom-color: var(--fill-color);\n",
              "    animation:\n",
              "      spin 1s steps(1) infinite;\n",
              "  }\n",
              "\n",
              "  @keyframes spin {\n",
              "    0% {\n",
              "      border-color: transparent;\n",
              "      border-bottom-color: var(--fill-color);\n",
              "      border-left-color: var(--fill-color);\n",
              "    }\n",
              "    20% {\n",
              "      border-color: transparent;\n",
              "      border-left-color: var(--fill-color);\n",
              "      border-top-color: var(--fill-color);\n",
              "    }\n",
              "    30% {\n",
              "      border-color: transparent;\n",
              "      border-left-color: var(--fill-color);\n",
              "      border-top-color: var(--fill-color);\n",
              "      border-right-color: var(--fill-color);\n",
              "    }\n",
              "    40% {\n",
              "      border-color: transparent;\n",
              "      border-right-color: var(--fill-color);\n",
              "      border-top-color: var(--fill-color);\n",
              "    }\n",
              "    60% {\n",
              "      border-color: transparent;\n",
              "      border-right-color: var(--fill-color);\n",
              "    }\n",
              "    80% {\n",
              "      border-color: transparent;\n",
              "      border-right-color: var(--fill-color);\n",
              "      border-bottom-color: var(--fill-color);\n",
              "    }\n",
              "    90% {\n",
              "      border-color: transparent;\n",
              "      border-bottom-color: var(--fill-color);\n",
              "    }\n",
              "  }\n",
              "</style>\n",
              "\n",
              "  <script>\n",
              "    async function quickchart(key) {\n",
              "      const quickchartButtonEl =\n",
              "        document.querySelector('#' + key + ' button');\n",
              "      quickchartButtonEl.disabled = true;  // To prevent multiple clicks.\n",
              "      quickchartButtonEl.classList.add('colab-df-spinner');\n",
              "      try {\n",
              "        const charts = await google.colab.kernel.invokeFunction(\n",
              "            'suggestCharts', [key], {});\n",
              "      } catch (error) {\n",
              "        console.error('Error during call to suggestCharts:', error);\n",
              "      }\n",
              "      quickchartButtonEl.classList.remove('colab-df-spinner');\n",
              "      quickchartButtonEl.classList.add('colab-df-quickchart-complete');\n",
              "    }\n",
              "    (() => {\n",
              "      let quickchartButtonEl =\n",
              "        document.querySelector('#df-ea1cd167-bd24-4abd-ac8b-4a5a548b1924 button');\n",
              "      quickchartButtonEl.style.display =\n",
              "        google.colab.kernel.accessAllowed ? 'block' : 'none';\n",
              "    })();\n",
              "  </script>\n",
              "</div>\n",
              "\n",
              "    </div>\n",
              "  </div>\n"
            ],
            "application/vnd.google.colaboratory.intrinsic+json": {
              "type": "dataframe",
              "variable_name": "car",
              "summary": "{\n  \"name\": \"car\",\n  \"rows\": 46022,\n  \"fields\": [\n    {\n      \"column\": \"Company Name\",\n      \"properties\": {\n        \"dtype\": \"category\",\n        \"num_unique_values\": 31,\n        \"samples\": [\n          \"Jeep\",\n          \"KIA\",\n          \"Fiat\"\n        ],\n        \"semantic_type\": \"\",\n        \"description\": \"\"\n      }\n    },\n    {\n      \"column\": \"Model Name\",\n      \"properties\": {\n        \"dtype\": \"category\",\n        \"num_unique_values\": 196,\n        \"samples\": [\n          \"Macan\",\n          \"Flair\",\n          \"Prius\"\n        ],\n        \"semantic_type\": \"\",\n        \"description\": \"\"\n      }\n    },\n    {\n      \"column\": \"Price\",\n      \"properties\": {\n        \"dtype\": \"number\",\n        \"std\": 2939071,\n        \"min\": 111000,\n        \"max\": 77500000,\n        \"num_unique_values\": 1419,\n        \"samples\": [\n          1140000,\n          325000,\n          605000\n        ],\n        \"semantic_type\": \"\",\n        \"description\": \"\"\n      }\n    },\n    {\n      \"column\": \"Model Year\",\n      \"properties\": {\n        \"dtype\": \"number\",\n        \"std\": 6,\n        \"min\": 1990,\n        \"max\": 2019,\n        \"num_unique_values\": 30,\n        \"samples\": [\n          1997,\n          2005,\n          1996\n        ],\n        \"semantic_type\": \"\",\n        \"description\": \"\"\n      }\n    },\n    {\n      \"column\": \"Location\",\n      \"properties\": {\n        \"dtype\": \"category\",\n        \"num_unique_values\": 6,\n        \"samples\": [\n          \"Islamabad\",\n          \"KPK\",\n          \"Kashmir\"\n        ],\n        \"semantic_type\": \"\",\n        \"description\": \"\"\n      }\n    },\n    {\n      \"column\": \"Mileage\",\n      \"properties\": {\n        \"dtype\": \"number\",\n        \"std\": 63656,\n        \"min\": 1,\n        \"max\": 999999,\n        \"num_unique_values\": 5573,\n        \"samples\": [\n          130289,\n          95171,\n          167592\n        ],\n        \"semantic_type\": \"\",\n        \"description\": \"\"\n      }\n    },\n    {\n      \"column\": \"Engine Type\",\n      \"properties\": {\n        \"dtype\": \"category\",\n        \"num_unique_values\": 3,\n        \"samples\": [\n          \"Petrol\",\n          \"Diesel\",\n          \"Hybrid\"\n        ],\n        \"semantic_type\": \"\",\n        \"description\": \"\"\n      }\n    },\n    {\n      \"column\": \"Engine Capacity\",\n      \"properties\": {\n        \"dtype\": \"number\",\n        \"std\": 614,\n        \"min\": 16,\n        \"max\": 6600,\n        \"num_unique_values\": 75,\n        \"samples\": [\n          3000,\n          600,\n          2500\n        ],\n        \"semantic_type\": \"\",\n        \"description\": \"\"\n      }\n    },\n    {\n      \"column\": \"Color\",\n      \"properties\": {\n        \"dtype\": \"category\",\n        \"num_unique_values\": 24,\n        \"samples\": [\n          \"Maroon\",\n          \"Turquoise\",\n          \"Silver\"\n        ],\n        \"semantic_type\": \"\",\n        \"description\": \"\"\n      }\n    },\n    {\n      \"column\": \"Assembly\",\n      \"properties\": {\n        \"dtype\": \"category\",\n        \"num_unique_values\": 2,\n        \"samples\": [\n          \"Local\",\n          \"Imported\"\n        ],\n        \"semantic_type\": \"\",\n        \"description\": \"\"\n      }\n    },\n    {\n      \"column\": \"Body Type\",\n      \"properties\": {\n        \"dtype\": \"category\",\n        \"num_unique_values\": 6,\n        \"samples\": [\n          \"Hatchback\",\n          \"Sedan\"\n        ],\n        \"semantic_type\": \"\",\n        \"description\": \"\"\n      }\n    },\n    {\n      \"column\": \"Transmission Type\",\n      \"properties\": {\n        \"dtype\": \"category\",\n        \"num_unique_values\": 2,\n        \"samples\": [\n          \"Manual\",\n          \"Automatic\"\n        ],\n        \"semantic_type\": \"\",\n        \"description\": \"\"\n      }\n    },\n    {\n      \"column\": \"Registration Status\",\n      \"properties\": {\n        \"dtype\": \"category\",\n        \"num_unique_values\": 2,\n        \"samples\": [\n          \"Registered\",\n          \"Un-Registered\"\n        ],\n        \"semantic_type\": \"\",\n        \"description\": \"\"\n      }\n    }\n  ]\n}"
            }
          },
          "metadata": {},
          "execution_count": 29
        }
      ]
    },
    {
      "cell_type": "code",
      "source": [
        "x = car.drop(columns = ['Price'])\n",
        "y = car['Price']\n",
        "display(x.head(), y.head())"
      ],
      "metadata": {
        "execution": {
          "iopub.status.busy": "2024-04-23T05:00:29.439483Z",
          "iopub.execute_input": "2024-04-23T05:00:29.439823Z",
          "iopub.status.idle": "2024-04-23T05:00:29.478447Z",
          "shell.execute_reply.started": "2024-04-23T05:00:29.439794Z",
          "shell.execute_reply": "2024-04-23T05:00:29.477572Z"
        },
        "trusted": true,
        "id": "NBrKNngXfEvo",
        "colab": {
          "base_uri": "https://localhost:8080/",
          "height": 447
        },
        "outputId": "f2f8228d-9c9b-4a92-f7d2-a90e297c8456"
      },
      "execution_count": 30,
      "outputs": [
        {
          "output_type": "display_data",
          "data": {
            "text/plain": [
              "  Company Name Model Name  Model Year   Location  Mileage Engine Type  \\\n",
              "0       Toyota       Vitz        2017  Islamabad     9869      Petrol   \n",
              "1       Toyota    Corolla        2019        KPK    11111      Petrol   \n",
              "2       Suzuki       Alto        2019        KPK    17500      Petrol   \n",
              "3       Suzuki       Alto        2019     Punjab     9600      Petrol   \n",
              "4       Toyota    Corolla        2010  Islamabad   120000      Petrol   \n",
              "\n",
              "   Engine Capacity   Color  Assembly  Body Type Transmission Type  \\\n",
              "0             1000  Silver  Imported  Hatchback         Automatic   \n",
              "1             1300   White     Local      Sedan         Automatic   \n",
              "2              660   White     Local  Hatchback         Automatic   \n",
              "3              660   White     Local  Hatchback            Manual   \n",
              "4             1300   Black     Local      Sedan            Manual   \n",
              "\n",
              "  Registration Status  \n",
              "0       Un-Registered  \n",
              "1          Registered  \n",
              "2       Un-Registered  \n",
              "3          Registered  \n",
              "4          Registered  "
            ],
            "text/html": [
              "\n",
              "  <div id=\"df-da81fdf2-c098-4087-9b12-36da4264b5a0\" class=\"colab-df-container\">\n",
              "    <div>\n",
              "<style scoped>\n",
              "    .dataframe tbody tr th:only-of-type {\n",
              "        vertical-align: middle;\n",
              "    }\n",
              "\n",
              "    .dataframe tbody tr th {\n",
              "        vertical-align: top;\n",
              "    }\n",
              "\n",
              "    .dataframe thead th {\n",
              "        text-align: right;\n",
              "    }\n",
              "</style>\n",
              "<table border=\"1\" class=\"dataframe\">\n",
              "  <thead>\n",
              "    <tr style=\"text-align: right;\">\n",
              "      <th></th>\n",
              "      <th>Company Name</th>\n",
              "      <th>Model Name</th>\n",
              "      <th>Model Year</th>\n",
              "      <th>Location</th>\n",
              "      <th>Mileage</th>\n",
              "      <th>Engine Type</th>\n",
              "      <th>Engine Capacity</th>\n",
              "      <th>Color</th>\n",
              "      <th>Assembly</th>\n",
              "      <th>Body Type</th>\n",
              "      <th>Transmission Type</th>\n",
              "      <th>Registration Status</th>\n",
              "    </tr>\n",
              "  </thead>\n",
              "  <tbody>\n",
              "    <tr>\n",
              "      <th>0</th>\n",
              "      <td>Toyota</td>\n",
              "      <td>Vitz</td>\n",
              "      <td>2017</td>\n",
              "      <td>Islamabad</td>\n",
              "      <td>9869</td>\n",
              "      <td>Petrol</td>\n",
              "      <td>1000</td>\n",
              "      <td>Silver</td>\n",
              "      <td>Imported</td>\n",
              "      <td>Hatchback</td>\n",
              "      <td>Automatic</td>\n",
              "      <td>Un-Registered</td>\n",
              "    </tr>\n",
              "    <tr>\n",
              "      <th>1</th>\n",
              "      <td>Toyota</td>\n",
              "      <td>Corolla</td>\n",
              "      <td>2019</td>\n",
              "      <td>KPK</td>\n",
              "      <td>11111</td>\n",
              "      <td>Petrol</td>\n",
              "      <td>1300</td>\n",
              "      <td>White</td>\n",
              "      <td>Local</td>\n",
              "      <td>Sedan</td>\n",
              "      <td>Automatic</td>\n",
              "      <td>Registered</td>\n",
              "    </tr>\n",
              "    <tr>\n",
              "      <th>2</th>\n",
              "      <td>Suzuki</td>\n",
              "      <td>Alto</td>\n",
              "      <td>2019</td>\n",
              "      <td>KPK</td>\n",
              "      <td>17500</td>\n",
              "      <td>Petrol</td>\n",
              "      <td>660</td>\n",
              "      <td>White</td>\n",
              "      <td>Local</td>\n",
              "      <td>Hatchback</td>\n",
              "      <td>Automatic</td>\n",
              "      <td>Un-Registered</td>\n",
              "    </tr>\n",
              "    <tr>\n",
              "      <th>3</th>\n",
              "      <td>Suzuki</td>\n",
              "      <td>Alto</td>\n",
              "      <td>2019</td>\n",
              "      <td>Punjab</td>\n",
              "      <td>9600</td>\n",
              "      <td>Petrol</td>\n",
              "      <td>660</td>\n",
              "      <td>White</td>\n",
              "      <td>Local</td>\n",
              "      <td>Hatchback</td>\n",
              "      <td>Manual</td>\n",
              "      <td>Registered</td>\n",
              "    </tr>\n",
              "    <tr>\n",
              "      <th>4</th>\n",
              "      <td>Toyota</td>\n",
              "      <td>Corolla</td>\n",
              "      <td>2010</td>\n",
              "      <td>Islamabad</td>\n",
              "      <td>120000</td>\n",
              "      <td>Petrol</td>\n",
              "      <td>1300</td>\n",
              "      <td>Black</td>\n",
              "      <td>Local</td>\n",
              "      <td>Sedan</td>\n",
              "      <td>Manual</td>\n",
              "      <td>Registered</td>\n",
              "    </tr>\n",
              "  </tbody>\n",
              "</table>\n",
              "</div>\n",
              "    <div class=\"colab-df-buttons\">\n",
              "\n",
              "  <div class=\"colab-df-container\">\n",
              "    <button class=\"colab-df-convert\" onclick=\"convertToInteractive('df-da81fdf2-c098-4087-9b12-36da4264b5a0')\"\n",
              "            title=\"Convert this dataframe to an interactive table.\"\n",
              "            style=\"display:none;\">\n",
              "\n",
              "  <svg xmlns=\"http://www.w3.org/2000/svg\" height=\"24px\" viewBox=\"0 -960 960 960\">\n",
              "    <path d=\"M120-120v-720h720v720H120Zm60-500h600v-160H180v160Zm220 220h160v-160H400v160Zm0 220h160v-160H400v160ZM180-400h160v-160H180v160Zm440 0h160v-160H620v160ZM180-180h160v-160H180v160Zm440 0h160v-160H620v160Z\"/>\n",
              "  </svg>\n",
              "    </button>\n",
              "\n",
              "  <style>\n",
              "    .colab-df-container {\n",
              "      display:flex;\n",
              "      gap: 12px;\n",
              "    }\n",
              "\n",
              "    .colab-df-convert {\n",
              "      background-color: #E8F0FE;\n",
              "      border: none;\n",
              "      border-radius: 50%;\n",
              "      cursor: pointer;\n",
              "      display: none;\n",
              "      fill: #1967D2;\n",
              "      height: 32px;\n",
              "      padding: 0 0 0 0;\n",
              "      width: 32px;\n",
              "    }\n",
              "\n",
              "    .colab-df-convert:hover {\n",
              "      background-color: #E2EBFA;\n",
              "      box-shadow: 0px 1px 2px rgba(60, 64, 67, 0.3), 0px 1px 3px 1px rgba(60, 64, 67, 0.15);\n",
              "      fill: #174EA6;\n",
              "    }\n",
              "\n",
              "    .colab-df-buttons div {\n",
              "      margin-bottom: 4px;\n",
              "    }\n",
              "\n",
              "    [theme=dark] .colab-df-convert {\n",
              "      background-color: #3B4455;\n",
              "      fill: #D2E3FC;\n",
              "    }\n",
              "\n",
              "    [theme=dark] .colab-df-convert:hover {\n",
              "      background-color: #434B5C;\n",
              "      box-shadow: 0px 1px 3px 1px rgba(0, 0, 0, 0.15);\n",
              "      filter: drop-shadow(0px 1px 2px rgba(0, 0, 0, 0.3));\n",
              "      fill: #FFFFFF;\n",
              "    }\n",
              "  </style>\n",
              "\n",
              "    <script>\n",
              "      const buttonEl =\n",
              "        document.querySelector('#df-da81fdf2-c098-4087-9b12-36da4264b5a0 button.colab-df-convert');\n",
              "      buttonEl.style.display =\n",
              "        google.colab.kernel.accessAllowed ? 'block' : 'none';\n",
              "\n",
              "      async function convertToInteractive(key) {\n",
              "        const element = document.querySelector('#df-da81fdf2-c098-4087-9b12-36da4264b5a0');\n",
              "        const dataTable =\n",
              "          await google.colab.kernel.invokeFunction('convertToInteractive',\n",
              "                                                    [key], {});\n",
              "        if (!dataTable) return;\n",
              "\n",
              "        const docLinkHtml = 'Like what you see? Visit the ' +\n",
              "          '<a target=\"_blank\" href=https://colab.research.google.com/notebooks/data_table.ipynb>data table notebook</a>'\n",
              "          + ' to learn more about interactive tables.';\n",
              "        element.innerHTML = '';\n",
              "        dataTable['output_type'] = 'display_data';\n",
              "        await google.colab.output.renderOutput(dataTable, element);\n",
              "        const docLink = document.createElement('div');\n",
              "        docLink.innerHTML = docLinkHtml;\n",
              "        element.appendChild(docLink);\n",
              "      }\n",
              "    </script>\n",
              "  </div>\n",
              "\n",
              "\n",
              "<div id=\"df-22d310f9-1dd1-4491-b919-1a99d3563444\">\n",
              "  <button class=\"colab-df-quickchart\" onclick=\"quickchart('df-22d310f9-1dd1-4491-b919-1a99d3563444')\"\n",
              "            title=\"Suggest charts\"\n",
              "            style=\"display:none;\">\n",
              "\n",
              "<svg xmlns=\"http://www.w3.org/2000/svg\" height=\"24px\"viewBox=\"0 0 24 24\"\n",
              "     width=\"24px\">\n",
              "    <g>\n",
              "        <path d=\"M19 3H5c-1.1 0-2 .9-2 2v14c0 1.1.9 2 2 2h14c1.1 0 2-.9 2-2V5c0-1.1-.9-2-2-2zM9 17H7v-7h2v7zm4 0h-2V7h2v10zm4 0h-2v-4h2v4z\"/>\n",
              "    </g>\n",
              "</svg>\n",
              "  </button>\n",
              "\n",
              "<style>\n",
              "  .colab-df-quickchart {\n",
              "      --bg-color: #E8F0FE;\n",
              "      --fill-color: #1967D2;\n",
              "      --hover-bg-color: #E2EBFA;\n",
              "      --hover-fill-color: #174EA6;\n",
              "      --disabled-fill-color: #AAA;\n",
              "      --disabled-bg-color: #DDD;\n",
              "  }\n",
              "\n",
              "  [theme=dark] .colab-df-quickchart {\n",
              "      --bg-color: #3B4455;\n",
              "      --fill-color: #D2E3FC;\n",
              "      --hover-bg-color: #434B5C;\n",
              "      --hover-fill-color: #FFFFFF;\n",
              "      --disabled-bg-color: #3B4455;\n",
              "      --disabled-fill-color: #666;\n",
              "  }\n",
              "\n",
              "  .colab-df-quickchart {\n",
              "    background-color: var(--bg-color);\n",
              "    border: none;\n",
              "    border-radius: 50%;\n",
              "    cursor: pointer;\n",
              "    display: none;\n",
              "    fill: var(--fill-color);\n",
              "    height: 32px;\n",
              "    padding: 0;\n",
              "    width: 32px;\n",
              "  }\n",
              "\n",
              "  .colab-df-quickchart:hover {\n",
              "    background-color: var(--hover-bg-color);\n",
              "    box-shadow: 0 1px 2px rgba(60, 64, 67, 0.3), 0 1px 3px 1px rgba(60, 64, 67, 0.15);\n",
              "    fill: var(--button-hover-fill-color);\n",
              "  }\n",
              "\n",
              "  .colab-df-quickchart-complete:disabled,\n",
              "  .colab-df-quickchart-complete:disabled:hover {\n",
              "    background-color: var(--disabled-bg-color);\n",
              "    fill: var(--disabled-fill-color);\n",
              "    box-shadow: none;\n",
              "  }\n",
              "\n",
              "  .colab-df-spinner {\n",
              "    border: 2px solid var(--fill-color);\n",
              "    border-color: transparent;\n",
              "    border-bottom-color: var(--fill-color);\n",
              "    animation:\n",
              "      spin 1s steps(1) infinite;\n",
              "  }\n",
              "\n",
              "  @keyframes spin {\n",
              "    0% {\n",
              "      border-color: transparent;\n",
              "      border-bottom-color: var(--fill-color);\n",
              "      border-left-color: var(--fill-color);\n",
              "    }\n",
              "    20% {\n",
              "      border-color: transparent;\n",
              "      border-left-color: var(--fill-color);\n",
              "      border-top-color: var(--fill-color);\n",
              "    }\n",
              "    30% {\n",
              "      border-color: transparent;\n",
              "      border-left-color: var(--fill-color);\n",
              "      border-top-color: var(--fill-color);\n",
              "      border-right-color: var(--fill-color);\n",
              "    }\n",
              "    40% {\n",
              "      border-color: transparent;\n",
              "      border-right-color: var(--fill-color);\n",
              "      border-top-color: var(--fill-color);\n",
              "    }\n",
              "    60% {\n",
              "      border-color: transparent;\n",
              "      border-right-color: var(--fill-color);\n",
              "    }\n",
              "    80% {\n",
              "      border-color: transparent;\n",
              "      border-right-color: var(--fill-color);\n",
              "      border-bottom-color: var(--fill-color);\n",
              "    }\n",
              "    90% {\n",
              "      border-color: transparent;\n",
              "      border-bottom-color: var(--fill-color);\n",
              "    }\n",
              "  }\n",
              "</style>\n",
              "\n",
              "  <script>\n",
              "    async function quickchart(key) {\n",
              "      const quickchartButtonEl =\n",
              "        document.querySelector('#' + key + ' button');\n",
              "      quickchartButtonEl.disabled = true;  // To prevent multiple clicks.\n",
              "      quickchartButtonEl.classList.add('colab-df-spinner');\n",
              "      try {\n",
              "        const charts = await google.colab.kernel.invokeFunction(\n",
              "            'suggestCharts', [key], {});\n",
              "      } catch (error) {\n",
              "        console.error('Error during call to suggestCharts:', error);\n",
              "      }\n",
              "      quickchartButtonEl.classList.remove('colab-df-spinner');\n",
              "      quickchartButtonEl.classList.add('colab-df-quickchart-complete');\n",
              "    }\n",
              "    (() => {\n",
              "      let quickchartButtonEl =\n",
              "        document.querySelector('#df-22d310f9-1dd1-4491-b919-1a99d3563444 button');\n",
              "      quickchartButtonEl.style.display =\n",
              "        google.colab.kernel.accessAllowed ? 'block' : 'none';\n",
              "    })();\n",
              "  </script>\n",
              "</div>\n",
              "\n",
              "    </div>\n",
              "  </div>\n"
            ],
            "application/vnd.google.colaboratory.intrinsic+json": {
              "type": "dataframe",
              "summary": "{\n  \"name\": \"display(x\",\n  \"rows\": 5,\n  \"fields\": [\n    {\n      \"column\": \"Company Name\",\n      \"properties\": {\n        \"dtype\": \"category\",\n        \"num_unique_values\": 2,\n        \"samples\": [\n          \"Suzuki\",\n          \"Toyota\"\n        ],\n        \"semantic_type\": \"\",\n        \"description\": \"\"\n      }\n    },\n    {\n      \"column\": \"Model Name\",\n      \"properties\": {\n        \"dtype\": \"string\",\n        \"num_unique_values\": 3,\n        \"samples\": [\n          \"Vitz\",\n          \"Corolla\"\n        ],\n        \"semantic_type\": \"\",\n        \"description\": \"\"\n      }\n    },\n    {\n      \"column\": \"Model Year\",\n      \"properties\": {\n        \"dtype\": \"number\",\n        \"std\": 3,\n        \"min\": 2010,\n        \"max\": 2019,\n        \"num_unique_values\": 3,\n        \"samples\": [\n          2017,\n          2019\n        ],\n        \"semantic_type\": \"\",\n        \"description\": \"\"\n      }\n    },\n    {\n      \"column\": \"Location\",\n      \"properties\": {\n        \"dtype\": \"string\",\n        \"num_unique_values\": 3,\n        \"samples\": [\n          \"Islamabad\",\n          \"KPK\"\n        ],\n        \"semantic_type\": \"\",\n        \"description\": \"\"\n      }\n    },\n    {\n      \"column\": \"Mileage\",\n      \"properties\": {\n        \"dtype\": \"number\",\n        \"std\": 48397,\n        \"min\": 9600,\n        \"max\": 120000,\n        \"num_unique_values\": 5,\n        \"samples\": [\n          11111,\n          120000\n        ],\n        \"semantic_type\": \"\",\n        \"description\": \"\"\n      }\n    },\n    {\n      \"column\": \"Engine Type\",\n      \"properties\": {\n        \"dtype\": \"category\",\n        \"num_unique_values\": 1,\n        \"samples\": [\n          \"Petrol\"\n        ],\n        \"semantic_type\": \"\",\n        \"description\": \"\"\n      }\n    },\n    {\n      \"column\": \"Engine Capacity\",\n      \"properties\": {\n        \"dtype\": \"number\",\n        \"std\": 320,\n        \"min\": 660,\n        \"max\": 1300,\n        \"num_unique_values\": 3,\n        \"samples\": [\n          1000\n        ],\n        \"semantic_type\": \"\",\n        \"description\": \"\"\n      }\n    },\n    {\n      \"column\": \"Color\",\n      \"properties\": {\n        \"dtype\": \"string\",\n        \"num_unique_values\": 3,\n        \"samples\": [\n          \"Silver\"\n        ],\n        \"semantic_type\": \"\",\n        \"description\": \"\"\n      }\n    },\n    {\n      \"column\": \"Assembly\",\n      \"properties\": {\n        \"dtype\": \"category\",\n        \"num_unique_values\": 2,\n        \"samples\": [\n          \"Local\"\n        ],\n        \"semantic_type\": \"\",\n        \"description\": \"\"\n      }\n    },\n    {\n      \"column\": \"Body Type\",\n      \"properties\": {\n        \"dtype\": \"category\",\n        \"num_unique_values\": 2,\n        \"samples\": [\n          \"Sedan\"\n        ],\n        \"semantic_type\": \"\",\n        \"description\": \"\"\n      }\n    },\n    {\n      \"column\": \"Transmission Type\",\n      \"properties\": {\n        \"dtype\": \"category\",\n        \"num_unique_values\": 2,\n        \"samples\": [\n          \"Manual\"\n        ],\n        \"semantic_type\": \"\",\n        \"description\": \"\"\n      }\n    },\n    {\n      \"column\": \"Registration Status\",\n      \"properties\": {\n        \"dtype\": \"category\",\n        \"num_unique_values\": 2,\n        \"samples\": [\n          \"Registered\"\n        ],\n        \"semantic_type\": \"\",\n        \"description\": \"\"\n      }\n    }\n  ]\n}"
            }
          },
          "metadata": {}
        },
        {
          "output_type": "display_data",
          "data": {
            "text/plain": [
              "0    2385000\n",
              "1     111000\n",
              "2    1530000\n",
              "3    1650000\n",
              "4    1435000\n",
              "Name: Price, dtype: int64"
            ],
            "text/html": [
              "<table border=\"1\" class=\"dataframe\">\n",
              "  <thead>\n",
              "    <tr style=\"text-align: right;\">\n",
              "      <th></th>\n",
              "      <th>Price</th>\n",
              "    </tr>\n",
              "  </thead>\n",
              "  <tbody>\n",
              "    <tr>\n",
              "      <th>0</th>\n",
              "      <td>2385000</td>\n",
              "    </tr>\n",
              "    <tr>\n",
              "      <th>1</th>\n",
              "      <td>111000</td>\n",
              "    </tr>\n",
              "    <tr>\n",
              "      <th>2</th>\n",
              "      <td>1530000</td>\n",
              "    </tr>\n",
              "    <tr>\n",
              "      <th>3</th>\n",
              "      <td>1650000</td>\n",
              "    </tr>\n",
              "    <tr>\n",
              "      <th>4</th>\n",
              "      <td>1435000</td>\n",
              "    </tr>\n",
              "  </tbody>\n",
              "</table><br><label><b>dtype:</b> int64</label>"
            ]
          },
          "metadata": {}
        }
      ]
    },
    {
      "cell_type": "code",
      "source": [
        "x.info()"
      ],
      "metadata": {
        "execution": {
          "iopub.status.busy": "2024-04-23T05:00:29.479740Z",
          "iopub.execute_input": "2024-04-23T05:00:29.480646Z",
          "iopub.status.idle": "2024-04-23T05:00:29.552084Z",
          "shell.execute_reply.started": "2024-04-23T05:00:29.480614Z",
          "shell.execute_reply": "2024-04-23T05:00:29.550826Z"
        },
        "trusted": true,
        "id": "IZ4DcR3ufEvo",
        "colab": {
          "base_uri": "https://localhost:8080/"
        },
        "outputId": "ed2b23e6-f546-46e8-8958-eb0d2ad3c025"
      },
      "execution_count": 31,
      "outputs": [
        {
          "output_type": "stream",
          "name": "stdout",
          "text": [
            "<class 'pandas.core.frame.DataFrame'>\n",
            "RangeIndex: 46022 entries, 0 to 46021\n",
            "Data columns (total 12 columns):\n",
            " #   Column               Non-Null Count  Dtype \n",
            "---  ------               --------------  ----- \n",
            " 0   Company Name         46022 non-null  object\n",
            " 1   Model Name           46022 non-null  object\n",
            " 2   Model Year           46022 non-null  int64 \n",
            " 3   Location             46022 non-null  object\n",
            " 4   Mileage              46022 non-null  int64 \n",
            " 5   Engine Type          46022 non-null  object\n",
            " 6   Engine Capacity      46022 non-null  int64 \n",
            " 7   Color                46022 non-null  object\n",
            " 8   Assembly             46022 non-null  object\n",
            " 9   Body Type            46022 non-null  object\n",
            " 10  Transmission Type    46022 non-null  object\n",
            " 11  Registration Status  46022 non-null  object\n",
            "dtypes: int64(3), object(9)\n",
            "memory usage: 4.2+ MB\n"
          ]
        }
      ]
    },
    {
      "cell_type": "code",
      "source": [
        "x.isna().sum()"
      ],
      "metadata": {
        "execution": {
          "iopub.status.busy": "2024-04-23T05:00:29.553929Z",
          "iopub.execute_input": "2024-04-23T05:00:29.554401Z",
          "iopub.status.idle": "2024-04-23T05:00:29.610250Z",
          "shell.execute_reply.started": "2024-04-23T05:00:29.554340Z",
          "shell.execute_reply": "2024-04-23T05:00:29.608783Z"
        },
        "trusted": true,
        "id": "MJGTpiKbfEvo",
        "colab": {
          "base_uri": "https://localhost:8080/",
          "height": 460
        },
        "outputId": "72eb0a16-a2ed-49f8-c8eb-bd62a2ba109f"
      },
      "execution_count": 32,
      "outputs": [
        {
          "output_type": "execute_result",
          "data": {
            "text/plain": [
              "Company Name           0\n",
              "Model Name             0\n",
              "Model Year             0\n",
              "Location               0\n",
              "Mileage                0\n",
              "Engine Type            0\n",
              "Engine Capacity        0\n",
              "Color                  0\n",
              "Assembly               0\n",
              "Body Type              0\n",
              "Transmission Type      0\n",
              "Registration Status    0\n",
              "dtype: int64"
            ],
            "text/html": [
              "<table border=\"1\" class=\"dataframe\">\n",
              "  <thead>\n",
              "    <tr style=\"text-align: right;\">\n",
              "      <th></th>\n",
              "      <th>0</th>\n",
              "    </tr>\n",
              "  </thead>\n",
              "  <tbody>\n",
              "    <tr>\n",
              "      <th>Company Name</th>\n",
              "      <td>0</td>\n",
              "    </tr>\n",
              "    <tr>\n",
              "      <th>Model Name</th>\n",
              "      <td>0</td>\n",
              "    </tr>\n",
              "    <tr>\n",
              "      <th>Model Year</th>\n",
              "      <td>0</td>\n",
              "    </tr>\n",
              "    <tr>\n",
              "      <th>Location</th>\n",
              "      <td>0</td>\n",
              "    </tr>\n",
              "    <tr>\n",
              "      <th>Mileage</th>\n",
              "      <td>0</td>\n",
              "    </tr>\n",
              "    <tr>\n",
              "      <th>Engine Type</th>\n",
              "      <td>0</td>\n",
              "    </tr>\n",
              "    <tr>\n",
              "      <th>Engine Capacity</th>\n",
              "      <td>0</td>\n",
              "    </tr>\n",
              "    <tr>\n",
              "      <th>Color</th>\n",
              "      <td>0</td>\n",
              "    </tr>\n",
              "    <tr>\n",
              "      <th>Assembly</th>\n",
              "      <td>0</td>\n",
              "    </tr>\n",
              "    <tr>\n",
              "      <th>Body Type</th>\n",
              "      <td>0</td>\n",
              "    </tr>\n",
              "    <tr>\n",
              "      <th>Transmission Type</th>\n",
              "      <td>0</td>\n",
              "    </tr>\n",
              "    <tr>\n",
              "      <th>Registration Status</th>\n",
              "      <td>0</td>\n",
              "    </tr>\n",
              "  </tbody>\n",
              "</table><br><label><b>dtype:</b> int64</label>"
            ]
          },
          "metadata": {},
          "execution_count": 32
        }
      ]
    },
    {
      "cell_type": "code",
      "source": [
        "#checking on the type of  the dataset\n",
        "type(car)"
      ],
      "metadata": {
        "execution": {
          "iopub.status.busy": "2024-04-23T05:00:29.612561Z",
          "iopub.execute_input": "2024-04-23T05:00:29.612995Z",
          "iopub.status.idle": "2024-04-23T05:00:29.621880Z",
          "shell.execute_reply.started": "2024-04-23T05:00:29.612957Z",
          "shell.execute_reply": "2024-04-23T05:00:29.620507Z"
        },
        "trusted": true,
        "id": "wfxlpVkifEvp",
        "colab": {
          "base_uri": "https://localhost:8080/",
          "height": 204
        },
        "outputId": "c8b54b4c-4463-445d-dae9-15aba0763264"
      },
      "execution_count": 33,
      "outputs": [
        {
          "output_type": "execute_result",
          "data": {
            "text/plain": [
              "pandas.core.frame.DataFrame"
            ],
            "text/html": [
              "<div style=\"max-width:800px; border: 1px solid var(--colab-border-color);\"><style>\n",
              "      pre.function-repr-contents {\n",
              "        overflow-x: auto;\n",
              "        padding: 8px 12px;\n",
              "        max-height: 500px;\n",
              "      }\n",
              "\n",
              "      pre.function-repr-contents.function-repr-contents-collapsed {\n",
              "        cursor: pointer;\n",
              "        max-height: 100px;\n",
              "      }\n",
              "    </style>\n",
              "    <pre style=\"white-space: initial; background:\n",
              "         var(--colab-secondary-surface-color); padding: 8px 12px;\n",
              "         border-bottom: 1px solid var(--colab-border-color);\"><b>pandas.core.frame.DataFrame</b><br/>def __init__(data=None, index: Axes | None=None, columns: Axes | None=None, dtype: Dtype | None=None, copy: bool | None=None) -&gt; None</pre><pre class=\"function-repr-contents function-repr-contents-collapsed\" style=\"\"><a class=\"filepath\" style=\"display:none\" href=\"#\">/usr/local/lib/python3.10/dist-packages/pandas/core/frame.py</a>Two-dimensional, size-mutable, potentially heterogeneous tabular data.\n",
              "\n",
              "Data structure also contains labeled axes (rows and columns).\n",
              "Arithmetic operations align on both row and column labels. Can be\n",
              "thought of as a dict-like container for Series objects. The primary\n",
              "pandas data structure.\n",
              "\n",
              "Parameters\n",
              "----------\n",
              "data : ndarray (structured or homogeneous), Iterable, dict, or DataFrame\n",
              "    Dict can contain Series, arrays, constants, dataclass or list-like objects. If\n",
              "    data is a dict, column order follows insertion-order. If a dict contains Series\n",
              "    which have an index defined, it is aligned by its index. This alignment also\n",
              "    occurs if data is a Series or a DataFrame itself. Alignment is done on\n",
              "    Series/DataFrame inputs.\n",
              "\n",
              "    If data is a list of dicts, column order follows insertion-order.\n",
              "\n",
              "index : Index or array-like\n",
              "    Index to use for resulting frame. Will default to RangeIndex if\n",
              "    no indexing information part of input data and no index provided.\n",
              "columns : Index or array-like\n",
              "    Column labels to use for resulting frame when data does not have them,\n",
              "    defaulting to RangeIndex(0, 1, 2, ..., n). If data contains column labels,\n",
              "    will perform column selection instead.\n",
              "dtype : dtype, default None\n",
              "    Data type to force. Only a single dtype is allowed. If None, infer.\n",
              "copy : bool or None, default None\n",
              "    Copy data from inputs.\n",
              "    For dict data, the default of None behaves like ``copy=True``.  For DataFrame\n",
              "    or 2d ndarray input, the default of None behaves like ``copy=False``.\n",
              "    If data is a dict containing one or more Series (possibly of different dtypes),\n",
              "    ``copy=False`` will ensure that these inputs are not copied.\n",
              "\n",
              "    .. versionchanged:: 1.3.0\n",
              "\n",
              "See Also\n",
              "--------\n",
              "DataFrame.from_records : Constructor from tuples, also record arrays.\n",
              "DataFrame.from_dict : From dicts of Series, arrays, or dicts.\n",
              "read_csv : Read a comma-separated values (csv) file into DataFrame.\n",
              "read_table : Read general delimited file into DataFrame.\n",
              "read_clipboard : Read text from clipboard into DataFrame.\n",
              "\n",
              "Notes\n",
              "-----\n",
              "Please reference the :ref:`User Guide &lt;basics.dataframe&gt;` for more information.\n",
              "\n",
              "Examples\n",
              "--------\n",
              "Constructing DataFrame from a dictionary.\n",
              "\n",
              "&gt;&gt;&gt; d = {&#x27;col1&#x27;: [1, 2], &#x27;col2&#x27;: [3, 4]}\n",
              "&gt;&gt;&gt; df = pd.DataFrame(data=d)\n",
              "&gt;&gt;&gt; df\n",
              "   col1  col2\n",
              "0     1     3\n",
              "1     2     4\n",
              "\n",
              "Notice that the inferred dtype is int64.\n",
              "\n",
              "&gt;&gt;&gt; df.dtypes\n",
              "col1    int64\n",
              "col2    int64\n",
              "dtype: object\n",
              "\n",
              "To enforce a single dtype:\n",
              "\n",
              "&gt;&gt;&gt; df = pd.DataFrame(data=d, dtype=np.int8)\n",
              "&gt;&gt;&gt; df.dtypes\n",
              "col1    int8\n",
              "col2    int8\n",
              "dtype: object\n",
              "\n",
              "Constructing DataFrame from a dictionary including Series:\n",
              "\n",
              "&gt;&gt;&gt; d = {&#x27;col1&#x27;: [0, 1, 2, 3], &#x27;col2&#x27;: pd.Series([2, 3], index=[2, 3])}\n",
              "&gt;&gt;&gt; pd.DataFrame(data=d, index=[0, 1, 2, 3])\n",
              "   col1  col2\n",
              "0     0   NaN\n",
              "1     1   NaN\n",
              "2     2   2.0\n",
              "3     3   3.0\n",
              "\n",
              "Constructing DataFrame from numpy ndarray:\n",
              "\n",
              "&gt;&gt;&gt; df2 = pd.DataFrame(np.array([[1, 2, 3], [4, 5, 6], [7, 8, 9]]),\n",
              "...                    columns=[&#x27;a&#x27;, &#x27;b&#x27;, &#x27;c&#x27;])\n",
              "&gt;&gt;&gt; df2\n",
              "   a  b  c\n",
              "0  1  2  3\n",
              "1  4  5  6\n",
              "2  7  8  9\n",
              "\n",
              "Constructing DataFrame from a numpy ndarray that has labeled columns:\n",
              "\n",
              "&gt;&gt;&gt; data = np.array([(1, 2, 3), (4, 5, 6), (7, 8, 9)],\n",
              "...                 dtype=[(&quot;a&quot;, &quot;i4&quot;), (&quot;b&quot;, &quot;i4&quot;), (&quot;c&quot;, &quot;i4&quot;)])\n",
              "&gt;&gt;&gt; df3 = pd.DataFrame(data, columns=[&#x27;c&#x27;, &#x27;a&#x27;])\n",
              "...\n",
              "&gt;&gt;&gt; df3\n",
              "   c  a\n",
              "0  3  1\n",
              "1  6  4\n",
              "2  9  7\n",
              "\n",
              "Constructing DataFrame from dataclass:\n",
              "\n",
              "&gt;&gt;&gt; from dataclasses import make_dataclass\n",
              "&gt;&gt;&gt; Point = make_dataclass(&quot;Point&quot;, [(&quot;x&quot;, int), (&quot;y&quot;, int)])\n",
              "&gt;&gt;&gt; pd.DataFrame([Point(0, 0), Point(0, 3), Point(2, 3)])\n",
              "   x  y\n",
              "0  0  0\n",
              "1  0  3\n",
              "2  2  3\n",
              "\n",
              "Constructing DataFrame from Series/DataFrame:\n",
              "\n",
              "&gt;&gt;&gt; ser = pd.Series([1, 2, 3], index=[&quot;a&quot;, &quot;b&quot;, &quot;c&quot;])\n",
              "&gt;&gt;&gt; df = pd.DataFrame(data=ser, index=[&quot;a&quot;, &quot;c&quot;])\n",
              "&gt;&gt;&gt; df\n",
              "   0\n",
              "a  1\n",
              "c  3\n",
              "\n",
              "&gt;&gt;&gt; df1 = pd.DataFrame([1, 2, 3], index=[&quot;a&quot;, &quot;b&quot;, &quot;c&quot;], columns=[&quot;x&quot;])\n",
              "&gt;&gt;&gt; df2 = pd.DataFrame(data=df1, index=[&quot;a&quot;, &quot;c&quot;])\n",
              "&gt;&gt;&gt; df2\n",
              "   x\n",
              "a  1\n",
              "c  3</pre>\n",
              "      <script>\n",
              "      if (google.colab.kernel.accessAllowed && google.colab.files && google.colab.files.view) {\n",
              "        for (const element of document.querySelectorAll('.filepath')) {\n",
              "          element.style.display = 'block'\n",
              "          element.onclick = (event) => {\n",
              "            event.preventDefault();\n",
              "            event.stopPropagation();\n",
              "            google.colab.files.view(element.textContent, 491);\n",
              "          };\n",
              "        }\n",
              "      }\n",
              "      for (const element of document.querySelectorAll('.function-repr-contents')) {\n",
              "        element.onclick = (event) => {\n",
              "          event.preventDefault();\n",
              "          event.stopPropagation();\n",
              "          element.classList.toggle('function-repr-contents-collapsed');\n",
              "        };\n",
              "      }\n",
              "      </script>\n",
              "      </div>"
            ]
          },
          "metadata": {},
          "execution_count": 33
        }
      ]
    },
    {
      "cell_type": "code",
      "source": [
        "#checking the number of rows and columns\n",
        "car.shape"
      ],
      "metadata": {
        "execution": {
          "iopub.status.busy": "2024-04-23T05:00:29.624084Z",
          "iopub.execute_input": "2024-04-23T05:00:29.624542Z",
          "iopub.status.idle": "2024-04-23T05:00:29.633616Z",
          "shell.execute_reply.started": "2024-04-23T05:00:29.624502Z",
          "shell.execute_reply": "2024-04-23T05:00:29.632277Z"
        },
        "trusted": true,
        "id": "CrTfHzVTfEvp",
        "colab": {
          "base_uri": "https://localhost:8080/"
        },
        "outputId": "95da0507-64de-4656-ab48-fa628dca28e9"
      },
      "execution_count": 34,
      "outputs": [
        {
          "output_type": "execute_result",
          "data": {
            "text/plain": [
              "(46022, 13)"
            ]
          },
          "metadata": {},
          "execution_count": 34
        }
      ]
    },
    {
      "cell_type": "code",
      "source": [
        "#checing if there are any missing values presented in the dataset\n",
        "car.isna().sum()"
      ],
      "metadata": {
        "execution": {
          "iopub.status.busy": "2024-04-23T05:00:29.635278Z",
          "iopub.execute_input": "2024-04-23T05:00:29.635652Z",
          "iopub.status.idle": "2024-04-23T05:00:29.690518Z",
          "shell.execute_reply.started": "2024-04-23T05:00:29.635622Z",
          "shell.execute_reply": "2024-04-23T05:00:29.689343Z"
        },
        "trusted": true,
        "id": "8_iyYJ4vfEvp",
        "colab": {
          "base_uri": "https://localhost:8080/",
          "height": 491
        },
        "outputId": "e0ca0b2f-f46b-488d-c4c6-6c542e0f19ff"
      },
      "execution_count": 35,
      "outputs": [
        {
          "output_type": "execute_result",
          "data": {
            "text/plain": [
              "Company Name           0\n",
              "Model Name             0\n",
              "Price                  0\n",
              "Model Year             0\n",
              "Location               0\n",
              "Mileage                0\n",
              "Engine Type            0\n",
              "Engine Capacity        0\n",
              "Color                  0\n",
              "Assembly               0\n",
              "Body Type              0\n",
              "Transmission Type      0\n",
              "Registration Status    0\n",
              "dtype: int64"
            ],
            "text/html": [
              "<table border=\"1\" class=\"dataframe\">\n",
              "  <thead>\n",
              "    <tr style=\"text-align: right;\">\n",
              "      <th></th>\n",
              "      <th>0</th>\n",
              "    </tr>\n",
              "  </thead>\n",
              "  <tbody>\n",
              "    <tr>\n",
              "      <th>Company Name</th>\n",
              "      <td>0</td>\n",
              "    </tr>\n",
              "    <tr>\n",
              "      <th>Model Name</th>\n",
              "      <td>0</td>\n",
              "    </tr>\n",
              "    <tr>\n",
              "      <th>Price</th>\n",
              "      <td>0</td>\n",
              "    </tr>\n",
              "    <tr>\n",
              "      <th>Model Year</th>\n",
              "      <td>0</td>\n",
              "    </tr>\n",
              "    <tr>\n",
              "      <th>Location</th>\n",
              "      <td>0</td>\n",
              "    </tr>\n",
              "    <tr>\n",
              "      <th>Mileage</th>\n",
              "      <td>0</td>\n",
              "    </tr>\n",
              "    <tr>\n",
              "      <th>Engine Type</th>\n",
              "      <td>0</td>\n",
              "    </tr>\n",
              "    <tr>\n",
              "      <th>Engine Capacity</th>\n",
              "      <td>0</td>\n",
              "    </tr>\n",
              "    <tr>\n",
              "      <th>Color</th>\n",
              "      <td>0</td>\n",
              "    </tr>\n",
              "    <tr>\n",
              "      <th>Assembly</th>\n",
              "      <td>0</td>\n",
              "    </tr>\n",
              "    <tr>\n",
              "      <th>Body Type</th>\n",
              "      <td>0</td>\n",
              "    </tr>\n",
              "    <tr>\n",
              "      <th>Transmission Type</th>\n",
              "      <td>0</td>\n",
              "    </tr>\n",
              "    <tr>\n",
              "      <th>Registration Status</th>\n",
              "      <td>0</td>\n",
              "    </tr>\n",
              "  </tbody>\n",
              "</table><br><label><b>dtype:</b> int64</label>"
            ]
          },
          "metadata": {},
          "execution_count": 35
        }
      ]
    },
    {
      "cell_type": "code",
      "source": [
        "#checking for the unique values in each columns\n",
        "uniqueValues = car.nunique()\n",
        "print(uniqueValues)"
      ],
      "metadata": {
        "execution": {
          "iopub.status.busy": "2024-04-23T05:00:29.692177Z",
          "iopub.execute_input": "2024-04-23T05:00:29.692637Z",
          "iopub.status.idle": "2024-04-23T05:00:29.745642Z",
          "shell.execute_reply.started": "2024-04-23T05:00:29.692599Z",
          "shell.execute_reply": "2024-04-23T05:00:29.744084Z"
        },
        "trusted": true,
        "id": "Jx-2MvtifEvq",
        "colab": {
          "base_uri": "https://localhost:8080/"
        },
        "outputId": "d699d9e5-de67-4053-e213-0e7ad1c0e794"
      },
      "execution_count": 36,
      "outputs": [
        {
          "output_type": "stream",
          "name": "stdout",
          "text": [
            "Company Name             31\n",
            "Model Name              196\n",
            "Price                  1419\n",
            "Model Year               30\n",
            "Location                  6\n",
            "Mileage                5573\n",
            "Engine Type               3\n",
            "Engine Capacity          75\n",
            "Color                    24\n",
            "Assembly                  2\n",
            "Body Type                 6\n",
            "Transmission Type         2\n",
            "Registration Status       2\n",
            "dtype: int64\n"
          ]
        }
      ]
    },
    {
      "cell_type": "code",
      "source": [
        "#Cheaking for duplicate values in rows\n",
        "duplicate=car.duplicated().sum()\n",
        "print(duplicate)"
      ],
      "metadata": {
        "execution": {
          "iopub.status.busy": "2024-04-23T05:00:29.747960Z",
          "iopub.execute_input": "2024-04-23T05:00:29.748542Z",
          "iopub.status.idle": "2024-04-23T05:00:29.817730Z",
          "shell.execute_reply.started": "2024-04-23T05:00:29.748496Z",
          "shell.execute_reply": "2024-04-23T05:00:29.816410Z"
        },
        "trusted": true,
        "id": "6UzlCHgffEvq",
        "colab": {
          "base_uri": "https://localhost:8080/"
        },
        "outputId": "542ada61-1c56-4665-cb2a-932c5e2503bc"
      },
      "execution_count": 37,
      "outputs": [
        {
          "output_type": "stream",
          "name": "stdout",
          "text": [
            "815\n"
          ]
        }
      ]
    },
    {
      "cell_type": "markdown",
      "source": [
        "\n",
        "*  No duplicate rows.\n",
        "\n",
        "\n"
      ],
      "metadata": {
        "id": "tIwwSNM6fEvq"
      }
    },
    {
      "cell_type": "markdown",
      "source": [
        "#4) Exploratory Data Analysis (EDA)\n",
        "\n",
        "\n"
      ],
      "metadata": {
        "id": "ywOkQEeOfEvr"
      }
    },
    {
      "cell_type": "code",
      "source": [
        "#cheaking heighest price for company name\n",
        "plt.figure(figsize=(10,6),dpi=80)\n",
        "s=car.groupby('Company Name')[['Price']].sum().sort_values('Price',ascending=False).head(10)\n",
        "sns.barplot(x=s.index,y='Price',data=s)\n",
        "plt.title('Heighest Price for company name')"
      ],
      "metadata": {
        "execution": {
          "iopub.status.busy": "2024-04-23T05:00:30.743666Z",
          "iopub.execute_input": "2024-04-23T05:00:30.744024Z",
          "iopub.status.idle": "2024-04-23T05:00:32.087915Z",
          "shell.execute_reply.started": "2024-04-23T05:00:30.743995Z",
          "shell.execute_reply": "2024-04-23T05:00:32.086739Z"
        },
        "trusted": true,
        "id": "pd1wyiQQfEvr",
        "colab": {
          "base_uri": "https://localhost:8080/",
          "height": 469
        },
        "outputId": "5fc35cfc-d367-4748-ee5a-d780b33eff34"
      },
      "execution_count": null,
      "outputs": [
        {
          "output_type": "execute_result",
          "data": {
            "text/plain": [
              "Text(0.5, 1.0, 'Heighest Price for company name')"
            ]
          },
          "metadata": {},
          "execution_count": 17
        },
        {
          "output_type": "display_data",
          "data": {
            "text/plain": [
              "<Figure size 800x480 with 1 Axes>"
            ],
            "image/png": "[encoded data removed]"
          },
          "metadata": {}
        }
      ]
    },
    {
      "cell_type": "markdown",
      "source": [
        "* Toyota is a heighest price in companys"
      ],
      "metadata": {
        "id": "g_cZDz8efEvr"
      }
    },
    {
      "cell_type": "code",
      "source": [
        "# Cheaking Distribution of Cars by Company Name\n",
        "car_c_name = car['Company Name'].value_counts()\n",
        "car_c_name.plot(kind = 'bar', color = 'palevioletred', figsize = (8,4))\n",
        "plt.title('Distribution of Cars by Company Name')"
      ],
      "metadata": {
        "execution": {
          "iopub.status.busy": "2024-04-23T05:00:32.089413Z",
          "iopub.execute_input": "2024-04-23T05:00:32.089966Z",
          "iopub.status.idle": "2024-04-23T05:00:32.725908Z",
          "shell.execute_reply.started": "2024-04-23T05:00:32.089933Z",
          "shell.execute_reply": "2024-04-23T05:00:32.725017Z"
        },
        "trusted": true,
        "id": "Sc488F4ofEvr",
        "colab": {
          "base_uri": "https://localhost:8080/",
          "height": 489
        },
        "outputId": "873e4a3b-62c1-48d7-deae-d7dcb47ae623"
      },
      "execution_count": null,
      "outputs": [
        {
          "output_type": "execute_result",
          "data": {
            "text/plain": [
              "Text(0.5, 1.0, 'Distribution of Cars by Company Name')"
            ]
          },
          "metadata": {},
          "execution_count": 18
        },
        {
          "output_type": "display_data",
          "data": {
            "text/plain": [
              "<Figure size 800x400 with 1 Axes>"
            ],
            "image/png": "[encoded data removed]"
          },
          "metadata": {}
        }
      ]
    },
    {
      "cell_type": "markdown",
      "source": [
        "*  Suzuki and Toyota cars have the highest distribution."
      ],
      "metadata": {
        "id": "iRomSe7QfEvs"
      }
    },
    {
      "cell_type": "code",
      "source": [
        "#Cheaking for mostly car prices range\n",
        "car_price = car['Price']\n",
        "plt.ticklabel_format(style = 'plain')\n",
        "car_price.plot(kind = 'hist', color = 'limegreen', figsize = (8,5))\n",
        "plt.title('Histogram of Car Prices')"
      ],
      "metadata": {
        "execution": {
          "iopub.status.busy": "2024-04-23T05:00:32.727097Z",
          "iopub.execute_input": "2024-04-23T05:00:32.728112Z",
          "iopub.status.idle": "2024-04-23T05:00:33.123124Z",
          "shell.execute_reply.started": "2024-04-23T05:00:32.728078Z",
          "shell.execute_reply": "2024-04-23T05:00:33.121818Z"
        },
        "trusted": true,
        "id": "6lRpt35AfEvs",
        "colab": {
          "base_uri": "https://localhost:8080/",
          "height": 486
        },
        "outputId": "a8589fda-8fc9-4100-d15c-b00e7de543ad"
      },
      "execution_count": null,
      "outputs": [
        {
          "output_type": "execute_result",
          "data": {
            "text/plain": [
              "Text(0.5, 1.0, 'Histogram of Car Prices')"
            ]
          },
          "metadata": {},
          "execution_count": 19
        },
        {
          "output_type": "display_data",
          "data": {
            "text/plain": [
              "<Figure size 800x500 with 1 Axes>"
            ],
            "image/png": "[encoded data removed]"
          },
          "metadata": {}
        }
      ]
    },
    {
      "cell_type": "markdown",
      "source": [
        "* Mostly the car prices are within the range of 0 to 1000000."
      ],
      "metadata": {
        "id": "JfKpekCnfEvs"
      }
    },
    {
      "cell_type": "code",
      "source": [
        "#Cheaking highly frequency start from the year\n",
        "car_year = car['Model Year']\n",
        "car_year.plot(kind = 'hist', color = 'palevioletred', figsize = (8,5))\n",
        "plt.title('Histogram of Car Model Years')"
      ],
      "metadata": {
        "execution": {
          "iopub.status.busy": "2024-04-23T05:00:33.125908Z",
          "iopub.execute_input": "2024-04-23T05:00:33.126462Z",
          "iopub.status.idle": "2024-04-23T05:00:33.523827Z",
          "shell.execute_reply.started": "2024-04-23T05:00:33.126416Z",
          "shell.execute_reply": "2024-04-23T05:00:33.522248Z"
        },
        "trusted": true,
        "id": "4ySE515pfEvs",
        "colab": {
          "base_uri": "https://localhost:8080/",
          "height": 486
        },
        "outputId": "32c83683-e59c-4b15-ed31-d6c6c65b752a"
      },
      "execution_count": null,
      "outputs": [
        {
          "output_type": "execute_result",
          "data": {
            "text/plain": [
              "Text(0.5, 1.0, 'Histogram of Car Model Years')"
            ]
          },
          "metadata": {},
          "execution_count": 20
        },
        {
          "output_type": "display_data",
          "data": {
            "text/plain": [
              "<Figure size 800x500 with 1 Axes>"
            ],
            "image/png": "[encoded data removed]"
          },
          "metadata": {}
        }
      ]
    },
    {
      "cell_type": "markdown",
      "source": [
        "*  **The car's model year with high frequency starts from the year 2010.**"
      ],
      "metadata": {
        "id": "s4o4AXELfEvs"
      }
    },
    {
      "cell_type": "code",
      "source": [
        "# Cheaking the location for mostly car available\n",
        "car_location = car['Location'].value_counts()\n",
        "car_location.plot(kind = 'pie', figsize = (6,6), autopct='%1.1f%%')\n",
        "plt.title('Pie Chart of Car Distribution by Location')"
      ],
      "metadata": {
        "execution": {
          "iopub.status.busy": "2024-04-23T05:00:33.525458Z",
          "iopub.execute_input": "2024-04-23T05:00:33.525808Z",
          "iopub.status.idle": "2024-04-23T05:00:33.824920Z",
          "shell.execute_reply.started": "2024-04-23T05:00:33.525777Z",
          "shell.execute_reply": "2024-04-23T05:00:33.823413Z"
        },
        "trusted": true,
        "id": "5R5MMe3jfEvs",
        "colab": {
          "base_uri": "https://localhost:8080/",
          "height": 539
        },
        "outputId": "6dbc1443-9878-4415-8880-8d5a7811f0d5"
      },
      "execution_count": null,
      "outputs": [
        {
          "output_type": "execute_result",
          "data": {
            "text/plain": [
              "Text(0.5, 1.0, 'Pie Chart of Car Distribution by Location')"
            ]
          },
          "metadata": {},
          "execution_count": 21
        },
        {
          "output_type": "display_data",
          "data": {
            "text/plain": [
              "<Figure size 600x600 with 1 Axes>"
            ],
            "image/png": "[encoded data removed]"
          },
          "metadata": {}
        }
      ]
    },
    {
      "cell_type": "markdown",
      "source": [
        "- 53.7% of the car is available at the Punjab location."
      ],
      "metadata": {
        "id": "5EZvTqJkfEvt"
      }
    },
    {
      "cell_type": "code",
      "source": [
        "#Cheaking the mostly used for car engine type\n",
        "car_engine = car['Engine Type'].value_counts()\n",
        "car_engine.plot(kind = 'bar', color = 'limegreen', figsize = (8,5))\n",
        "plt.title('Distribution of Cars by Engine Type')"
      ],
      "metadata": {
        "execution": {
          "iopub.status.busy": "2024-04-23T05:00:33.826637Z",
          "iopub.execute_input": "2024-04-23T05:00:33.827647Z",
          "iopub.status.idle": "2024-04-23T05:00:34.171424Z",
          "shell.execute_reply.started": "2024-04-23T05:00:33.827606Z",
          "shell.execute_reply": "2024-04-23T05:00:34.170090Z"
        },
        "trusted": true,
        "id": "mWe52f-BfEvt",
        "colab": {
          "base_uri": "https://localhost:8080/",
          "height": 537
        },
        "outputId": "11a0f659-5829-4002-dacf-efb748cdf112"
      },
      "execution_count": null,
      "outputs": [
        {
          "output_type": "execute_result",
          "data": {
            "text/plain": [
              "Text(0.5, 1.0, 'Distribution of Cars by Engine Type')"
            ]
          },
          "metadata": {},
          "execution_count": 22
        },
        {
          "output_type": "display_data",
          "data": {
            "text/plain": [
              "<Figure size 800x500 with 1 Axes>"
            ],
            "image/png": "[encoded data removed]"
          },
          "metadata": {}
        }
      ]
    },
    {
      "cell_type": "markdown",
      "source": [
        "- Most widely used engine type among the cars is the petrol engine type."
      ],
      "metadata": {
        "id": "VpIG3ZVufEvt"
      }
    },
    {
      "cell_type": "code",
      "source": [
        "car_color = car['Color'].value_counts()\n",
        "car_color.plot(kind = 'bar', color = 'palevioletred', figsize = (7,5))\n",
        "plt.title('Distribution of Cars by Colors')"
      ],
      "metadata": {
        "execution": {
          "iopub.status.busy": "2024-04-23T05:00:34.173496Z",
          "iopub.execute_input": "2024-04-23T05:00:34.173924Z",
          "iopub.status.idle": "2024-04-23T05:00:34.757344Z",
          "shell.execute_reply.started": "2024-04-23T05:00:34.173879Z",
          "shell.execute_reply": "2024-04-23T05:00:34.756146Z"
        },
        "trusted": true,
        "id": "c1dx1_WMfEvt",
        "colab": {
          "base_uri": "https://localhost:8080/",
          "height": 558
        },
        "outputId": "ac86a351-82d9-4cf0-f5d5-9f6b9dd4e5d3"
      },
      "execution_count": null,
      "outputs": [
        {
          "output_type": "execute_result",
          "data": {
            "text/plain": [
              "Text(0.5, 1.0, 'Distribution of Cars by Colors')"
            ]
          },
          "metadata": {},
          "execution_count": 23
        },
        {
          "output_type": "display_data",
          "data": {
            "text/plain": [
              "<Figure size 700x500 with 1 Axes>"
            ],
            "image/png": "[encoded data removed]"
          },
          "metadata": {}
        }
      ]
    },
    {
      "cell_type": "markdown",
      "source": [
        "- Most of the cars are white in color."
      ],
      "metadata": {
        "id": "uIHPZyeWfEvt"
      }
    },
    {
      "cell_type": "code",
      "source": [
        "car_assembly = car['Assembly'].value_counts()\n",
        "car_assembly.plot(kind = 'bar', color = 'limegreen', figsize = (8,5))\n",
        "plt.title('Distribution of Cars by Assembly')"
      ],
      "metadata": {
        "execution": {
          "iopub.status.busy": "2024-04-23T05:00:34.759515Z",
          "iopub.execute_input": "2024-04-23T05:00:34.759886Z",
          "iopub.status.idle": "2024-04-23T05:00:35.098049Z",
          "shell.execute_reply.started": "2024-04-23T05:00:34.759854Z",
          "shell.execute_reply": "2024-04-23T05:00:35.097105Z"
        },
        "trusted": true,
        "id": "HAk355BWfEvu",
        "colab": {
          "base_uri": "https://localhost:8080/",
          "height": 555
        },
        "outputId": "a649b1b5-1088-4530-f72f-dd91e87de2d9"
      },
      "execution_count": null,
      "outputs": [
        {
          "output_type": "execute_result",
          "data": {
            "text/plain": [
              "Text(0.5, 1.0, 'Distribution of Cars by Assembly')"
            ]
          },
          "metadata": {},
          "execution_count": 24
        },
        {
          "output_type": "display_data",
          "data": {
            "text/plain": [
              "<Figure size 800x500 with 1 Axes>"
            ],
            "image/png": "[encoded data removed]"
          },
          "metadata": {}
        }
      ]
    },
    {
      "cell_type": "markdown",
      "source": [
        "- The cars are mostly assembled locally."
      ],
      "metadata": {
        "id": "YU55v0WWfEvu"
      }
    },
    {
      "cell_type": "code",
      "source": [
        "car_b_type = car['Body Type'].value_counts()\n",
        "car_b_type.plot(kind = 'bar', color = 'palevioletred', figsize = (8,5))\n",
        "plt.title('Distribution of Cars by Body Type')"
      ],
      "metadata": {
        "execution": {
          "iopub.status.busy": "2024-04-23T05:00:35.099253Z",
          "iopub.execute_input": "2024-04-23T05:00:35.100399Z",
          "iopub.status.idle": "2024-04-23T05:00:35.452655Z",
          "shell.execute_reply.started": "2024-04-23T05:00:35.100337Z",
          "shell.execute_reply": "2024-04-23T05:00:35.451035Z"
        },
        "trusted": true,
        "id": "C2ETXuk0fEvv",
        "colab": {
          "base_uri": "https://localhost:8080/",
          "height": 567
        },
        "outputId": "9b3f88b4-a6d7-4123-de66-4d3e3413a402"
      },
      "execution_count": null,
      "outputs": [
        {
          "output_type": "execute_result",
          "data": {
            "text/plain": [
              "Text(0.5, 1.0, 'Distribution of Cars by Body Type')"
            ]
          },
          "metadata": {},
          "execution_count": 25
        },
        {
          "output_type": "display_data",
          "data": {
            "text/plain": [
              "<Figure size 800x500 with 1 Axes>"
            ],
            "image/png": "[encoded data removed]"
          },
          "metadata": {}
        }
      ]
    },
    {
      "cell_type": "markdown",
      "source": [
        "- There are six diffrent types of car body type where hatchback is the highest type."
      ],
      "metadata": {
        "id": "Ouu5ql0YfEvw"
      }
    },
    {
      "cell_type": "code",
      "source": [
        "car_t_type = car['Transmission Type'].value_counts()\n",
        "car_t_type.plot(kind = 'bar', color = 'limegreen', figsize = (8,5))\n",
        "plt.title('Distribution of Cars by Transmission Type')"
      ],
      "metadata": {
        "execution": {
          "iopub.status.busy": "2024-04-23T05:00:35.454279Z",
          "iopub.execute_input": "2024-04-23T05:00:35.454655Z",
          "iopub.status.idle": "2024-04-23T05:00:35.780645Z",
          "shell.execute_reply.started": "2024-04-23T05:00:35.454625Z",
          "shell.execute_reply": "2024-04-23T05:00:35.779277Z"
        },
        "trusted": true,
        "id": "UrruwfjRfEvx",
        "colab": {
          "base_uri": "https://localhost:8080/",
          "height": 562
        },
        "outputId": "a14a922a-abff-44d4-fe7e-425a6c4f29da"
      },
      "execution_count": null,
      "outputs": [
        {
          "output_type": "execute_result",
          "data": {
            "text/plain": [
              "Text(0.5, 1.0, 'Distribution of Cars by Transmission Type')"
            ]
          },
          "metadata": {},
          "execution_count": 26
        },
        {
          "output_type": "display_data",
          "data": {
            "text/plain": [
              "<Figure size 800x500 with 1 Axes>"
            ],
            "image/png": "[encoded data removed]"
          },
          "metadata": {}
        }
      ]
    },
    {
      "cell_type": "markdown",
      "source": [
        "- Manual transmission type has the highest distribution."
      ],
      "metadata": {
        "id": "sEFVW_B8fEvx"
      }
    },
    {
      "cell_type": "code",
      "source": [
        "car_r_status = car['Registration Status'].value_counts()\n",
        "car_r_status.plot(kind = 'pie', figsize = (6,6), autopct='%1.1f%%')\n",
        "plt.title('Percentage Distribution of Cars by Registration Status')"
      ],
      "metadata": {
        "execution": {
          "iopub.status.busy": "2024-04-23T05:00:35.782969Z",
          "iopub.execute_input": "2024-04-23T05:00:35.783452Z",
          "iopub.status.idle": "2024-04-23T05:00:36.031337Z",
          "shell.execute_reply.started": "2024-04-23T05:00:35.783410Z",
          "shell.execute_reply": "2024-04-23T05:00:36.030135Z"
        },
        "trusted": true,
        "id": "qa7UPbcmfEvx",
        "colab": {
          "base_uri": "https://localhost:8080/",
          "height": 539
        },
        "outputId": "c1226d4e-f81d-45c6-c4e6-9c3f6d40ae01"
      },
      "execution_count": null,
      "outputs": [
        {
          "output_type": "execute_result",
          "data": {
            "text/plain": [
              "Text(0.5, 1.0, 'Percentage Distribution of Cars by Registration Status')"
            ]
          },
          "metadata": {},
          "execution_count": 27
        },
        {
          "output_type": "display_data",
          "data": {
            "text/plain": [
              "<Figure size 600x600 with 1 Axes>"
            ],
            "image/png": "[encoded data removed]"
          },
          "metadata": {}
        }
      ]
    },
    {
      "cell_type": "markdown",
      "source": [
        "- Only 7.2% of the cars are un-registered."
      ],
      "metadata": {
        "id": "RY8Yr_NzfEvx"
      }
    },
    {
      "cell_type": "markdown",
      "source": [
        "#5) Data Pre-Processing"
      ],
      "metadata": {
        "id": "30SnrKyvfEvx"
      }
    },
    {
      "cell_type": "code",
      "source": [
        "car_str=car.copy()\n",
        "car_str.head()"
      ],
      "metadata": {
        "colab": {
          "base_uri": "https://localhost:8080/",
          "height": 243
        },
        "id": "VmXym40A01wj",
        "outputId": "9cc0e3c5-7e5c-42a4-987b-16063c9b5951"
      },
      "execution_count": null,
      "outputs": [
        {
          "output_type": "execute_result",
          "data": {
            "text/plain": [
              "  Company Name Model Name    Price  Model Year   Location  Mileage  \\\n",
              "0       Toyota       Vitz  2385000        2017  Islamabad     9869   \n",
              "1       Toyota    Corolla   111000        2019        KPK    11111   \n",
              "2       Suzuki       Alto  1530000        2019        KPK    17500   \n",
              "3       Suzuki       Alto  1650000        2019     Punjab     9600   \n",
              "4       Toyota    Corolla  1435000        2010  Islamabad   120000   \n",
              "\n",
              "  Engine Type  Engine Capacity   Color  Assembly  Body Type Transmission Type  \\\n",
              "0      Petrol             1000  Silver  Imported  Hatchback         Automatic   \n",
              "1      Petrol             1300   White     Local      Sedan         Automatic   \n",
              "2      Petrol              660   White     Local  Hatchback         Automatic   \n",
              "3      Petrol              660   White     Local  Hatchback            Manual   \n",
              "4      Petrol             1300   Black     Local      Sedan            Manual   \n",
              "\n",
              "  Registration Status  \n",
              "0       Un-Registered  \n",
              "1          Registered  \n",
              "2       Un-Registered  \n",
              "3          Registered  \n",
              "4          Registered  "
            ],
            "text/html": [
              "\n",
              "  <div id=\"df-4118d2a2-8d79-48f6-b44f-e06be3ae6a58\" class=\"colab-df-container\">\n",
              "    <div>\n",
              "<style scoped>\n",
              "    .dataframe tbody tr th:only-of-type {\n",
              "        vertical-align: middle;\n",
              "    }\n",
              "\n",
              "    .dataframe tbody tr th {\n",
              "        vertical-align: top;\n",
              "    }\n",
              "\n",
              "    .dataframe thead th {\n",
              "        text-align: right;\n",
              "    }\n",
              "</style>\n",
              "<table border=\"1\" class=\"dataframe\">\n",
              "  <thead>\n",
              "    <tr style=\"text-align: right;\">\n",
              "      <th></th>\n",
              "      <th>Company Name</th>\n",
              "      <th>Model Name</th>\n",
              "      <th>Price</th>\n",
              "      <th>Model Year</th>\n",
              "      <th>Location</th>\n",
              "      <th>Mileage</th>\n",
              "      <th>Engine Type</th>\n",
              "      <th>Engine Capacity</th>\n",
              "      <th>Color</th>\n",
              "      <th>Assembly</th>\n",
              "      <th>Body Type</th>\n",
              "      <th>Transmission Type</th>\n",
              "      <th>Registration Status</th>\n",
              "    </tr>\n",
              "  </thead>\n",
              "  <tbody>\n",
              "    <tr>\n",
              "      <th>0</th>\n",
              "      <td>Toyota</td>\n",
              "      <td>Vitz</td>\n",
              "      <td>2385000</td>\n",
              "      <td>2017</td>\n",
              "      <td>Islamabad</td>\n",
              "      <td>9869</td>\n",
              "      <td>Petrol</td>\n",
              "      <td>1000</td>\n",
              "      <td>Silver</td>\n",
              "      <td>Imported</td>\n",
              "      <td>Hatchback</td>\n",
              "      <td>Automatic</td>\n",
              "      <td>Un-Registered</td>\n",
              "    </tr>\n",
              "    <tr>\n",
              "      <th>1</th>\n",
              "      <td>Toyota</td>\n",
              "      <td>Corolla</td>\n",
              "      <td>111000</td>\n",
              "      <td>2019</td>\n",
              "      <td>KPK</td>\n",
              "      <td>11111</td>\n",
              "      <td>Petrol</td>\n",
              "      <td>1300</td>\n",
              "      <td>White</td>\n",
              "      <td>Local</td>\n",
              "      <td>Sedan</td>\n",
              "      <td>Automatic</td>\n",
              "      <td>Registered</td>\n",
              "    </tr>\n",
              "    <tr>\n",
              "      <th>2</th>\n",
              "      <td>Suzuki</td>\n",
              "      <td>Alto</td>\n",
              "      <td>1530000</td>\n",
              "      <td>2019</td>\n",
              "      <td>KPK</td>\n",
              "      <td>17500</td>\n",
              "      <td>Petrol</td>\n",
              "      <td>660</td>\n",
              "      <td>White</td>\n",
              "      <td>Local</td>\n",
              "      <td>Hatchback</td>\n",
              "      <td>Automatic</td>\n",
              "      <td>Un-Registered</td>\n",
              "    </tr>\n",
              "    <tr>\n",
              "      <th>3</th>\n",
              "      <td>Suzuki</td>\n",
              "      <td>Alto</td>\n",
              "      <td>1650000</td>\n",
              "      <td>2019</td>\n",
              "      <td>Punjab</td>\n",
              "      <td>9600</td>\n",
              "      <td>Petrol</td>\n",
              "      <td>660</td>\n",
              "      <td>White</td>\n",
              "      <td>Local</td>\n",
              "      <td>Hatchback</td>\n",
              "      <td>Manual</td>\n",
              "      <td>Registered</td>\n",
              "    </tr>\n",
              "    <tr>\n",
              "      <th>4</th>\n",
              "      <td>Toyota</td>\n",
              "      <td>Corolla</td>\n",
              "      <td>1435000</td>\n",
              "      <td>2010</td>\n",
              "      <td>Islamabad</td>\n",
              "      <td>120000</td>\n",
              "      <td>Petrol</td>\n",
              "      <td>1300</td>\n",
              "      <td>Black</td>\n",
              "      <td>Local</td>\n",
              "      <td>Sedan</td>\n",
              "      <td>Manual</td>\n",
              "      <td>Registered</td>\n",
              "    </tr>\n",
              "  </tbody>\n",
              "</table>\n",
              "</div>\n",
              "    <div class=\"colab-df-buttons\">\n",
              "\n",
              "  <div class=\"colab-df-container\">\n",
              "    <button class=\"colab-df-convert\" onclick=\"convertToInteractive('df-4118d2a2-8d79-48f6-b44f-e06be3ae6a58')\"\n",
              "            title=\"Convert this dataframe to an interactive table.\"\n",
              "            style=\"display:none;\">\n",
              "\n",
              "  <svg xmlns=\"http://www.w3.org/2000/svg\" height=\"24px\" viewBox=\"0 -960 960 960\">\n",
              "    <path d=\"M120-120v-720h720v720H120Zm60-500h600v-160H180v160Zm220 220h160v-160H400v160Zm0 220h160v-160H400v160ZM180-400h160v-160H180v160Zm440 0h160v-160H620v160ZM180-180h160v-160H180v160Zm440 0h160v-160H620v160Z\"/>\n",
              "  </svg>\n",
              "    </button>\n",
              "\n",
              "  <style>\n",
              "    .colab-df-container {\n",
              "      display:flex;\n",
              "      gap: 12px;\n",
              "    }\n",
              "\n",
              "    .colab-df-convert {\n",
              "      background-color: #E8F0FE;\n",
              "      border: none;\n",
              "      border-radius: 50%;\n",
              "      cursor: pointer;\n",
              "      display: none;\n",
              "      fill: #1967D2;\n",
              "      height: 32px;\n",
              "      padding: 0 0 0 0;\n",
              "      width: 32px;\n",
              "    }\n",
              "\n",
              "    .colab-df-convert:hover {\n",
              "      background-color: #E2EBFA;\n",
              "      box-shadow: 0px 1px 2px rgba(60, 64, 67, 0.3), 0px 1px 3px 1px rgba(60, 64, 67, 0.15);\n",
              "      fill: #174EA6;\n",
              "    }\n",
              "\n",
              "    .colab-df-buttons div {\n",
              "      margin-bottom: 4px;\n",
              "    }\n",
              "\n",
              "    [theme=dark] .colab-df-convert {\n",
              "      background-color: #3B4455;\n",
              "      fill: #D2E3FC;\n",
              "    }\n",
              "\n",
              "    [theme=dark] .colab-df-convert:hover {\n",
              "      background-color: #434B5C;\n",
              "      box-shadow: 0px 1px 3px 1px rgba(0, 0, 0, 0.15);\n",
              "      filter: drop-shadow(0px 1px 2px rgba(0, 0, 0, 0.3));\n",
              "      fill: #FFFFFF;\n",
              "    }\n",
              "  </style>\n",
              "\n",
              "    <script>\n",
              "      const buttonEl =\n",
              "        document.querySelector('#df-4118d2a2-8d79-48f6-b44f-e06be3ae6a58 button.colab-df-convert');\n",
              "      buttonEl.style.display =\n",
              "        google.colab.kernel.accessAllowed ? 'block' : 'none';\n",
              "\n",
              "      async function convertToInteractive(key) {\n",
              "        const element = document.querySelector('#df-4118d2a2-8d79-48f6-b44f-e06be3ae6a58');\n",
              "        const dataTable =\n",
              "          await google.colab.kernel.invokeFunction('convertToInteractive',\n",
              "                                                    [key], {});\n",
              "        if (!dataTable) return;\n",
              "\n",
              "        const docLinkHtml = 'Like what you see? Visit the ' +\n",
              "          '<a target=\"_blank\" href=https://colab.research.google.com/notebooks/data_table.ipynb>data table notebook</a>'\n",
              "          + ' to learn more about interactive tables.';\n",
              "        element.innerHTML = '';\n",
              "        dataTable['output_type'] = 'display_data';\n",
              "        await google.colab.output.renderOutput(dataTable, element);\n",
              "        const docLink = document.createElement('div');\n",
              "        docLink.innerHTML = docLinkHtml;\n",
              "        element.appendChild(docLink);\n",
              "      }\n",
              "    </script>\n",
              "  </div>\n",
              "\n",
              "\n",
              "<div id=\"df-b85b7a64-37c3-40f2-9c67-9ae10b6dd8df\">\n",
              "  <button class=\"colab-df-quickchart\" onclick=\"quickchart('df-b85b7a64-37c3-40f2-9c67-9ae10b6dd8df')\"\n",
              "            title=\"Suggest charts\"\n",
              "            style=\"display:none;\">\n",
              "\n",
              "<svg xmlns=\"http://www.w3.org/2000/svg\" height=\"24px\"viewBox=\"0 0 24 24\"\n",
              "     width=\"24px\">\n",
              "    <g>\n",
              "        <path d=\"M19 3H5c-1.1 0-2 .9-2 2v14c0 1.1.9 2 2 2h14c1.1 0 2-.9 2-2V5c0-1.1-.9-2-2-2zM9 17H7v-7h2v7zm4 0h-2V7h2v10zm4 0h-2v-4h2v4z\"/>\n",
              "    </g>\n",
              "</svg>\n",
              "  </button>\n",
              "\n",
              "<style>\n",
              "  .colab-df-quickchart {\n",
              "      --bg-color: #E8F0FE;\n",
              "      --fill-color: #1967D2;\n",
              "      --hover-bg-color: #E2EBFA;\n",
              "      --hover-fill-color: #174EA6;\n",
              "      --disabled-fill-color: #AAA;\n",
              "      --disabled-bg-color: #DDD;\n",
              "  }\n",
              "\n",
              "  [theme=dark] .colab-df-quickchart {\n",
              "      --bg-color: #3B4455;\n",
              "      --fill-color: #D2E3FC;\n",
              "      --hover-bg-color: #434B5C;\n",
              "      --hover-fill-color: #FFFFFF;\n",
              "      --disabled-bg-color: #3B4455;\n",
              "      --disabled-fill-color: #666;\n",
              "  }\n",
              "\n",
              "  .colab-df-quickchart {\n",
              "    background-color: var(--bg-color);\n",
              "    border: none;\n",
              "    border-radius: 50%;\n",
              "    cursor: pointer;\n",
              "    display: none;\n",
              "    fill: var(--fill-color);\n",
              "    height: 32px;\n",
              "    padding: 0;\n",
              "    width: 32px;\n",
              "  }\n",
              "\n",
              "  .colab-df-quickchart:hover {\n",
              "    background-color: var(--hover-bg-color);\n",
              "    box-shadow: 0 1px 2px rgba(60, 64, 67, 0.3), 0 1px 3px 1px rgba(60, 64, 67, 0.15);\n",
              "    fill: var(--button-hover-fill-color);\n",
              "  }\n",
              "\n",
              "  .colab-df-quickchart-complete:disabled,\n",
              "  .colab-df-quickchart-complete:disabled:hover {\n",
              "    background-color: var(--disabled-bg-color);\n",
              "    fill: var(--disabled-fill-color);\n",
              "    box-shadow: none;\n",
              "  }\n",
              "\n",
              "  .colab-df-spinner {\n",
              "    border: 2px solid var(--fill-color);\n",
              "    border-color: transparent;\n",
              "    border-bottom-color: var(--fill-color);\n",
              "    animation:\n",
              "      spin 1s steps(1) infinite;\n",
              "  }\n",
              "\n",
              "  @keyframes spin {\n",
              "    0% {\n",
              "      border-color: transparent;\n",
              "      border-bottom-color: var(--fill-color);\n",
              "      border-left-color: var(--fill-color);\n",
              "    }\n",
              "    20% {\n",
              "      border-color: transparent;\n",
              "      border-left-color: var(--fill-color);\n",
              "      border-top-color: var(--fill-color);\n",
              "    }\n",
              "    30% {\n",
              "      border-color: transparent;\n",
              "      border-left-color: var(--fill-color);\n",
              "      border-top-color: var(--fill-color);\n",
              "      border-right-color: var(--fill-color);\n",
              "    }\n",
              "    40% {\n",
              "      border-color: transparent;\n",
              "      border-right-color: var(--fill-color);\n",
              "      border-top-color: var(--fill-color);\n",
              "    }\n",
              "    60% {\n",
              "      border-color: transparent;\n",
              "      border-right-color: var(--fill-color);\n",
              "    }\n",
              "    80% {\n",
              "      border-color: transparent;\n",
              "      border-right-color: var(--fill-color);\n",
              "      border-bottom-color: var(--fill-color);\n",
              "    }\n",
              "    90% {\n",
              "      border-color: transparent;\n",
              "      border-bottom-color: var(--fill-color);\n",
              "    }\n",
              "  }\n",
              "</style>\n",
              "\n",
              "  <script>\n",
              "    async function quickchart(key) {\n",
              "      const quickchartButtonEl =\n",
              "        document.querySelector('#' + key + ' button');\n",
              "      quickchartButtonEl.disabled = true;  // To prevent multiple clicks.\n",
              "      quickchartButtonEl.classList.add('colab-df-spinner');\n",
              "      try {\n",
              "        const charts = await google.colab.kernel.invokeFunction(\n",
              "            'suggestCharts', [key], {});\n",
              "      } catch (error) {\n",
              "        console.error('Error during call to suggestCharts:', error);\n",
              "      }\n",
              "      quickchartButtonEl.classList.remove('colab-df-spinner');\n",
              "      quickchartButtonEl.classList.add('colab-df-quickchart-complete');\n",
              "    }\n",
              "    (() => {\n",
              "      let quickchartButtonEl =\n",
              "        document.querySelector('#df-b85b7a64-37c3-40f2-9c67-9ae10b6dd8df button');\n",
              "      quickchartButtonEl.style.display =\n",
              "        google.colab.kernel.accessAllowed ? 'block' : 'none';\n",
              "    })();\n",
              "  </script>\n",
              "</div>\n",
              "\n",
              "    </div>\n",
              "  </div>\n"
            ],
            "application/vnd.google.colaboratory.intrinsic+json": {
              "type": "dataframe",
              "variable_name": "car_str",
              "summary": "{\n  \"name\": \"car_str\",\n  \"rows\": 46022,\n  \"fields\": [\n    {\n      \"column\": \"Company Name\",\n      \"properties\": {\n        \"dtype\": \"category\",\n        \"num_unique_values\": 31,\n        \"samples\": [\n          \"Jeep\",\n          \"KIA\",\n          \"Fiat\"\n        ],\n        \"semantic_type\": \"\",\n        \"description\": \"\"\n      }\n    },\n    {\n      \"column\": \"Model Name\",\n      \"properties\": {\n        \"dtype\": \"category\",\n        \"num_unique_values\": 196,\n        \"samples\": [\n          \"Macan\",\n          \"Flair\",\n          \"Prius\"\n        ],\n        \"semantic_type\": \"\",\n        \"description\": \"\"\n      }\n    },\n    {\n      \"column\": \"Price\",\n      \"properties\": {\n        \"dtype\": \"number\",\n        \"std\": 2939071,\n        \"min\": 111000,\n        \"max\": 77500000,\n        \"num_unique_values\": 1419,\n        \"samples\": [\n          1140000,\n          325000,\n          605000\n        ],\n        \"semantic_type\": \"\",\n        \"description\": \"\"\n      }\n    },\n    {\n      \"column\": \"Model Year\",\n      \"properties\": {\n        \"dtype\": \"number\",\n        \"std\": 6,\n        \"min\": 1990,\n        \"max\": 2019,\n        \"num_unique_values\": 30,\n        \"samples\": [\n          1997,\n          2005,\n          1996\n        ],\n        \"semantic_type\": \"\",\n        \"description\": \"\"\n      }\n    },\n    {\n      \"column\": \"Location\",\n      \"properties\": {\n        \"dtype\": \"category\",\n        \"num_unique_values\": 6,\n        \"samples\": [\n          \"Islamabad\",\n          \"KPK\",\n          \"Kashmir\"\n        ],\n        \"semantic_type\": \"\",\n        \"description\": \"\"\n      }\n    },\n    {\n      \"column\": \"Mileage\",\n      \"properties\": {\n        \"dtype\": \"number\",\n        \"std\": 63656,\n        \"min\": 1,\n        \"max\": 999999,\n        \"num_unique_values\": 5573,\n        \"samples\": [\n          130289,\n          95171,\n          167592\n        ],\n        \"semantic_type\": \"\",\n        \"description\": \"\"\n      }\n    },\n    {\n      \"column\": \"Engine Type\",\n      \"properties\": {\n        \"dtype\": \"category\",\n        \"num_unique_values\": 3,\n        \"samples\": [\n          \"Petrol\",\n          \"Diesel\",\n          \"Hybrid\"\n        ],\n        \"semantic_type\": \"\",\n        \"description\": \"\"\n      }\n    },\n    {\n      \"column\": \"Engine Capacity\",\n      \"properties\": {\n        \"dtype\": \"number\",\n        \"std\": 614,\n        \"min\": 16,\n        \"max\": 6600,\n        \"num_unique_values\": 75,\n        \"samples\": [\n          3000,\n          600,\n          2500\n        ],\n        \"semantic_type\": \"\",\n        \"description\": \"\"\n      }\n    },\n    {\n      \"column\": \"Color\",\n      \"properties\": {\n        \"dtype\": \"category\",\n        \"num_unique_values\": 24,\n        \"samples\": [\n          \"Maroon\",\n          \"Turquoise\",\n          \"Silver\"\n        ],\n        \"semantic_type\": \"\",\n        \"description\": \"\"\n      }\n    },\n    {\n      \"column\": \"Assembly\",\n      \"properties\": {\n        \"dtype\": \"category\",\n        \"num_unique_values\": 2,\n        \"samples\": [\n          \"Local\",\n          \"Imported\"\n        ],\n        \"semantic_type\": \"\",\n        \"description\": \"\"\n      }\n    },\n    {\n      \"column\": \"Body Type\",\n      \"properties\": {\n        \"dtype\": \"category\",\n        \"num_unique_values\": 6,\n        \"samples\": [\n          \"Hatchback\",\n          \"Sedan\"\n        ],\n        \"semantic_type\": \"\",\n        \"description\": \"\"\n      }\n    },\n    {\n      \"column\": \"Transmission Type\",\n      \"properties\": {\n        \"dtype\": \"category\",\n        \"num_unique_values\": 2,\n        \"samples\": [\n          \"Manual\",\n          \"Automatic\"\n        ],\n        \"semantic_type\": \"\",\n        \"description\": \"\"\n      }\n    },\n    {\n      \"column\": \"Registration Status\",\n      \"properties\": {\n        \"dtype\": \"category\",\n        \"num_unique_values\": 2,\n        \"samples\": [\n          \"Registered\",\n          \"Un-Registered\"\n        ],\n        \"semantic_type\": \"\",\n        \"description\": \"\"\n      }\n    }\n  ]\n}"
            }
          },
          "metadata": {},
          "execution_count": 28
        }
      ]
    },
    {
      "cell_type": "code",
      "source": [
        "from sklearn.preprocessing import LabelEncoder\n",
        "label_encoder = LabelEncoder()\n",
        "company_mapping = {}\n",
        "model_mapping = {}\n",
        "price_mapping = {}\n",
        "model_year = {}\n",
        "locs = {}\n",
        "mileage = {}\n",
        "engine_type = {}\n",
        "engine_cap = {}\n",
        "Colour = {}\n",
        "assembly = {}\n",
        "body_type = {}\n",
        "transmission = {}\n",
        "registration = {}\n",
        "for column in car_str.columns:\n",
        "        encoded_column = label_encoder.fit_transform(car_str[column])\n",
        "\n",
        "        if column == 'Company Name':\n",
        "            company_mapping = {index: label for index, label in enumerate(label_encoder.classes_)}\n",
        "        elif column == 'Model Name':\n",
        "            model_mapping = {index: label for index, label in enumerate(label_encoder.classes_)}\n",
        "        elif column == 'Price':\n",
        "            price_mapping = {index: label for index, label in enumerate(label_encoder.classes_)}\n",
        "\n",
        "        elif column == 'Model Year':\n",
        "            model_year = {index: label for index, label in enumerate(label_encoder.classes_)}\n",
        "\n",
        "        elif column == 'Location':\n",
        "            locs = {index: label for index, label in enumerate(label_encoder.classes_)}\n",
        "\n",
        "        elif column == 'Mileage':\n",
        "            mileage = {index: label for index, label in enumerate(label_encoder.classes_)}\n",
        "\n",
        "        elif column == 'Engine Type':\n",
        "            engine_type = {index: label for index, label in enumerate(label_encoder.classes_)}\n",
        "\n",
        "        elif column == 'Engine Capacity':\n",
        "            engine_cap = {index: label for index, label in enumerate(label_encoder.classes_)}\n",
        "\n",
        "        elif column == 'Color':\n",
        "            Colour = {index: label for index, label in enumerate(label_encoder.classes_)}\n",
        "\n",
        "        elif column == 'Assembly':\n",
        "            assembly = {index: label for index, label in enumerate(label_encoder.classes_)}\n",
        "\n",
        "        elif column == 'Body Type':\n",
        "            body_type = {index: label for index, label in enumerate(label_encoder.classes_)}\n",
        "\n",
        "        elif column == 'Transmission Type':\n",
        "            transmission = {index: label for index, label in enumerate(label_encoder.classes_)}\n",
        "\n",
        "        elif column == 'Registration Status':\n",
        "            registration = {index: label for index, label in enumerate(label_encoder.classes_)}\n",
        "print(\"company name :\",company_mapping)\n",
        "print(\"model name :\",model_mapping)\n",
        "print(\"price :\",price_mapping)\n",
        "print('model_year :',model_year)\n",
        "print(\"location :\",locs)\n",
        "print('mileage :',mileage)\n",
        "print('engine_type :',engine_type)\n",
        "print('engine_cap :',engine_cap)\n",
        "print('Color :',Colour)\n",
        "print('assembly :',assembly)\n",
        "print('body_type :',body_type)\n",
        "print('Transmission Type :',transmission)\n",
        "print('Registration Status :',registration)"
      ],
      "metadata": {
        "colab": {
          "base_uri": "https://localhost:8080/"
        },
        "id": "0mUCspFLEvye",
        "outputId": "07818a06-e6fc-4f70-b199-0cd7d9aed869"
      },
      "execution_count": null,
      "outputs": [
        {
          "output_type": "stream",
          "name": "stdout",
          "text": [
            "company name : {0: 'Adam', 1: 'Audi', 2: 'BMW', 3: 'Chery', 4: 'Chevrolet', 5: 'DFSK', 6: 'Daewoo', 7: 'Daihatsu', 8: 'FAW', 9: 'Fiat', 10: 'Honda', 11: 'Hummer', 12: 'Hyundai', 13: 'Jaguar', 14: 'Jeep', 15: 'KIA', 16: 'Land', 17: 'Lexus', 18: 'MINI', 19: 'Mazda', 20: 'Mercedes', 21: 'Mitsubishi', 22: 'Nissan', 23: 'Porsche', 24: 'Range', 25: 'SsangYong', 26: 'Subaru', 27: 'Suzuki', 28: 'Toyota', 29: 'United', 30: 'Volvo'}\n",
            "model name : {0: '3', 1: '5', 2: '7', 3: 'A3', 4: 'A4', 5: 'A5', 6: 'A6', 7: 'A7', 8: 'APV', 9: 'Accord', 10: 'Acty', 11: 'Allion', 12: 'Alphard', 13: 'Altezza', 14: 'Alto', 15: 'Aqua', 16: 'Auris', 17: 'Avanza', 18: 'Aveo', 19: 'Axela', 20: 'Aygo', 21: 'Azwagon', 22: 'B', 23: 'Baleno', 24: 'Bego', 25: 'Belta', 26: 'Benz', 27: 'Blue', 28: 'Bluebird', 29: 'Bolan', 30: 'Boon', 31: 'Bravo', 32: 'C-HR', 33: 'C37', 34: 'CJ', 35: 'CR-V', 36: 'CT200h', 37: 'Caldina', 38: 'Cami', 39: 'Camry', 40: 'Carol', 41: 'Cast', 42: 'Cayenne', 43: 'Cefiro', 44: 'Celerio', 45: 'Cervo', 46: 'Charade', 47: 'Ciaz', 48: 'City', 49: 'Civic', 50: 'Clipper', 51: 'Convoy', 52: 'Cooper', 53: 'Corolla', 54: 'Corona', 55: 'Coupe', 56: 'Cross', 57: 'Crown', 58: 'Cultus', 59: 'Cuore', 60: 'Dayz', 61: 'Dias', 62: 'Duet', 63: 'EK', 64: 'Ek', 65: 'Esse', 66: 'Estima', 67: 'Excel', 68: 'Exclusive', 69: 'FX', 70: 'Familia', 71: 'Fit', 72: 'Flair', 73: 'Fortuner', 74: 'Freed', 75: 'Galant', 76: 'Glory', 77: 'Grace', 78: 'H2', 79: 'HR-V', 80: 'Hiace', 81: 'Hijet', 82: 'Hilux', 83: 'Hustler', 84: 'I', 85: 'ISIS', 86: 'IST', 87: 'Impreza', 88: 'Insight', 89: 'Jimny', 90: 'Joy', 91: 'Juke', 92: 'Justy', 93: 'Kei', 94: 'Khyber', 95: 'Kizashi', 96: 'L300', 97: 'LX', 98: 'Lancer', 99: 'Land', 100: 'Latio', 101: 'Liana', 102: 'Life', 103: 'MR', 104: 'Macan', 105: 'March', 106: 'Margalla', 107: 'Mark', 108: 'Mehran', 109: 'Minica', 110: 'Mira', 111: 'Mirage', 112: 'Moco', 113: 'Move', 114: 'N', 115: 'Noah', 116: 'Note', 117: 'Optra', 118: 'Otti', 119: 'Outlander', 120: 'Pajero', 121: 'Palette', 122: 'Panamera', 123: 'Passo', 124: 'Patrol', 125: 'Picanto', 126: 'Pino', 127: 'Pixis', 128: 'Platz', 129: 'Pleo', 130: 'Porte', 131: 'Potohar', 132: 'Prado', 133: 'Premio', 134: 'Pride', 135: 'Prius', 136: 'Probox', 137: 'Q2', 138: 'Q3', 139: 'Q7', 140: 'QQ', 141: 'RX', 142: 'Racer', 143: 'Ractis', 144: 'Rav4', 145: 'Revo', 146: 'Roox', 147: 'Rover', 148: 'Rumion', 149: 'Rush', 150: 'S40', 151: 'Santro', 152: 'Scrum', 153: 'Sienta', 154: 'Sirius', 155: 'Skyline', 156: 'Solio', 157: 'Sonica', 158: 'Spectra', 159: 'Splash', 160: 'Sportage', 161: 'Starlet', 162: 'Stavic', 163: 'Stella', 164: 'Stream', 165: 'Succeed', 166: 'Sunny', 167: 'Surf', 168: 'Swift', 169: 'Sx4', 170: 'Tanto', 171: 'Terios', 172: 'Terrano', 173: 'Thats', 174: 'Tiida', 175: 'Uno', 176: 'V2', 177: 'Vamos', 178: 'Vanguard', 179: 'Vezel', 180: 'Vitara', 181: 'Vitz', 182: 'Voxy', 183: 'Wagon', 184: 'Wake', 185: 'Wish', 186: 'Wrangler', 187: 'X', 188: 'X-PV', 189: 'X1', 190: 'X3', 191: 'X5', 192: 'X6', 193: 'XF', 194: 'Zest', 195: 'iQ'}\n",
            "price : {0: 111000, 1: 120000, 2: 123000, 3: 130000, 4: 135000, 5: 140000, 6: 145000, 7: 150000, 8: 157000, 9: 160000, 10: 165000, 11: 170000, 12: 175000, 13: 180000, 14: 185000, 15: 187000, 16: 190000, 17: 195000, 18: 197000, 19: 200000, 20: 205000, 21: 210000, 22: 215000, 23: 220000, 24: 225000, 25: 230000, 26: 235000, 27: 237000, 28: 239000, 29: 240000, 30: 245000, 31: 247000, 32: 248000, 33: 250000, 34: 255000, 35: 260000, 36: 262000, 37: 265000, 38: 270000, 39: 271000, 40: 273000, 41: 275000, 42: 278000, 43: 279000, 44: 280000, 45: 285000, 46: 290000, 47: 295000, 48: 298000, 49: 299000, 50: 300000, 51: 304000, 52: 305000, 53: 310000, 54: 315000, 55: 320000, 56: 325000, 57: 330000, 58: 335000, 59: 338000, 60: 339000, 61: 340000, 62: 345000, 63: 349000, 64: 350000, 65: 351000, 66: 355000, 67: 358000, 68: 360000, 69: 365000, 70: 370000, 71: 375000, 72: 379000, 73: 380000, 74: 385000, 75: 388000, 76: 390000, 77: 395000, 78: 398000, 79: 399000, 80: 400000, 81: 405000, 82: 410000, 83: 415000, 84: 418000, 85: 419000, 86: 420000, 87: 421000, 88: 422000, 89: 425000, 90: 426000, 91: 430000, 92: 432000, 93: 435000, 94: 436000, 95: 438000, 96: 439000, 97: 440000, 98: 445000, 99: 449000, 100: 450000, 101: 453000, 102: 455000, 103: 460000, 104: 461000, 105: 465000, 106: 469000, 107: 470000, 108: 471000, 109: 472000, 110: 475000, 111: 478000, 112: 480000, 113: 481000, 114: 485000, 115: 487000, 116: 489000, 117: 490000, 118: 495000, 119: 498000, 120: 499000, 121: 500000, 122: 501000, 123: 502000, 124: 505000, 125: 506000, 126: 510000, 127: 515000, 128: 519000, 129: 520000, 130: 525000, 131: 528000, 132: 530000, 133: 532000, 134: 535000, 135: 538000, 136: 539000, 137: 540000, 138: 545000, 139: 546000, 140: 549000, 141: 550000, 142: 553000, 143: 555000, 144: 560000, 145: 561000, 146: 565000, 147: 570000, 148: 574000, 149: 575000, 150: 580000, 151: 582000, 152: 585000, 153: 586000, 154: 589000, 155: 590000, 156: 591000, 157: 592000, 158: 593000, 159: 595000, 160: 598000, 161: 599000, 162: 600000, 163: 601000, 164: 602000, 165: 605000, 166: 610000, 167: 612000, 168: 614000, 169: 615000, 170: 616000, 171: 620000, 172: 625000, 173: 630000, 174: 635000, 175: 636000, 176: 640000, 177: 645000, 178: 648000, 179: 649000, 180: 650000, 181: 653000, 182: 655000, 183: 656000, 184: 659000, 185: 660000, 186: 665000, 187: 670000, 188: 671000, 189: 675000, 190: 678000, 191: 679000, 192: 680000, 193: 685000, 194: 689000, 195: 690000, 196: 695000, 197: 697000, 198: 699000, 199: 700000, 200: 705000, 201: 709000, 202: 710000, 203: 715000, 204: 720000, 205: 723000, 206: 724000, 207: 725000, 208: 726000, 209: 728000, 210: 730000, 211: 735000, 212: 739000, 213: 740000, 214: 745000, 215: 749000, 216: 750000, 217: 755000, 218: 758000, 219: 760000, 220: 765000, 221: 770000, 222: 775000, 223: 776000, 224: 780000, 225: 781000, 226: 785000, 227: 790000, 228: 795000, 229: 798000, 230: 799000, 231: 800000, 232: 803000, 233: 805000, 234: 810000, 235: 815000, 236: 818000, 237: 820000, 238: 825000, 239: 828000, 240: 830000, 241: 833000, 242: 835000, 243: 836000, 244: 838000, 245: 840000, 246: 844000, 247: 845000, 248: 848000, 249: 849000, 250: 850000, 251: 855000, 252: 857000, 253: 858000, 254: 860000, 255: 865000, 256: 868000, 257: 870000, 258: 875000, 259: 876000, 260: 880000, 261: 885000, 262: 888000, 263: 890000, 264: 894000, 265: 895000, 266: 899000, 267: 900000, 268: 902000, 269: 903000, 270: 905000, 271: 908000, 272: 910000, 273: 912000, 274: 915000, 275: 919000, 276: 920000, 277: 925000, 278: 930000, 279: 934000, 280: 935000, 281: 937000, 282: 940000, 283: 941000, 284: 942000, 285: 945000, 286: 946000, 287: 949000, 288: 950000, 289: 951000, 290: 955000, 291: 959000, 292: 960000, 293: 965000, 294: 970000, 295: 975000, 296: 976000, 297: 977000, 298: 980000, 299: 985000, 300: 988000, 301: 990000, 302: 991000, 303: 995000, 304: 998000, 305: 999000, 306: 1000000, 307: 1003000, 308: 1005000, 309: 1010000, 310: 1015000, 311: 1018000, 312: 1020000, 313: 1021000, 314: 1025000, 315: 1026000, 316: 1030000, 317: 1035000, 318: 1040000, 319: 1042000, 320: 1045000, 321: 1049000, 322: 1050000, 323: 1055000, 324: 1060000, 325: 1065000, 326: 1067000, 327: 1070000, 328: 1075000, 329: 1079000, 330: 1080000, 331: 1085000, 332: 1086000, 333: 1090000, 334: 1095000, 335: 1098000, 336: 1099000, 337: 1100000, 338: 1105000, 339: 1110000, 340: 1115000, 341: 1120000, 342: 1125000, 343: 1130000, 344: 1135000, 345: 1138000, 346: 1140000, 347: 1145000, 348: 1149000, 349: 1150000, 350: 1155000, 351: 1156000, 352: 1160000, 353: 1165000, 354: 1170000, 355: 1175000, 356: 1180000, 357: 1185000, 358: 1186000, 359: 1189000, 360: 1190000, 361: 1195000, 362: 1199000, 363: 1200000, 364: 1205000, 365: 1210000, 366: 1214000, 367: 1215000, 368: 1216000, 369: 1220000, 370: 1225000, 371: 1228000, 372: 1230000, 373: 1235000, 374: 1238000, 375: 1239000, 376: 1240000, 377: 1244000, 378: 1245000, 379: 1248000, 380: 1249000, 381: 1250000, 382: 1255000, 383: 1259000, 384: 1260000, 385: 1265000, 386: 1270000, 387: 1272000, 388: 1275000, 389: 1278000, 390: 1280000, 391: 1285000, 392: 1290000, 393: 1295000, 394: 1298000, 395: 1299000, 396: 1300000, 397: 1305000, 398: 1310000, 399: 1315000, 400: 1320000, 401: 1325000, 402: 1330000, 403: 1332000, 404: 1333000, 405: 1335000, 406: 1339000, 407: 1340000, 408: 1344000, 409: 1345000, 410: 1349000, 411: 1350000, 412: 1355000, 413: 1357000, 414: 1359000, 415: 1360000, 416: 1365000, 417: 1369000, 418: 1370000, 419: 1375000, 420: 1378000, 421: 1379000, 422: 1380000, 423: 1385000, 424: 1389000, 425: 1390000, 426: 1392000, 427: 1395000, 428: 1398000, 429: 1399000, 430: 1400000, 431: 1405000, 432: 1410000, 433: 1412000, 434: 1415000, 435: 1419000, 436: 1420000, 437: 1424000, 438: 1425000, 439: 1430000, 440: 1435000, 441: 1440000, 442: 1445000, 443: 1449000, 444: 1450000, 445: 1451000, 446: 1455000, 447: 1456000, 448: 1460000, 449: 1465000, 450: 1469000, 451: 1470000, 452: 1474000, 453: 1475000, 454: 1476000, 455: 1480000, 456: 1485000, 457: 1490000, 458: 1495000, 459: 1499000, 460: 1500000, 461: 1505000, 462: 1510000, 463: 1512000, 464: 1515000, 465: 1520000, 466: 1524000, 467: 1525000, 468: 1527000, 469: 1528000, 470: 1529000, 471: 1530000, 472: 1535000, 473: 1538000, 474: 1540000, 475: 1541000, 476: 1545000, 477: 1548000, 478: 1549000, 479: 1550000, 480: 1555000, 481: 1556000, 482: 1559000, 483: 1560000, 484: 1564000, 485: 1565000, 486: 1570000, 487: 1575000, 488: 1580000, 489: 1585000, 490: 1590000, 491: 1595000, 492: 1597000, 493: 1598000, 494: 1599000, 495: 1600000, 496: 1604000, 497: 1610000, 498: 1615000, 499: 1620000, 500: 1625000, 501: 1628000, 502: 1630000, 503: 1635000, 504: 1640000, 505: 1645000, 506: 1649000, 507: 1650000, 508: 1655000, 509: 1659000, 510: 1660000, 511: 1665000, 512: 1669000, 513: 1670000, 514: 1675000, 515: 1679000, 516: 1680000, 517: 1685000, 518: 1686000, 519: 1690000, 520: 1695000, 521: 1698000, 522: 1699000, 523: 1700000, 524: 1701000, 525: 1702000, 526: 1705000, 527: 1710000, 528: 1715000, 529: 1719000, 530: 1720000, 531: 1722000, 532: 1725000, 533: 1730000, 534: 1735000, 535: 1737000, 536: 1740000, 537: 1745000, 538: 1749000, 539: 1750000, 540: 1751000, 541: 1755000, 542: 1760000, 543: 1763000, 544: 1765000, 545: 1770000, 546: 1775000, 547: 1780000, 548: 1785000, 549: 1790000, 550: 1795000, 551: 1799000, 552: 1800000, 553: 1801000, 554: 1810000, 555: 1815000, 556: 1819000, 557: 1820000, 558: 1825000, 559: 1829000, 560: 1830000, 561: 1835000, 562: 1836000, 563: 1840000, 564: 1845000, 565: 1849000, 566: 1850000, 567: 1855000, 568: 1860000, 569: 1865000, 570: 1870000, 571: 1875000, 572: 1880000, 573: 1885000, 574: 1890000, 575: 1895000, 576: 1896000, 577: 1899000, 578: 1900000, 579: 1905000, 580: 1910000, 581: 1915000, 582: 1920000, 583: 1925000, 584: 1930000, 585: 1935000, 586: 1940000, 587: 1945000, 588: 1946000, 589: 1950000, 590: 1955000, 591: 1960000, 592: 1965000, 593: 1970000, 594: 1975000, 595: 1980000, 596: 1985000, 597: 1990000, 598: 1995000, 599: 1999000, 600: 2000000, 601: 2005000, 602: 2010000, 603: 2015000, 604: 2020000, 605: 2024000, 606: 2025000, 607: 2028000, 608: 2030000, 609: 2035000, 610: 2040000, 611: 2045000, 612: 2049000, 613: 2050000, 614: 2055000, 615: 2060000, 616: 2065000, 617: 2070000, 618: 2075000, 619: 2080000, 620: 2085000, 621: 2090000, 622: 2095000, 623: 2098000, 624: 2099000, 625: 2100000, 626: 2110000, 627: 2115000, 628: 2120000, 629: 2125000, 630: 2130000, 631: 2135000, 632: 2140000, 633: 2145000, 634: 2149000, 635: 2150000, 636: 2155000, 637: 2160000, 638: 2165000, 639: 2170000, 640: 2175000, 641: 2180000, 642: 2185000, 643: 2190000, 644: 2195000, 645: 2196000, 646: 2199000, 647: 2200000, 648: 2210000, 649: 2215000, 650: 2220000, 651: 2222000, 652: 2225000, 653: 2226000, 654: 2230000, 655: 2235000, 656: 2240000, 657: 2245000, 658: 2250000, 659: 2255000, 660: 2258000, 661: 2260000, 662: 2265000, 663: 2266000, 664: 2270000, 665: 2275000, 666: 2276000, 667: 2280000, 668: 2285000, 669: 2290000, 670: 2291000, 671: 2295000, 672: 2298000, 673: 2299000, 674: 2300000, 675: 2310000, 676: 2315000, 677: 2320000, 678: 2325000, 679: 2329000, 680: 2330000, 681: 2335000, 682: 2340000, 683: 2345000, 684: 2349000, 685: 2350000, 686: 2355000, 687: 2356000, 688: 2360000, 689: 2365000, 690: 2370000, 691: 2374000, 692: 2375000, 693: 2380000, 694: 2385000, 695: 2390000, 696: 2395000, 697: 2399000, 698: 2400000, 699: 2405000, 700: 2410000, 701: 2415000, 702: 2420000, 703: 2424000, 704: 2425000, 705: 2430000, 706: 2435000, 707: 2440000, 708: 2445000, 709: 2447000, 710: 2449000, 711: 2450000, 712: 2451000, 713: 2455000, 714: 2460000, 715: 2465000, 716: 2470000, 717: 2475000, 718: 2476000, 719: 2480000, 720: 2485000, 721: 2489000, 722: 2490000, 723: 2495000, 724: 2498000, 725: 2499000, 726: 2500000, 727: 2505000, 728: 2510000, 729: 2515000, 730: 2520000, 731: 2525000, 732: 2530000, 733: 2535000, 734: 2539000, 735: 2540000, 736: 2545000, 737: 2549000, 738: 2550000, 739: 2555000, 740: 2560000, 741: 2565000, 742: 2570000, 743: 2575000, 744: 2580000, 745: 2585000, 746: 2590000, 747: 2595000, 748: 2599000, 749: 2600000, 750: 2610000, 751: 2615000, 752: 2620000, 753: 2625000, 754: 2630000, 755: 2635000, 756: 2640000, 757: 2645000, 758: 2649000, 759: 2650000, 760: 2660000, 761: 2665000, 762: 2670000, 763: 2675000, 764: 2680000, 765: 2685000, 766: 2690000, 767: 2695000, 768: 2699000, 769: 2700000, 770: 2705000, 771: 2710000, 772: 2715000, 773: 2720000, 774: 2725000, 775: 2727000, 776: 2730000, 777: 2735000, 778: 2740000, 779: 2745000, 780: 2750000, 781: 2760000, 782: 2765000, 783: 2770000, 784: 2775000, 785: 2780000, 786: 2785000, 787: 2790000, 788: 2795000, 789: 2799000, 790: 2800000, 791: 2805000, 792: 2808000, 793: 2810000, 794: 2815000, 795: 2820000, 796: 2825000, 797: 2830000, 798: 2835000, 799: 2840000, 800: 2845000, 801: 2849000, 802: 2850000, 803: 2855000, 804: 2860000, 805: 2865000, 806: 2870000, 807: 2875000, 808: 2880000, 809: 2885000, 810: 2890000, 811: 2895000, 812: 2896000, 813: 2899000, 814: 2900000, 815: 2909000, 816: 2910000, 817: 2915000, 818: 2920000, 819: 2925000, 820: 2929000, 821: 2930000, 822: 2940000, 823: 2945000, 824: 2950000, 825: 2955000, 826: 2960000, 827: 2965000, 828: 2970000, 829: 2975000, 830: 2980000, 831: 2985000, 832: 2990000, 833: 2995000, 834: 2998000, 835: 3000000, 836: 3005000, 837: 3010000, 838: 3015000, 839: 3020000, 840: 3025000, 841: 3030000, 842: 3035000, 843: 3040000, 844: 3045000, 845: 3050000, 846: 3060000, 847: 3065000, 848: 3070000, 849: 3075000, 850: 3080000, 851: 3085000, 852: 3090000, 853: 3095000, 854: 3100000, 855: 3115000, 856: 3120000, 857: 3125000, 858: 3130000, 859: 3135000, 860: 3140000, 861: 3145000, 862: 3150000, 863: 3160000, 864: 3165000, 865: 3170000, 866: 3175000, 867: 3180000, 868: 3185000, 869: 3190000, 870: 3195000, 871: 3199000, 872: 3200000, 873: 3210000, 874: 3215000, 875: 3220000, 876: 3225000, 877: 3230000, 878: 3235000, 879: 3238000, 880: 3240000, 881: 3245000, 882: 3249000, 883: 3250000, 884: 3255000, 885: 3260000, 886: 3265000, 887: 3270000, 888: 3275000, 889: 3280000, 890: 3285000, 891: 3290000, 892: 3295000, 893: 3299000, 894: 3300000, 895: 3310000, 896: 3320000, 897: 3325000, 898: 3330000, 899: 3335000, 900: 3340000, 901: 3345000, 902: 3350000, 903: 3355000, 904: 3360000, 905: 3365000, 906: 3370000, 907: 3375000, 908: 3380000, 909: 3385000, 910: 3390000, 911: 3395000, 912: 3399000, 913: 3400000, 914: 3410000, 915: 3420000, 916: 3425000, 917: 3430000, 918: 3433000, 919: 3435000, 920: 3440000, 921: 3445000, 922: 3450000, 923: 3455000, 924: 3460000, 925: 3465000, 926: 3470000, 927: 3475000, 928: 3480000, 929: 3485000, 930: 3490000, 931: 3495000, 932: 3500000, 933: 3510000, 934: 3520000, 935: 3525000, 936: 3530000, 937: 3540000, 938: 3545000, 939: 3548000, 940: 3550000, 941: 3560000, 942: 3565000, 943: 3570000, 944: 3575000, 945: 3580000, 946: 3585000, 947: 3590000, 948: 3595000, 949: 3599000, 950: 3600000, 951: 3610000, 952: 3620000, 953: 3625000, 954: 3630000, 955: 3635000, 956: 3640000, 957: 3645000, 958: 3649000, 959: 3650000, 960: 3655000, 961: 3660000, 962: 3665000, 963: 3670000, 964: 3675000, 965: 3680000, 966: 3685000, 967: 3690000, 968: 3695000, 969: 3699000, 970: 3700000, 971: 3720000, 972: 3725000, 973: 3730000, 974: 3740000, 975: 3750000, 976: 3760000, 977: 3765000, 978: 3770000, 979: 3775000, 980: 3780000, 981: 3785000, 982: 3790000, 983: 3795000, 984: 3799000, 985: 3800000, 986: 3810000, 987: 3815000, 988: 3820000, 989: 3825000, 990: 3830000, 991: 3840000, 992: 3850000, 993: 3860000, 994: 3870000, 995: 3875000, 996: 3878000, 997: 3880000, 998: 3890000, 999: 3900000, 1000: 3910000, 1001: 3920000, 1002: 3925000, 1003: 3930000, 1004: 3940000, 1005: 3950000, 1006: 3960000, 1007: 3965000, 1008: 3970000, 1009: 3975000, 1010: 3980000, 1011: 3985000, 1012: 3990000, 1013: 3995000, 1014: 3999000, 1015: 4000000, 1016: 4025000, 1017: 4030000, 1018: 4040000, 1019: 4045000, 1020: 4050000, 1021: 4055000, 1022: 4060000, 1023: 4070000, 1024: 4075000, 1025: 4085000, 1026: 4090000, 1027: 4095000, 1028: 4100000, 1029: 4110000, 1030: 4120000, 1031: 4130000, 1032: 4135000, 1033: 4150000, 1034: 4175000, 1035: 4180000, 1036: 4200000, 1037: 4225000, 1038: 4250000, 1039: 4255000, 1040: 4265000, 1041: 4270000, 1042: 4280000, 1043: 4285000, 1044: 4295000, 1045: 4300000, 1046: 4315000, 1047: 4325000, 1048: 4340000, 1049: 4350000, 1050: 4365000, 1051: 4370000, 1052: 4375000, 1053: 4380000, 1054: 4395000, 1055: 4399000, 1056: 4400000, 1057: 4425000, 1058: 4450000, 1059: 4455000, 1060: 4465000, 1061: 4475000, 1062: 4480000, 1063: 4485000, 1064: 4490000, 1065: 4495000, 1066: 4499000, 1067: 4500000, 1068: 4525000, 1069: 4530000, 1070: 4550000, 1071: 4570000, 1072: 4575000, 1073: 4580000, 1074: 4590000, 1075: 4600000, 1076: 4610000, 1077: 4625000, 1078: 4630000, 1079: 4650000, 1080: 4670000, 1081: 4690000, 1082: 4695000, 1083: 4699000, 1084: 4700000, 1085: 4725000, 1086: 4740000, 1087: 4750000, 1088: 4770000, 1089: 4775000, 1090: 4795000, 1091: 4799000, 1092: 4800000, 1093: 4825000, 1094: 4848000, 1095: 4850000, 1096: 4860000, 1097: 4890000, 1098: 4895000, 1099: 4900000, 1100: 4950000, 1101: 4975000, 1102: 4985000, 1103: 4990000, 1104: 4999000, 1105: 5000000, 1106: 5025000, 1107: 5035000, 1108: 5050000, 1109: 5080000, 1110: 5100000, 1111: 5120000, 1112: 5125000, 1113: 5150000, 1114: 5180000, 1115: 5190000, 1116: 5195000, 1117: 5200000, 1118: 5250000, 1119: 5275000, 1120: 5290000, 1121: 5295000, 1122: 5300000, 1123: 5325000, 1124: 5350000, 1125: 5360000, 1126: 5375000, 1127: 5380000, 1128: 5400000, 1129: 5430000, 1130: 5450000, 1131: 5490000, 1132: 5495000, 1133: 5500000, 1134: 5550000, 1135: 5580000, 1136: 5595000, 1137: 5600000, 1138: 5620000, 1139: 5640000, 1140: 5645000, 1141: 5650000, 1142: 5670000, 1143: 5695000, 1144: 5700000, 1145: 5725000, 1146: 5750000, 1147: 5775000, 1148: 5799000, 1149: 5800000, 1150: 5830000, 1151: 5850000, 1152: 5900000, 1153: 5925000, 1154: 5950000, 1155: 5975000, 1156: 5990000, 1157: 6000000, 1158: 6050000, 1159: 6100000, 1160: 6150000, 1161: 6175000, 1162: 6190000, 1163: 6200000, 1164: 6225000, 1165: 6250000, 1166: 6275000, 1167: 6295000, 1168: 6300000, 1169: 6350000, 1170: 6400000, 1171: 6450000, 1172: 6490000, 1173: 6500000, 1174: 6550000, 1175: 6595000, 1176: 6600000, 1177: 6650000, 1178: 6700000, 1179: 6780000, 1180: 6800000, 1181: 6850000, 1182: 6900000, 1183: 6950000, 1184: 6975000, 1185: 7000000, 1186: 7020000, 1187: 7050000, 1188: 7100000, 1189: 7125000, 1190: 7150000, 1191: 7200000, 1192: 7250000, 1193: 7300000, 1194: 7310000, 1195: 7350000, 1196: 7400000, 1197: 7425000, 1198: 7450000, 1199: 7490000, 1200: 7491000, 1201: 7500000, 1202: 7550000, 1203: 7575000, 1204: 7600000, 1205: 7650000, 1206: 7690000, 1207: 7700000, 1208: 7750000, 1209: 7800000, 1210: 7850000, 1211: 7900000, 1212: 7920000, 1213: 7950000, 1214: 8000000, 1215: 8100000, 1216: 8150000, 1217: 8190000, 1218: 8200000, 1219: 8250000, 1220: 8290000, 1221: 8299000, 1222: 8300000, 1223: 8345000, 1224: 8350000, 1225: 8400000, 1226: 8450000, 1227: 8470000, 1228: 8490000, 1229: 8500000, 1230: 8550000, 1231: 8575000, 1232: 8590000, 1233: 8600000, 1234: 8650000, 1235: 8695000, 1236: 8700000, 1237: 8750000, 1238: 8800000, 1239: 8850000, 1240: 8855000, 1241: 8890000, 1242: 8895000, 1243: 8900000, 1244: 8950000, 1245: 8970000, 1246: 8990000, 1247: 9000000, 1248: 9100000, 1249: 9200000, 1250: 9275000, 1251: 9300000, 1252: 9400000, 1253: 9500000, 1254: 9599000, 1255: 9600000, 1256: 9675000, 1257: 9700000, 1258: 9800000, 1259: 9850000, 1260: 9950000, 1261: 9999000, 1262: 10000000, 1263: 10200000, 1264: 10300000, 1265: 10400000, 1266: 10500000, 1267: 10600000, 1268: 10700000, 1269: 10800000, 1270: 10900000, 1271: 11000000, 1272: 11100000, 1273: 11200000, 1274: 11300000, 1275: 11400000, 1276: 11500000, 1277: 11600000, 1278: 11700000, 1279: 11800000, 1280: 11900000, 1281: 12000000, 1282: 12100000, 1283: 12200000, 1284: 12300000, 1285: 12400000, 1286: 12500000, 1287: 12600000, 1288: 12700000, 1289: 12800000, 1290: 12900000, 1291: 13000000, 1292: 13100000, 1293: 13200000, 1294: 13300000, 1295: 13500000, 1296: 13600000, 1297: 13700000, 1298: 13800000, 1299: 13900000, 1300: 14000000, 1301: 14200000, 1302: 14300000, 1303: 14400000, 1304: 14500000, 1305: 14600000, 1306: 14800000, 1307: 15000000, 1308: 15100000, 1309: 15200000, 1310: 15500000, 1311: 15600000, 1312: 15700000, 1313: 15800000, 1314: 16000000, 1315: 16300000, 1316: 16400000, 1317: 16500000, 1318: 16600000, 1319: 16700000, 1320: 16800000, 1321: 16900000, 1322: 17000000, 1323: 17200000, 1324: 17500000, 1325: 17600000, 1326: 17800000, 1327: 18000000, 1328: 18200000, 1329: 18300000, 1330: 18500000, 1331: 18900000, 1332: 19000000, 1333: 19200000, 1334: 19500000, 1335: 19800000, 1336: 19900000, 1337: 20000000, 1338: 20500000, 1339: 20800000, 1340: 21000000, 1341: 21300000, 1342: 21500000, 1343: 21700000, 1344: 22000000, 1345: 22200000, 1346: 22500000, 1347: 22700000, 1348: 22900000, 1349: 23000000, 1350: 23200000, 1351: 23300000, 1352: 23500000, 1353: 23600000, 1354: 24000000, 1355: 24200000, 1356: 24400000, 1357: 24500000, 1358: 24700000, 1359: 24900000, 1360: 25000000, 1361: 25500000, 1362: 26000000, 1363: 26500000, 1364: 27000000, 1365: 27500000, 1366: 27800000, 1367: 28000000, 1368: 28500000, 1369: 29000000, 1370: 29800000, 1371: 29900000, 1372: 30000000, 1373: 30500000, 1374: 31000000, 1375: 31500000, 1376: 31900000, 1377: 32000000, 1378: 32500000, 1379: 33000000, 1380: 33500000, 1381: 34000000, 1382: 34300000, 1383: 34500000, 1384: 35000000, 1385: 35500000, 1386: 36000000, 1387: 36500000, 1388: 37000000, 1389: 37500000, 1390: 38000000, 1391: 38500000, 1392: 39000000, 1393: 39500000, 1394: 40000000, 1395: 41000000, 1396: 41500000, 1397: 42000000, 1398: 42500000, 1399: 43000000, 1400: 43500000, 1401: 44000000, 1402: 45000000, 1403: 45500000, 1404: 46000000, 1405: 46500000, 1406: 47000000, 1407: 47500000, 1408: 48000000, 1409: 48500000, 1410: 49500000, 1411: 51500000, 1412: 52500000, 1413: 53500000, 1414: 55000000, 1415: 58500000, 1416: 65000000, 1417: 66000000, 1418: 77500000}\n",
            "model_year : {0: 1990, 1: 1991, 2: 1992, 3: 1993, 4: 1994, 5: 1995, 6: 1996, 7: 1997, 8: 1998, 9: 1999, 10: 2000, 11: 2001, 12: 2002, 13: 2003, 14: 2004, 15: 2005, 16: 2006, 17: 2007, 18: 2008, 19: 2009, 20: 2010, 21: 2011, 22: 2012, 23: 2013, 24: 2014, 25: 2015, 26: 2016, 27: 2017, 28: 2018, 29: 2019}\n",
            "location : {0: 'Balochistan', 1: 'Islamabad', 2: 'KPK', 3: 'Kashmir', 4: 'Punjab', 5: 'Sindh'}\n",
            "mileage : {0: 1, 1: 2, 2: 3, 3: 7, 4: 10, 5: 11, 6: 12, 7: 13, 8: 15, 9: 16, 10: 17, 11: 18, 12: 19, 13: 20, 14: 22, 15: 23, 16: 24, 17: 25, 18: 27, 19: 30, 20: 32, 21: 34, 22: 35, 23: 37, 24: 39, 25: 40, 26: 42, 27: 45, 28: 46, 29: 49, 30: 50, 31: 65, 32: 70, 33: 80, 34: 82, 35: 84, 36: 90, 37: 100, 38: 120, 39: 123, 40: 130, 41: 150, 42: 158, 43: 180, 44: 196, 45: 200, 46: 250, 47: 262, 48: 293, 49: 300, 50: 349, 51: 353, 52: 395, 53: 400, 54: 450, 55: 478, 56: 495, 57: 496, 58: 500, 59: 540, 60: 570, 61: 600, 62: 620, 63: 660, 64: 700, 65: 740, 66: 750, 67: 762, 68: 780, 69: 800, 70: 850, 71: 865, 72: 900, 73: 950, 74: 962, 75: 964, 76: 980, 77: 1000, 78: 1100, 79: 1133, 80: 1200, 81: 1272, 82: 1300, 83: 1328, 84: 1400, 85: 1403, 86: 1413, 87: 1500, 88: 1520, 89: 1600, 90: 1629, 91: 1646, 92: 1700, 93: 1790, 94: 1800, 95: 1850, 96: 1893, 97: 1900, 98: 2000, 99: 2060, 100: 2100, 101: 2200, 102: 2300, 103: 2400, 104: 2445, 105: 2487, 106: 2500, 107: 2600, 108: 2660, 109: 2700, 110: 2750, 111: 2791, 112: 2800, 113: 2850, 114: 2900, 115: 2952, 116: 3000, 117: 3040, 118: 3050, 119: 3100, 120: 3145, 121: 3170, 122: 3200, 123: 3300, 124: 3305, 125: 3333, 126: 3400, 127: 3450, 128: 3500, 129: 3600, 130: 3650, 131: 3700, 132: 3724, 133: 3750, 134: 3800, 135: 3861, 136: 3900, 137: 3950, 138: 4000, 139: 4040, 140: 4077, 141: 4090, 142: 4100, 143: 4192, 144: 4200, 145: 4250, 146: 4300, 147: 4400, 148: 4415, 149: 4430, 150: 4440, 151: 4450, 152: 4468, 153: 4500, 154: 4550, 155: 4600, 156: 4700, 157: 4800, 158: 4852, 159: 4900, 160: 4980, 161: 5000, 162: 5015, 163: 5042, 164: 5091, 165: 5093, 166: 5100, 167: 5160, 168: 5163, 169: 5200, 170: 5250, 171: 5291, 172: 5300, 173: 5394, 174: 5400, 175: 5500, 176: 5507, 177: 5599, 178: 5600, 179: 5656, 180: 5675, 181: 5700, 182: 5711, 183: 5738, 184: 5757, 185: 5800, 186: 5858, 187: 5874, 188: 5900, 189: 6000, 190: 6030, 191: 6100, 192: 6200, 193: 6300, 194: 6351, 195: 6390, 196: 6400, 197: 6412, 198: 6454, 199: 6455, 200: 6483, 201: 6498, 202: 6500, 203: 6549, 204: 6600, 205: 6605, 206: 6700, 207: 6720, 208: 6797, 209: 6800, 210: 6900, 211: 7000, 212: 7025, 213: 7050, 214: 7060, 215: 7096, 216: 7100, 217: 7200, 218: 7213, 219: 7234, 220: 7274, 221: 7299, 222: 7300, 223: 7380, 224: 7400, 225: 7440, 226: 7449, 227: 7450, 228: 7455, 229: 7459, 230: 7500, 231: 7534, 232: 7536, 233: 7600, 234: 7650, 235: 7700, 236: 7724, 237: 7750, 238: 7780, 239: 7791, 240: 7800, 241: 7847, 242: 7900, 243: 7940, 244: 8000, 245: 8010, 246: 8020, 247: 8045, 248: 8048, 249: 8050, 250: 8059, 251: 8100, 252: 8105, 253: 8200, 254: 8260, 255: 8300, 256: 8323, 257: 8369, 258: 8495, 259: 8500, 260: 8537, 261: 8594, 262: 8600, 263: 8630, 264: 8666, 265: 8700, 266: 8706, 267: 8723, 268: 8738, 269: 8774, 270: 8786, 271: 8800, 272: 8855, 273: 8868, 274: 8900, 275: 9000, 276: 9040, 277: 9048, 278: 9053, 279: 9100, 280: 9150, 281: 9168, 282: 9187, 283: 9200, 284: 9205, 285: 9235, 286: 9248, 287: 9271, 288: 9287, 289: 9300, 290: 9307, 291: 9400, 292: 9480, 293: 9500, 294: 9595, 295: 9600, 296: 9630, 297: 9650, 298: 9699, 299: 9700, 300: 9800, 301: 9835, 302: 9838, 303: 9865, 304: 9869, 305: 9973, 306: 9974, 307: 9980, 308: 10000, 309: 10007, 310: 10110, 311: 10150, 312: 10178, 313: 10200, 314: 10228, 315: 10248, 316: 10300, 317: 10309, 318: 10400, 319: 10450, 320: 10463, 321: 10466, 322: 10497, 323: 10500, 324: 10553, 325: 10555, 326: 10570, 327: 10580, 328: 10595, 329: 10600, 330: 10656, 331: 10679, 332: 10690, 333: 10700, 334: 10786, 335: 10800, 336: 10858, 337: 10877, 338: 10881, 339: 10900, 340: 10948, 341: 11000, 342: 11012, 343: 11111, 344: 11144, 345: 11200, 346: 11235, 347: 11280, 348: 11300, 349: 11400, 350: 11447, 351: 11450, 352: 11453, 353: 11500, 354: 11549, 355: 11562, 356: 11579, 357: 11600, 358: 11664, 359: 11700, 360: 11800, 361: 11847, 362: 11900, 363: 11978, 364: 11983, 365: 11995, 366: 12000, 367: 12015, 368: 12017, 369: 12028, 370: 12100, 371: 12200, 372: 12238, 373: 12245, 374: 12300, 375: 12319, 376: 12345, 377: 12354, 378: 12400, 379: 12447, 380: 12453, 381: 12478, 382: 12500, 383: 12600, 384: 12651, 385: 12672, 386: 12700, 387: 12786, 388: 12800, 389: 12821, 390: 12841, 391: 12850, 392: 12869, 393: 12900, 394: 13000, 395: 13098, 396: 13126, 397: 13148, 398: 13151, 399: 13171, 400: 13200, 401: 13204, 402: 13210, 403: 13250, 404: 13283, 405: 13290, 406: 13300, 407: 13350, 408: 13364, 409: 13400, 410: 13445, 411: 13450, 412: 13500, 413: 13567, 414: 13600, 415: 13664, 416: 13700, 417: 13745, 418: 13750, 419: 13755, 420: 13786, 421: 13800, 422: 13836, 423: 13850, 424: 13873, 425: 13900, 426: 13950, 427: 14000, 428: 14009, 429: 14025, 430: 14029, 431: 14075, 432: 14106, 433: 14114, 434: 14126, 435: 14131, 436: 14200, 437: 14230, 438: 14232, 439: 14259, 440: 14280, 441: 14300, 442: 14400, 443: 14450, 444: 14500, 445: 14550, 446: 14600, 447: 14604, 448: 14661, 449: 14700, 450: 14721, 451: 14728, 452: 14797, 453: 14800, 454: 14805, 455: 14850, 456: 14900, 457: 14917, 458: 14943, 459: 14999, 460: 15000, 461: 15087, 462: 15100, 463: 15108, 464: 15119, 465: 15142, 466: 15154, 467: 15200, 468: 15205, 469: 15289, 470: 15300, 471: 15350, 472: 15400, 473: 15409, 474: 15446, 475: 15460, 476: 15500, 477: 15570, 478: 15600, 479: 15650, 480: 15656, 481: 15670, 482: 15680, 483: 15703, 484: 15725, 485: 15750, 486: 15769, 487: 15800, 488: 15841, 489: 15845, 490: 15848, 491: 15863, 492: 15892, 493: 15900, 494: 16000, 495: 16084, 496: 16100, 497: 16103, 498: 16135, 499: 16137, 500: 16200, 501: 16248, 502: 16253, 503: 16300, 504: 16400, 505: 16436, 506: 16500, 507: 16520, 508: 16537, 509: 16576, 510: 16600, 511: 16622, 512: 16650, 513: 16667, 514: 16690, 515: 16700, 516: 16740, 517: 16800, 518: 16900, 519: 16950, 520: 17000, 521: 17028, 522: 17082, 523: 17100, 524: 17101, 525: 17107, 526: 17112, 527: 17150, 528: 17200, 529: 17250, 530: 17264, 531: 17300, 532: 17305, 533: 17365, 534: 17400, 535: 17477, 536: 17492, 537: 17500, 538: 17512, 539: 17520, 540: 17560, 541: 17561, 542: 17568, 543: 17600, 544: 17700, 545: 17726, 546: 17750, 547: 17800, 548: 17856, 549: 17864, 550: 17876, 551: 17896, 552: 17900, 553: 17942, 554: 18000, 555: 18150, 556: 18166, 557: 18200, 558: 18225, 559: 18232, 560: 18254, 561: 18300, 562: 18328, 563: 18340, 564: 18362, 565: 18370, 566: 18389, 567: 18400, 568: 18452, 569: 18500, 570: 18600, 571: 18605, 572: 18650, 573: 18700, 574: 18800, 575: 18877, 576: 18891, 577: 18900, 578: 18965, 579: 18985, 580: 18998, 581: 19000, 582: 19003, 583: 19085, 584: 19100, 585: 19200, 586: 19211, 587: 19218, 588: 19300, 589: 19311, 590: 19338, 591: 19380, 592: 19383, 593: 19400, 594: 19460, 595: 19480, 596: 19500, 597: 19510, 598: 19520, 599: 19560, 600: 19600, 601: 19655, 602: 19700, 603: 19750, 604: 19756, 605: 19800, 606: 19825, 607: 19830, 608: 19836, 609: 19840, 610: 19841, 611: 19852, 612: 19860, 613: 19870, 614: 19900, 615: 19950, 616: 19990, 617: 19999, 618: 20000, 619: 20055, 620: 20100, 621: 20165, 622: 20188, 623: 20200, 624: 20204, 625: 20250, 626: 20263, 627: 20265, 628: 20275, 629: 20298, 630: 20300, 631: 20321, 632: 20357, 633: 20358, 634: 20384, 635: 20400, 636: 20419, 637: 20440, 638: 20474, 639: 20500, 640: 20510, 641: 20557, 642: 20563, 643: 20600, 644: 20615, 645: 20617, 646: 20650, 647: 20700, 648: 20750, 649: 20765, 650: 20800, 651: 20880, 652: 20900, 653: 20974, 654: 20998, 655: 21000, 656: 21124, 657: 21140, 658: 21143, 659: 21156, 660: 21188, 661: 21189, 662: 21200, 663: 21203, 664: 21253, 665: 21300, 666: 21321, 667: 21345, 668: 21368, 669: 21394, 670: 21400, 671: 21430, 672: 21500, 673: 21533, 674: 21566, 675: 21600, 676: 21615, 677: 21700, 678: 21707, 679: 21800, 680: 21880, 681: 21900, 682: 21950, 683: 22000, 684: 22013, 685: 22014, 686: 22050, 687: 22140, 688: 22177, 689: 22200, 690: 22205, 691: 22248, 692: 22300, 693: 22312, 694: 22400, 695: 22430, 696: 22500, 697: 22539, 698: 22560, 699: 22605, 700: 22662, 701: 22700, 702: 22776, 703: 22800, 704: 22895, 705: 22900, 706: 23000, 707: 23077, 708: 23091, 709: 23160, 710: 23214, 711: 23231, 712: 23385, 713: 23400, 714: 23423, 715: 23500, 716: 23520, 717: 23539, 718: 23550, 719: 23555, 720: 23600, 721: 23655, 722: 23658, 723: 23700, 724: 23720, 725: 23800, 726: 23805, 727: 23808, 728: 23889, 729: 23900, 730: 23933, 731: 23938, 732: 23948, 733: 23988, 734: 24000, 735: 24052, 736: 24100, 737: 24111, 738: 24133, 739: 24200, 740: 24272, 741: 24289, 742: 24300, 743: 24400, 744: 24496, 745: 24500, 746: 24510, 747: 24520, 748: 24537, 749: 24552, 750: 24600, 751: 24622, 752: 24677, 753: 24700, 754: 24773, 755: 24800, 756: 24811, 757: 24812, 758: 24850, 759: 24900, 760: 24934, 761: 24940, 762: 24956, 763: 24963, 764: 24976, 765: 24980, 766: 24988, 767: 25000, 768: 25001, 769: 25006, 770: 25012, 771: 25028, 772: 25046, 773: 25050, 774: 25100, 775: 25154, 776: 25200, 777: 25254, 778: 25257, 779: 25290, 780: 25300, 781: 25314, 782: 25370, 783: 25386, 784: 25400, 785: 25480, 786: 25483, 787: 25500, 788: 25600, 789: 25615, 790: 25627, 791: 25680, 792: 25689, 793: 25700, 794: 25730, 795: 25766, 796: 25800, 797: 25802, 798: 25806, 799: 25807, 800: 25811, 801: 25835, 802: 25866, 803: 25895, 804: 25900, 805: 25922, 806: 25940, 807: 26000, 808: 26036, 809: 26045, 810: 26087, 811: 26100, 812: 26103, 813: 26115, 814: 26200, 815: 26201, 816: 26230, 817: 26272, 818: 26275, 819: 26451, 820: 26500, 821: 26532, 822: 26580, 823: 26600, 824: 26670, 825: 26700, 826: 26712, 827: 26793, 828: 26800, 829: 26811, 830: 26832, 831: 26870, 832: 26900, 833: 26974, 834: 26995, 835: 27000, 836: 27085, 837: 27090, 838: 27150, 839: 27200, 840: 27289, 841: 27293, 842: 27298, 843: 27300, 844: 27333, 845: 27360, 846: 27390, 847: 27400, 848: 27413, 849: 27470, 850: 27471, 851: 27498, 852: 27500, 853: 27552, 854: 27554, 855: 27597, 856: 27600, 857: 27700, 858: 27713, 859: 27746, 860: 27750, 861: 27762, 862: 27776, 863: 27800, 864: 27856, 865: 27901, 866: 27927, 867: 28000, 868: 28010, 869: 28072, 870: 28091, 871: 28099, 872: 28103, 873: 28133, 874: 28135, 875: 28140, 876: 28165, 877: 28174, 878: 28200, 879: 28264, 880: 28300, 881: 28310, 882: 28335, 883: 28351, 884: 28364, 885: 28500, 886: 28514, 887: 28535, 888: 28537, 889: 28575, 890: 28600, 891: 28610, 892: 28668, 893: 28700, 894: 28780, 895: 28800, 896: 28900, 897: 28929, 898: 28950, 899: 28960, 900: 29000, 901: 29191, 902: 29197, 903: 29200, 904: 29230, 905: 29260, 906: 29300, 907: 29333, 908: 29500, 909: 29522, 910: 29594, 911: 29600, 912: 29635, 913: 29653, 914: 29670, 915: 29680, 916: 29700, 917: 29703, 918: 29710, 919: 29717, 920: 29800, 921: 29817, 922: 29852, 923: 29880, 924: 29886, 925: 29942, 926: 29986, 927: 30000, 928: 30011, 929: 30026, 930: 30063, 931: 30100, 932: 30200, 933: 30250, 934: 30256, 935: 30300, 936: 30436, 937: 30450, 938: 30500, 939: 30560, 940: 30600, 941: 30647, 942: 30700, 943: 30739, 944: 30764, 945: 30854, 946: 30890, 947: 30900, 948: 30942, 949: 30960, 950: 30980, 951: 31000, 952: 31002, 953: 31070, 954: 31100, 955: 31112, 956: 31155, 957: 31159, 958: 31175, 959: 31193, 960: 31200, 961: 31258, 962: 31280, 963: 31300, 964: 31380, 965: 31457, 966: 31478, 967: 31500, 968: 31518, 969: 31583, 970: 31616, 971: 31621, 972: 31645, 973: 31700, 974: 31725, 975: 31746, 976: 31768, 977: 31800, 978: 31836, 979: 31850, 980: 31900, 981: 32000, 982: 32025, 983: 32090, 984: 32100, 985: 32143, 986: 32155, 987: 32284, 988: 32331, 989: 32350, 990: 32369, 991: 32423, 992: 32454, 993: 32500, 994: 32524, 995: 32574, 996: 32580, 997: 32600, 998: 32664, 999: 32673, 1000: 32700, 1001: 32770, 1002: 32773, 1003: 32800, 1004: 32831, 1005: 32900, 1006: 32999, 1007: 33000, 1008: 33088, 1009: 33094, 1010: 33100, 1011: 33122, 1012: 33170, 1013: 33200, 1014: 33227, 1015: 33230, 1016: 33250, 1017: 33266, 1018: 33370, 1019: 33425, 1020: 33447, 1021: 33500, 1022: 33519, 1023: 33600, 1024: 33631, 1025: 33637, 1026: 33679, 1027: 33700, 1028: 33746, 1029: 33800, 1030: 33860, 1031: 33900, 1032: 33924, 1033: 33929, 1034: 33982, 1035: 33988, 1036: 34000, 1037: 34003, 1038: 34047, 1039: 34080, 1040: 34100, 1041: 34130, 1042: 34131, 1043: 34139, 1044: 34200, 1045: 34219, 1046: 34224, 1047: 34249, 1048: 34250, 1049: 34268, 1050: 34276, 1051: 34300, 1052: 34333, 1053: 34350, 1054: 34358, 1055: 34400, 1056: 34405, 1057: 34420, 1058: 34476, 1059: 34500, 1060: 34531, 1061: 34550, 1062: 34575, 1063: 34600, 1064: 34622, 1065: 34700, 1066: 34759, 1067: 34800, 1068: 34857, 1069: 34862, 1070: 34864, 1071: 34900, 1072: 34936, 1073: 35000, 1074: 35001, 1075: 35008, 1076: 35017, 1077: 35020, 1078: 35070, 1079: 35091, 1080: 35102, 1081: 35123, 1082: 35134, 1083: 35200, 1084: 35215, 1085: 35223, 1086: 35256, 1087: 35294, 1088: 35300, 1089: 35312, 1090: 35352, 1091: 35378, 1092: 35399, 1093: 35400, 1094: 35450, 1095: 35458, 1096: 35480, 1097: 35485, 1098: 35500, 1099: 35572, 1100: 35580, 1101: 35600, 1102: 35652, 1103: 35685, 1104: 35727, 1105: 35800, 1106: 35839, 1107: 35840, 1108: 35900, 1109: 35905, 1110: 35930, 1111: 35947, 1112: 36000, 1113: 36118, 1114: 36200, 1115: 36293, 1116: 36300, 1117: 36380, 1118: 36400, 1119: 36428, 1120: 36500, 1121: 36517, 1122: 36560, 1123: 36600, 1124: 36627, 1125: 36689, 1126: 36700, 1127: 36701, 1128: 36715, 1129: 36800, 1130: 36850, 1131: 36869, 1132: 36870, 1133: 36900, 1134: 36991, 1135: 37000, 1136: 37022, 1137: 37050, 1138: 37133, 1139: 37179, 1140: 37187, 1141: 37200, 1142: 37213, 1143: 37250, 1144: 37279, 1145: 37300, 1146: 37392, 1147: 37400, 1148: 37415, 1149: 37478, 1150: 37493, 1151: 37500, 1152: 37523, 1153: 37542, 1154: 37563, 1155: 37583, 1156: 37588, 1157: 37599, 1158: 37600, 1159: 37682, 1160: 37700, 1161: 37730, 1162: 37750, 1163: 37800, 1164: 37850, 1165: 37855, 1166: 37900, 1167: 37956, 1168: 37980, 1169: 38000, 1170: 38100, 1171: 38150, 1172: 38152, 1173: 38200, 1174: 38224, 1175: 38250, 1176: 38373, 1177: 38388, 1178: 38400, 1179: 38450, 1180: 38500, 1181: 38600, 1182: 38637, 1183: 38651, 1184: 38654, 1185: 38700, 1186: 38738, 1187: 38790, 1188: 38800, 1189: 38807, 1190: 38828, 1191: 38900, 1192: 39000, 1193: 39010, 1194: 39040, 1195: 39050, 1196: 39143, 1197: 39200, 1198: 39217, 1199: 39250, 1200: 39300, 1201: 39400, 1202: 39423, 1203: 39500, 1204: 39530, 1205: 39534, 1206: 39600, 1207: 39631, 1208: 39650, 1209: 39670, 1210: 39699, 1211: 39700, 1212: 39704, 1213: 39775, 1214: 39800, 1215: 39812, 1216: 39825, 1217: 39840, 1218: 39850, 1219: 39900, 1220: 39972, 1221: 40000, 1222: 40034, 1223: 40047, 1224: 40050, 1225: 40080, 1226: 40100, 1227: 40117, 1228: 40129, 1229: 40190, 1230: 40195, 1231: 40200, 1232: 40320, 1233: 40343, 1234: 40345, 1235: 40387, 1236: 40400, 1237: 40434, 1238: 40500, 1239: 40568, 1240: 40600, 1241: 40662, 1242: 40692, 1243: 40693, 1244: 40700, 1245: 40710, 1246: 40726, 1247: 40800, 1248: 40881, 1249: 40885, 1250: 40900, 1251: 40921, 1252: 40930, 1253: 40947, 1254: 41000, 1255: 41030, 1256: 41052, 1257: 41080, 1258: 41150, 1259: 41169, 1260: 41200, 1261: 41201, 1262: 41230, 1263: 41232, 1264: 41300, 1265: 41306, 1266: 41369, 1267: 41400, 1268: 41441, 1269: 41473, 1270: 41500, 1271: 41545, 1272: 41555, 1273: 41593, 1274: 41623, 1275: 41693, 1276: 41700, 1277: 41758, 1278: 41793, 1279: 41800, 1280: 41893, 1281: 41900, 1282: 41949, 1283: 42000, 1284: 42008, 1285: 42014, 1286: 42045, 1287: 42099, 1288: 42100, 1289: 42108, 1290: 42109, 1291: 42125, 1292: 42200, 1293: 42222, 1294: 42231, 1295: 42250, 1296: 42278, 1297: 42291, 1298: 42300, 1299: 42322, 1300: 42325, 1301: 42353, 1302: 42355, 1303: 42400, 1304: 42463, 1305: 42500, 1306: 42520, 1307: 42539, 1308: 42542, 1309: 42551, 1310: 42563, 1311: 42600, 1312: 42630, 1313: 42679, 1314: 42690, 1315: 42700, 1316: 42746, 1317: 42786, 1318: 42800, 1319: 42850, 1320: 42868, 1321: 42881, 1322: 42900, 1323: 42901, 1324: 42912, 1325: 42964, 1326: 43000, 1327: 43100, 1328: 43200, 1329: 43204, 1330: 43207, 1331: 43227, 1332: 43253, 1333: 43256, 1334: 43282, 1335: 43300, 1336: 43324, 1337: 43329, 1338: 43350, 1339: 43391, 1340: 43400, 1341: 43498, 1342: 43499, 1343: 43500, 1344: 43521, 1345: 43597, 1346: 43600, 1347: 43695, 1348: 43700, 1349: 43706, 1350: 43754, 1351: 43759, 1352: 43800, 1353: 44000, 1354: 44074, 1355: 44204, 1356: 44238, 1357: 44258, 1358: 44285, 1359: 44300, 1360: 44303, 1361: 44304, 1362: 44340, 1363: 44415, 1364: 44446, 1365: 44450, 1366: 44500, 1367: 44526, 1368: 44530, 1369: 44536, 1370: 44546, 1371: 44571, 1372: 44600, 1373: 44611, 1374: 44650, 1375: 44676, 1376: 44700, 1377: 44730, 1378: 44757, 1379: 44797, 1380: 44800, 1381: 44803, 1382: 44948, 1383: 44985, 1384: 45000, 1385: 45035, 1386: 45200, 1387: 45245, 1388: 45300, 1389: 45347, 1390: 45350, 1391: 45357, 1392: 45360, 1393: 45390, 1394: 45400, 1395: 45445, 1396: 45479, 1397: 45500, 1398: 45533, 1399: 45558, 1400: 45564, 1401: 45600, 1402: 45630, 1403: 45631, 1404: 45633, 1405: 45642, 1406: 45645, 1407: 45678, 1408: 45685, 1409: 45700, 1410: 45787, 1411: 45800, 1412: 45850, 1413: 45868, 1414: 45893, 1415: 45900, 1416: 45923, 1417: 45939, 1418: 45999, 1419: 46000, 1420: 46007, 1421: 46150, 1422: 46157, 1423: 46171, 1424: 46200, 1425: 46235, 1426: 46269, 1427: 46291, 1428: 46300, 1429: 46353, 1430: 46385, 1431: 46400, 1432: 46413, 1433: 46418, 1434: 46480, 1435: 46482, 1436: 46500, 1437: 46527, 1438: 46571, 1439: 46600, 1440: 46601, 1441: 46650, 1442: 46693, 1443: 46700, 1444: 46733, 1445: 46750, 1446: 46755, 1447: 46823, 1448: 46826, 1449: 46866, 1450: 46883, 1451: 46900, 1452: 46950, 1453: 46954, 1454: 46999, 1455: 47000, 1456: 47001, 1457: 47007, 1458: 47089, 1459: 47121, 1460: 47127, 1461: 47132, 1462: 47150, 1463: 47200, 1464: 47210, 1465: 47249, 1466: 47250, 1467: 47300, 1468: 47305, 1469: 47334, 1470: 47353, 1471: 47380, 1472: 47400, 1473: 47500, 1474: 47515, 1475: 47529, 1476: 47583, 1477: 47600, 1478: 47633, 1479: 47681, 1480: 47746, 1481: 47800, 1482: 47866, 1483: 47897, 1484: 47900, 1485: 47948, 1486: 48000, 1487: 48006, 1488: 48160, 1489: 48190, 1490: 48199, 1491: 48200, 1492: 48223, 1493: 48250, 1494: 48267, 1495: 48276, 1496: 48300, 1497: 48353, 1498: 48400, 1499: 48480, 1500: 48490, 1501: 48500, 1502: 48550, 1503: 48560, 1504: 48600, 1505: 48650, 1506: 48651, 1507: 48670, 1508: 48732, 1509: 48750, 1510: 48772, 1511: 48783, 1512: 48800, 1513: 48884, 1514: 48888, 1515: 48895, 1516: 48913, 1517: 48971, 1518: 49000, 1519: 49001, 1520: 49100, 1521: 49113, 1522: 49200, 1523: 49235, 1524: 49242, 1525: 49250, 1526: 49330, 1527: 49346, 1528: 49347, 1529: 49430, 1530: 49438, 1531: 49458, 1532: 49475, 1533: 49497, 1534: 49499, 1535: 49500, 1536: 49537, 1537: 49545, 1538: 49554, 1539: 49560, 1540: 49600, 1541: 49629, 1542: 49650, 1543: 49654, 1544: 49671, 1545: 49683, 1546: 49685, 1547: 49690, 1548: 49700, 1549: 49730, 1550: 49735, 1551: 49751, 1552: 49786, 1553: 49800, 1554: 49821, 1555: 49894, 1556: 49895, 1557: 49900, 1558: 49950, 1559: 49974, 1560: 49978, 1561: 49995, 1562: 49999, 1563: 50000, 1564: 50009, 1565: 50056, 1566: 50064, 1567: 50074, 1568: 50097, 1569: 50100, 1570: 50120, 1571: 50199, 1572: 50200, 1573: 50214, 1574: 50220, 1575: 50226, 1576: 50233, 1577: 50256, 1578: 50277, 1579: 50280, 1580: 50284, 1581: 50300, 1582: 50307, 1583: 50345, 1584: 50347, 1585: 50353, 1586: 50370, 1587: 50400, 1588: 50451, 1589: 50500, 1590: 50503, 1591: 50506, 1592: 50550, 1593: 50570, 1594: 50584, 1595: 50600, 1596: 50656, 1597: 50672, 1598: 50700, 1599: 50762, 1600: 50786, 1601: 50790, 1602: 50800, 1603: 50876, 1604: 50893, 1605: 50946, 1606: 50953, 1607: 51000, 1608: 51097, 1609: 51100, 1610: 51113, 1611: 51143, 1612: 51222, 1613: 51230, 1614: 51240, 1615: 51250, 1616: 51253, 1617: 51280, 1618: 51300, 1619: 51327, 1620: 51420, 1621: 51428, 1622: 51487, 1623: 51500, 1624: 51538, 1625: 51600, 1626: 51661, 1627: 51700, 1628: 51800, 1629: 51946, 1630: 51964, 1631: 51993, 1632: 52000, 1633: 52002, 1634: 52057, 1635: 52068, 1636: 52083, 1637: 52088, 1638: 52100, 1639: 52102, 1640: 52106, 1641: 52110, 1642: 52114, 1643: 52115, 1644: 52143, 1645: 52147, 1646: 52150, 1647: 52160, 1648: 52200, 1649: 52205, 1650: 52250, 1651: 52251, 1652: 52300, 1653: 52368, 1654: 52370, 1655: 52400, 1656: 52432, 1657: 52450, 1658: 52480, 1659: 52492, 1660: 52500, 1661: 52540, 1662: 52543, 1663: 52587, 1664: 52589, 1665: 52599, 1666: 52600, 1667: 52660, 1668: 52680, 1669: 52681, 1670: 52700, 1671: 52800, 1672: 52804, 1673: 52809, 1674: 53000, 1675: 53040, 1676: 53052, 1677: 53122, 1678: 53183, 1679: 53200, 1680: 53231, 1681: 53251, 1682: 53300, 1683: 53320, 1684: 53331, 1685: 53380, 1686: 53400, 1687: 53430, 1688: 53431, 1689: 53480, 1690: 53500, 1691: 53600, 1692: 53628, 1693: 53650, 1694: 53774, 1695: 53785, 1696: 53792, 1697: 53800, 1698: 53802, 1699: 53850, 1700: 53865, 1701: 53883, 1702: 53900, 1703: 53980, 1704: 54000, 1705: 54034, 1706: 54070, 1707: 54100, 1708: 54137, 1709: 54150, 1710: 54176, 1711: 54200, 1712: 54235, 1713: 54250, 1714: 54309, 1715: 54310, 1716: 54321, 1717: 54390, 1718: 54395, 1719: 54500, 1720: 54502, 1721: 54530, 1722: 54547, 1723: 54560, 1724: 54564, 1725: 54575, 1726: 54600, 1727: 54647, 1728: 54700, 1729: 54761, 1730: 54800, 1731: 54810, 1732: 54817, 1733: 54828, 1734: 54844, 1735: 54900, 1736: 54934, 1737: 54965, 1738: 54968, 1739: 54976, 1740: 55000, 1741: 55050, 1742: 55100, 1743: 55161, 1744: 55200, 1745: 55205, 1746: 55207, 1747: 55235, 1748: 55266, 1749: 55271, 1750: 55300, 1751: 55330, 1752: 55370, 1753: 55386, 1754: 55397, 1755: 55400, 1756: 55404, 1757: 55450, 1758: 55470, 1759: 55485, 1760: 55500, 1761: 55530, 1762: 55555, 1763: 55557, 1764: 55564, 1765: 55600, 1766: 55613, 1767: 55621, 1768: 55644, 1769: 55700, 1770: 55733, 1771: 55777, 1772: 55800, 1773: 55842, 1774: 55893, 1775: 55900, 1776: 55927, 1777: 55932, 1778: 55950, 1779: 56000, 1780: 56010, 1781: 56036, 1782: 56042, 1783: 56043, 1784: 56197, 1785: 56200, 1786: 56230, 1787: 56250, 1788: 56251, 1789: 56290, 1790: 56300, 1791: 56312, 1792: 56395, 1793: 56400, 1794: 56500, 1795: 56512, 1796: 56548, 1797: 56600, 1798: 56612, 1799: 56650, 1800: 56662, 1801: 56670, 1802: 56671, 1803: 56700, 1804: 56715, 1805: 56735, 1806: 56800, 1807: 56804, 1808: 56852, 1809: 56873, 1810: 56880, 1811: 56910, 1812: 56918, 1813: 56925, 1814: 56932, 1815: 56951, 1816: 56969, 1817: 56980, 1818: 57000, 1819: 57125, 1820: 57133, 1821: 57160, 1822: 57170, 1823: 57198, 1824: 57200, 1825: 57400, 1826: 57440, 1827: 57452, 1828: 57465, 1829: 57472, 1830: 57477, 1831: 57500, 1832: 57550, 1833: 57572, 1834: 57600, 1835: 57606, 1836: 57638, 1837: 57653, 1838: 57656, 1839: 57683, 1840: 57760, 1841: 57770, 1842: 57773, 1843: 57779, 1844: 57800, 1845: 57850, 1846: 57960, 1847: 57963, 1848: 57975, 1849: 58000, 1850: 58031, 1851: 58060, 1852: 58106, 1853: 58128, 1854: 58185, 1855: 58200, 1856: 58215, 1857: 58236, 1858: 58280, 1859: 58283, 1860: 58300, 1861: 58330, 1862: 58339, 1863: 58352, 1864: 58400, 1865: 58410, 1866: 58427, 1867: 58445, 1868: 58485, 1869: 58491, 1870: 58500, 1871: 58501, 1872: 58522, 1873: 58600, 1874: 58632, 1875: 58637, 1876: 58640, 1877: 58700, 1878: 58800, 1879: 58900, 1880: 58907, 1881: 58975, 1882: 59000, 1883: 59027, 1884: 59123, 1885: 59200, 1886: 59231, 1887: 59250, 1888: 59260, 1889: 59282, 1890: 59300, 1891: 59325, 1892: 59365, 1893: 59400, 1894: 59430, 1895: 59446, 1896: 59463, 1897: 59492, 1898: 59500, 1899: 59546, 1900: 59564, 1901: 59600, 1902: 59660, 1903: 59696, 1904: 59700, 1905: 59750, 1906: 59791, 1907: 59800, 1908: 59863, 1909: 59871, 1910: 59959, 1911: 59980, 1912: 60000, 1913: 60006, 1914: 60020, 1915: 60050, 1916: 60058, 1917: 60091, 1918: 60100, 1919: 60137, 1920: 60150, 1921: 60159, 1922: 60200, 1923: 60223, 1924: 60235, 1925: 60249, 1926: 60270, 1927: 60315, 1928: 60317, 1929: 60350, 1930: 60400, 1931: 60416, 1932: 60418, 1933: 60450, 1934: 60480, 1935: 60500, 1936: 60517, 1937: 60530, 1938: 60564, 1939: 60599, 1940: 60600, 1941: 60606, 1942: 60648, 1943: 60666, 1944: 60754, 1945: 60765, 1946: 60786, 1947: 60800, 1948: 60822, 1949: 60900, 1950: 60985, 1951: 61000, 1952: 61010, 1953: 61040, 1954: 61065, 1955: 61100, 1956: 61110, 1957: 61200, 1958: 61208, 1959: 61230, 1960: 61231, 1961: 61245, 1962: 61250, 1963: 61273, 1964: 61300, 1965: 61358, 1966: 61393, 1967: 61400, 1968: 61429, 1969: 61434, 1970: 61500, 1971: 61511, 1972: 61540, 1973: 61570, 1974: 61592, 1975: 61700, 1976: 61800, 1977: 61829, 1978: 61872, 1979: 61900, 1980: 61980, 1981: 61994, 1982: 62000, 1983: 62100, 1984: 62121, 1985: 62131, 1986: 62141, 1987: 62200, 1988: 62260, 1989: 62300, 1990: 62321, 1991: 62326, 1992: 62340, 1993: 62345, 1994: 62400, 1995: 62485, 1996: 62500, 1997: 62514, 1998: 62525, 1999: 62528, 2000: 62530, 2001: 62543, 2002: 62586, 2003: 62600, 2004: 62627, 2005: 62650, 2006: 62699, 2007: 62700, 2008: 62738, 2009: 62751, 2010: 62791, 2011: 62800, 2012: 62880, 2013: 62886, 2014: 62953, 2015: 62965, 2016: 63000, 2017: 63001, 2018: 63004, 2019: 63156, 2020: 63175, 2021: 63193, 2022: 63200, 2023: 63232, 2024: 63280, 2025: 63293, 2026: 63300, 2027: 63322, 2028: 63335, 2029: 63342, 2030: 63390, 2031: 63421, 2032: 63450, 2033: 63456, 2034: 63464, 2035: 63500, 2036: 63567, 2037: 63651, 2038: 63700, 2039: 63800, 2040: 63850, 2041: 63871, 2042: 63888, 2043: 63898, 2044: 63900, 2045: 64000, 2046: 64117, 2047: 64200, 2048: 64203, 2049: 64218, 2050: 64250, 2051: 64280, 2052: 64325, 2053: 64372, 2054: 64407, 2055: 64500, 2056: 64508, 2057: 64523, 2058: 64528, 2059: 64532, 2060: 64544, 2061: 64545, 2062: 64552, 2063: 64563, 2064: 64572, 2065: 64580, 2066: 64600, 2067: 64650, 2068: 64678, 2069: 64699, 2070: 64700, 2071: 64717, 2072: 64762, 2073: 64780, 2074: 64800, 2075: 64806, 2076: 64813, 2077: 64888, 2078: 64917, 2079: 64971, 2080: 64999, 2081: 65000, 2082: 65029, 2083: 65050, 2084: 65101, 2085: 65103, 2086: 65145, 2087: 65149, 2088: 65150, 2089: 65188, 2090: 65200, 2091: 65210, 2092: 65248, 2093: 65298, 2094: 65300, 2095: 65365, 2096: 65369, 2097: 65400, 2098: 65414, 2099: 65417, 2100: 65428, 2101: 65430, 2102: 65432, 2103: 65445, 2104: 65452, 2105: 65471, 2106: 65500, 2107: 65550, 2108: 65582, 2109: 65600, 2110: 65604, 2111: 65607, 2112: 65611, 2113: 65612, 2114: 65622, 2115: 65659, 2116: 65682, 2117: 65700, 2118: 65796, 2119: 65800, 2120: 65831, 2121: 65852, 2122: 65866, 2123: 65880, 2124: 65890, 2125: 65900, 2126: 65960, 2127: 65978, 2128: 65983, 2129: 65992, 2130: 66000, 2131: 66100, 2132: 66110, 2133: 66154, 2134: 66198, 2135: 66200, 2136: 66205, 2137: 66301, 2138: 66312, 2139: 66313, 2140: 66350, 2141: 66364, 2142: 66438, 2143: 66444, 2144: 66489, 2145: 66500, 2146: 66527, 2147: 66540, 2148: 66623, 2149: 66633, 2150: 66642, 2151: 66666, 2152: 66669, 2153: 66683, 2154: 66696, 2155: 66699, 2156: 66700, 2157: 66703, 2158: 66718, 2159: 66750, 2160: 66756, 2161: 66800, 2162: 66801, 2163: 66831, 2164: 66840, 2165: 66845, 2166: 66880, 2167: 66900, 2168: 66921, 2169: 66928, 2170: 66933, 2171: 66937, 2172: 67000, 2173: 67026, 2174: 67035, 2175: 67150, 2176: 67200, 2177: 67300, 2178: 67314, 2179: 67355, 2180: 67400, 2181: 67430, 2182: 67455, 2183: 67500, 2184: 67535, 2185: 67600, 2186: 67648, 2187: 67662, 2188: 67700, 2189: 67701, 2190: 67706, 2191: 67793, 2192: 67800, 2193: 67810, 2194: 67836, 2195: 67870, 2196: 67900, 2197: 67999, 2198: 68000, 2199: 68002, 2200: 68003, 2201: 68040, 2202: 68060, 2203: 68100, 2204: 68152, 2205: 68200, 2206: 68250, 2207: 68252, 2208: 68287, 2209: 68304, 2210: 68392, 2211: 68393, 2212: 68400, 2213: 68433, 2214: 68435, 2215: 68500, 2216: 68509, 2217: 68514, 2218: 68520, 2219: 68524, 2220: 68530, 2221: 68580, 2222: 68587, 2223: 68600, 2224: 68700, 2225: 68740, 2226: 68762, 2227: 68798, 2228: 68800, 2229: 68816, 2230: 68852, 2231: 68864, 2232: 68897, 2233: 68900, 2234: 68954, 2235: 69000, 2236: 69032, 2237: 69037, 2238: 69050, 2239: 69100, 2240: 69111, 2241: 69189, 2242: 69200, 2243: 69266, 2244: 69321, 2245: 69338, 2246: 69350, 2247: 69400, 2248: 69450, 2249: 69500, 2250: 69514, 2251: 69528, 2252: 69533, 2253: 69540, 2254: 69553, 2255: 69570, 2256: 69600, 2257: 69627, 2258: 69650, 2259: 69676, 2260: 69696, 2261: 69700, 2262: 69701, 2263: 69704, 2264: 69710, 2265: 69733, 2266: 69739, 2267: 69870, 2268: 69900, 2269: 69938, 2270: 69941, 2271: 70000, 2272: 70032, 2273: 70050, 2274: 70054, 2275: 70112, 2276: 70121, 2277: 70154, 2278: 70164, 2279: 70216, 2280: 70230, 2281: 70256, 2282: 70300, 2283: 70310, 2284: 70339, 2285: 70350, 2286: 70400, 2287: 70403, 2288: 70465, 2289: 70477, 2290: 70500, 2291: 70532, 2292: 70547, 2293: 70550, 2294: 70600, 2295: 70650, 2296: 70652, 2297: 70681, 2298: 70700, 2299: 70730, 2300: 70768, 2301: 70775, 2302: 70852, 2303: 70856, 2304: 70880, 2305: 70900, 2306: 70927, 2307: 70949, 2308: 70952, 2309: 70971, 2310: 71000, 2311: 71025, 2312: 71049, 2313: 71081, 2314: 71088, 2315: 71100, 2316: 71111, 2317: 71130, 2318: 71156, 2319: 71169, 2320: 71200, 2321: 71221, 2322: 71230, 2323: 71245, 2324: 71303, 2325: 71320, 2326: 71328, 2327: 71330, 2328: 71355, 2329: 71366, 2330: 71400, 2331: 71420, 2332: 71479, 2333: 71500, 2334: 71600, 2335: 71688, 2336: 71750, 2337: 71786, 2338: 71800, 2339: 71802, 2340: 71809, 2341: 71810, 2342: 71812, 2343: 71813, 2344: 71835, 2345: 71850, 2346: 71874, 2347: 71888, 2348: 71900, 2349: 71967, 2350: 72000, 2351: 72001, 2352: 72025, 2353: 72085, 2354: 72108, 2355: 72109, 2356: 72110, 2357: 72120, 2358: 72173, 2359: 72200, 2360: 72212, 2361: 72220, 2362: 72250, 2363: 72300, 2364: 72350, 2365: 72400, 2366: 72418, 2367: 72439, 2368: 72445, 2369: 72450, 2370: 72456, 2371: 72462, 2372: 72500, 2373: 72537, 2374: 72540, 2375: 72555, 2376: 72556, 2377: 72600, 2378: 72604, 2379: 72635, 2380: 72658, 2381: 72663, 2382: 72690, 2383: 72700, 2384: 72800, 2385: 72816, 2386: 72825, 2387: 72826, 2388: 72835, 2389: 72908, 2390: 72928, 2391: 72965, 2392: 72996, 2393: 72998, 2394: 73000, 2395: 73044, 2396: 73170, 2397: 73200, 2398: 73250, 2399: 73272, 2400: 73324, 2401: 73354, 2402: 73423, 2403: 73426, 2404: 73440, 2405: 73441, 2406: 73500, 2407: 73600, 2408: 73659, 2409: 73700, 2410: 73734, 2411: 73773, 2412: 73787, 2413: 73900, 2414: 73910, 2415: 74000, 2416: 74020, 2417: 74100, 2418: 74112, 2419: 74154, 2420: 74218, 2421: 74237, 2422: 74348, 2423: 74350, 2424: 74381, 2425: 74400, 2426: 74403, 2427: 74430, 2428: 74452, 2429: 74500, 2430: 74570, 2431: 74600, 2432: 74660, 2433: 74715, 2434: 74750, 2435: 74795, 2436: 74800, 2437: 74900, 2438: 74928, 2439: 74958, 2440: 74962, 2441: 75000, 2442: 75003, 2443: 75010, 2444: 75050, 2445: 75095, 2446: 75100, 2447: 75200, 2448: 75224, 2449: 75243, 2450: 75286, 2451: 75300, 2452: 75312, 2453: 75327, 2454: 75328, 2455: 75352, 2456: 75365, 2457: 75389, 2458: 75392, 2459: 75400, 2460: 75426, 2461: 75466, 2462: 75480, 2463: 75500, 2464: 75520, 2465: 75525, 2466: 75546, 2467: 75555, 2468: 75577, 2469: 75600, 2470: 75618, 2471: 75650, 2472: 75667, 2473: 75668, 2474: 75680, 2475: 75699, 2476: 75700, 2477: 75750, 2478: 75754, 2479: 75775, 2480: 75800, 2481: 75815, 2482: 75847, 2483: 75855, 2484: 75868, 2485: 75870, 2486: 75888, 2487: 75890, 2488: 75900, 2489: 75963, 2490: 76000, 2491: 76009, 2492: 76010, 2493: 76081, 2494: 76121, 2495: 76122, 2496: 76139, 2497: 76140, 2498: 76156, 2499: 76200, 2500: 76280, 2501: 76300, 2502: 76400, 2503: 76443, 2504: 76474, 2505: 76482, 2506: 76500, 2507: 76503, 2508: 76505, 2509: 76553, 2510: 76600, 2511: 76655, 2512: 76700, 2513: 76711, 2514: 76750, 2515: 76755, 2516: 76758, 2517: 76768, 2518: 76785, 2519: 76800, 2520: 76825, 2521: 76895, 2522: 76938, 2523: 77000, 2524: 77085, 2525: 77105, 2526: 77124, 2527: 77204, 2528: 77240, 2529: 77300, 2530: 77375, 2531: 77400, 2532: 77424, 2533: 77443, 2534: 77453, 2535: 77459, 2536: 77500, 2537: 77512, 2538: 77521, 2539: 77665, 2540: 77700, 2541: 77712, 2542: 77774, 2543: 77777, 2544: 77781, 2545: 77788, 2546: 77800, 2547: 77850, 2548: 77860, 2549: 77911, 2550: 77928, 2551: 77999, 2552: 78000, 2553: 78100, 2554: 78170, 2555: 78230, 2556: 78237, 2557: 78238, 2558: 78248, 2559: 78250, 2560: 78385, 2561: 78420, 2562: 78453, 2563: 78456, 2564: 78465, 2565: 78475, 2566: 78500, 2567: 78509, 2568: 78522, 2569: 78540, 2570: 78549, 2571: 78585, 2572: 78600, 2573: 78610, 2574: 78611, 2575: 78621, 2576: 78630, 2577: 78650, 2578: 78680, 2579: 78699, 2580: 78700, 2581: 78738, 2582: 78742, 2583: 78800, 2584: 78822, 2585: 78835, 2586: 78858, 2587: 78900, 2588: 78956, 2589: 78963, 2590: 78987, 2591: 78999, 2592: 79000, 2593: 79008, 2594: 79087, 2595: 79100, 2596: 79123, 2597: 79157, 2598: 79200, 2599: 79208, 2600: 79251, 2601: 79294, 2602: 79300, 2603: 79337, 2604: 79356, 2605: 79362, 2606: 79400, 2607: 79456, 2608: 79500, 2609: 79593, 2610: 79600, 2611: 79653, 2612: 79677, 2613: 79689, 2614: 79700, 2615: 79736, 2616: 79790, 2617: 79800, 2618: 79822, 2619: 79845, 2620: 79871, 2621: 79900, 2622: 79990, 2623: 80000, 2624: 80001, 2625: 80044, 2626: 80100, 2627: 80110, 2628: 80130, 2629: 80150, 2630: 80211, 2631: 80213, 2632: 80227, 2633: 80246, 2634: 80272, 2635: 80300, 2636: 80340, 2637: 80356, 2638: 80357, 2639: 80395, 2640: 80402, 2641: 80416, 2642: 80450, 2643: 80457, 2644: 80484, 2645: 80500, 2646: 80501, 2647: 80540, 2648: 80600, 2649: 80650, 2650: 80700, 2651: 80709, 2652: 80757, 2653: 80808, 2654: 80833, 2655: 80851, 2656: 80880, 2657: 80900, 2658: 80963, 2659: 81000, 2660: 81020, 2661: 81041, 2662: 81043, 2663: 81057, 2664: 81063, 2665: 81089, 2666: 81100, 2667: 81200, 2668: 81219, 2669: 81321, 2670: 81400, 2671: 81409, 2672: 81441, 2673: 81480, 2674: 81500, 2675: 81540, 2676: 81600, 2677: 81635, 2678: 81642, 2679: 81644, 2680: 81672, 2681: 81700, 2682: 81725, 2683: 81731, 2684: 81745, 2685: 81753, 2686: 81795, 2687: 81800, 2688: 81888, 2689: 81900, 2690: 81939, 2691: 81959, 2692: 82000, 2693: 82010, 2694: 82015, 2695: 82022, 2696: 82055, 2697: 82105, 2698: 82110, 2699: 82111, 2700: 82116, 2701: 82120, 2702: 82222, 2703: 82300, 2704: 82310, 2705: 82311, 2706: 82336, 2707: 82378, 2708: 82407, 2709: 82446, 2710: 82463, 2711: 82470, 2712: 82500, 2713: 82531, 2714: 82534, 2715: 82546, 2716: 82547, 2717: 82563, 2718: 82600, 2719: 82690, 2720: 82700, 2721: 82786, 2722: 82800, 2723: 82937, 2724: 82949, 2725: 83000, 2726: 83100, 2727: 83135, 2728: 83142, 2729: 83200, 2730: 83250, 2731: 83253, 2732: 83280, 2733: 83289, 2734: 83340, 2735: 83379, 2736: 83380, 2737: 83384, 2738: 83390, 2739: 83395, 2740: 83400, 2741: 83500, 2742: 83520, 2743: 83564, 2744: 83655, 2745: 83667, 2746: 83700, 2747: 83749, 2748: 83786, 2749: 83800, 2750: 83900, 2751: 83903, 2752: 83910, 2753: 83975, 2754: 84000, 2755: 84088, 2756: 84100, 2757: 84110, 2758: 84130, 2759: 84161, 2760: 84207, 2761: 84300, 2762: 84330, 2763: 84426, 2764: 84429, 2765: 84438, 2766: 84446, 2767: 84500, 2768: 84532, 2769: 84550, 2770: 84553, 2771: 84568, 2772: 84569, 2773: 84586, 2774: 84590, 2775: 84600, 2776: 84630, 2777: 84658, 2778: 84674, 2779: 84700, 2780: 84749, 2781: 84755, 2782: 84831, 2783: 84841, 2784: 84856, 2785: 84908, 2786: 84910, 2787: 84952, 2788: 84953, 2789: 85000, 2790: 85063, 2791: 85123, 2792: 85124, 2793: 85200, 2794: 85213, 2795: 85220, 2796: 85236, 2797: 85241, 2798: 85243, 2799: 85250, 2800: 85271, 2801: 85279, 2802: 85283, 2803: 85300, 2804: 85313, 2805: 85315, 2806: 85320, 2807: 85338, 2808: 85359, 2809: 85400, 2810: 85401, 2811: 85435, 2812: 85450, 2813: 85455, 2814: 85475, 2815: 85500, 2816: 85550, 2817: 85578, 2818: 85600, 2819: 85608, 2820: 85626, 2821: 85628, 2822: 85646, 2823: 85680, 2824: 85698, 2825: 85700, 2826: 85739, 2827: 85760, 2828: 85800, 2829: 85857, 2830: 85864, 2831: 85890, 2832: 85900, 2833: 85935, 2834: 85998, 2835: 86000, 2836: 86065, 2837: 86094, 2838: 86100, 2839: 86200, 2840: 86218, 2841: 86220, 2842: 86258, 2843: 86300, 2844: 86317, 2845: 86325, 2846: 86400, 2847: 86410, 2848: 86500, 2849: 86575, 2850: 86600, 2851: 86691, 2852: 86700, 2853: 86746, 2854: 86750, 2855: 86786, 2856: 86795, 2857: 86839, 2858: 86896, 2859: 86899, 2860: 86900, 2861: 86970, 2862: 86999, 2863: 87000, 2864: 87010, 2865: 87220, 2866: 87256, 2867: 87333, 2868: 87340, 2869: 87348, 2870: 87397, 2871: 87454, 2872: 87487, 2873: 87500, 2874: 87532, 2875: 87540, 2876: 87546, 2877: 87562, 2878: 87598, 2879: 87600, 2880: 87665, 2881: 87690, 2882: 87741, 2883: 87800, 2884: 87870, 2885: 87880, 2886: 87900, 2887: 87974, 2888: 88000, 2889: 88120, 2890: 88150, 2891: 88182, 2892: 88200, 2893: 88223, 2894: 88238, 2895: 88254, 2896: 88271, 2897: 88294, 2898: 88300, 2899: 88321, 2900: 88325, 2901: 88340, 2902: 88400, 2903: 88430, 2904: 88432, 2905: 88484, 2906: 88489, 2907: 88500, 2908: 88550, 2909: 88600, 2910: 88647, 2911: 88655, 2912: 88700, 2913: 88888, 2914: 88900, 2915: 89000, 2916: 89015, 2917: 89023, 2918: 89026, 2919: 89063, 2920: 89069, 2921: 89088, 2922: 89091, 2923: 89130, 2924: 89197, 2925: 89200, 2926: 89240, 2927: 89280, 2928: 89283, 2929: 89300, 2930: 89374, 2931: 89443, 2932: 89445, 2933: 89471, 2934: 89500, 2935: 89560, 2936: 89569, 2937: 89579, 2938: 89607, 2939: 89632, 2940: 89645, 2941: 89653, 2942: 89700, 2943: 89765, 2944: 89804, 2945: 89858, 2946: 89900, 2947: 89973, 2948: 89990, 2949: 90000, 2950: 90058, 2951: 90085, 2952: 90090, 2953: 90122, 2954: 90125, 2955: 90165, 2956: 90200, 2957: 90300, 2958: 90325, 2959: 90333, 2960: 90350, 2961: 90400, 2962: 90500, 2963: 90520, 2964: 90550, 2965: 90560, 2966: 90600, 2967: 90701, 2968: 90744, 2969: 90756, 2970: 90763, 2971: 90767, 2972: 90786, 2973: 90800, 2974: 90900, 2975: 90960, 2976: 90989, 2977: 90999, 2978: 91000, 2979: 91035, 2980: 91037, 2981: 91075, 2982: 91120, 2983: 91148, 2984: 91175, 2985: 91210, 2986: 91245, 2987: 91271, 2988: 91300, 2989: 91305, 2990: 91317, 2991: 91400, 2992: 91434, 2993: 91496, 2994: 91500, 2995: 91513, 2996: 91540, 2997: 91553, 2998: 91580, 2999: 91600, 3000: 91665, 3001: 91770, 3002: 91771, 3003: 91789, 3004: 91800, 3005: 91925, 3006: 92000, 3007: 92100, 3008: 92152, 3009: 92181, 3010: 92200, 3011: 92245, 3012: 92358, 3013: 92363, 3014: 92368, 3015: 92421, 3016: 92424, 3017: 92444, 3018: 92500, 3019: 92551, 3020: 92555, 3021: 92565, 3022: 92567, 3023: 92593, 3024: 92600, 3025: 92611, 3026: 92699, 3027: 92800, 3028: 92992, 3029: 93000, 3030: 93065, 3031: 93080, 3032: 93100, 3033: 93143, 3034: 93171, 3035: 93200, 3036: 93218, 3037: 93231, 3038: 93234, 3039: 93250, 3040: 93300, 3041: 93320, 3042: 93335, 3043: 93348, 3044: 93353, 3045: 93359, 3046: 93400, 3047: 93456, 3048: 93500, 3049: 93523, 3050: 93533, 3051: 93588, 3052: 93600, 3053: 93623, 3054: 93643, 3055: 93680, 3056: 93700, 3057: 93799, 3058: 93800, 3059: 93875, 3060: 93901, 3061: 93926, 3062: 94000, 3063: 94005, 3064: 94010, 3065: 94050, 3066: 94100, 3067: 94111, 3068: 94116, 3069: 94200, 3070: 94273, 3071: 94352, 3072: 94400, 3073: 94467, 3074: 94500, 3075: 94528, 3076: 94560, 3077: 94561, 3078: 94567, 3079: 94570, 3080: 94600, 3081: 94650, 3082: 94660, 3083: 94770, 3084: 94800, 3085: 94874, 3086: 94925, 3087: 94949, 3088: 94994, 3089: 95000, 3090: 95005, 3091: 95065, 3092: 95106, 3093: 95171, 3094: 95187, 3095: 95200, 3096: 95233, 3097: 95257, 3098: 95274, 3099: 95300, 3100: 95308, 3101: 95326, 3102: 95358, 3103: 95369, 3104: 95380, 3105: 95400, 3106: 95439, 3107: 95447, 3108: 95457, 3109: 95460, 3110: 95500, 3111: 95563, 3112: 95600, 3113: 95606, 3114: 95632, 3115: 95650, 3116: 95668, 3117: 95672, 3118: 95676, 3119: 95700, 3120: 95734, 3121: 95800, 3122: 95829, 3123: 95831, 3124: 95847, 3125: 95856, 3126: 95871, 3127: 95886, 3128: 95900, 3129: 95901, 3130: 95916, 3131: 95930, 3132: 96000, 3133: 96052, 3134: 96096, 3135: 96130, 3136: 96142, 3137: 96173, 3138: 96175, 3139: 96178, 3140: 96251, 3141: 96278, 3142: 96300, 3143: 96316, 3144: 96329, 3145: 96350, 3146: 96437, 3147: 96489, 3148: 96500, 3149: 96520, 3150: 96558, 3151: 96572, 3152: 96580, 3153: 96596, 3154: 96600, 3155: 96704, 3156: 96800, 3157: 96850, 3158: 96852, 3159: 96856, 3160: 96860, 3161: 96890, 3162: 96895, 3163: 96900, 3164: 96945, 3165: 97000, 3166: 97007, 3167: 97097, 3168: 97100, 3169: 97103, 3170: 97150, 3171: 97181, 3172: 97200, 3173: 97256, 3174: 97300, 3175: 97458, 3176: 97475, 3177: 97500, 3178: 97532, 3179: 97570, 3180: 97600, 3181: 97650, 3182: 97700, 3183: 97750, 3184: 97770, 3185: 97800, 3186: 97850, 3187: 97859, 3188: 97863, 3189: 97890, 3190: 97900, 3191: 97904, 3192: 98000, 3193: 98026, 3194: 98250, 3195: 98276, 3196: 98325, 3197: 98378, 3198: 98400, 3199: 98430, 3200: 98500, 3201: 98509, 3202: 98581, 3203: 98593, 3204: 98600, 3205: 98603, 3206: 98623, 3207: 98656, 3208: 98700, 3209: 98705, 3210: 98765, 3211: 98800, 3212: 98886, 3213: 98900, 3214: 98985, 3215: 99000, 3216: 99015, 3217: 99063, 3218: 99101, 3219: 99143, 3220: 99174, 3221: 99200, 3222: 99209, 3223: 99235, 3224: 99270, 3225: 99300, 3226: 99345, 3227: 99350, 3228: 99415, 3229: 99500, 3230: 99548, 3231: 99587, 3232: 99600, 3233: 99601, 3234: 99622, 3235: 99632, 3236: 99650, 3237: 99680, 3238: 99726, 3239: 99750, 3240: 99786, 3241: 99800, 3242: 99801, 3243: 99814, 3244: 99867, 3245: 99880, 3246: 99890, 3247: 99900, 3248: 99903, 3249: 99967, 3250: 99974, 3251: 99980, 3252: 99990, 3253: 99999, 3254: 100000, 3255: 100001, 3256: 100002, 3257: 100005, 3258: 100010, 3259: 100012, 3260: 100014, 3261: 100020, 3262: 100022, 3263: 100024, 3264: 100025, 3265: 100030, 3266: 100060, 3267: 100068, 3268: 100073, 3269: 100080, 3270: 100090, 3271: 100100, 3272: 100102, 3273: 100120, 3274: 100125, 3275: 100128, 3276: 100145, 3277: 100150, 3278: 100159, 3279: 100180, 3280: 100200, 3281: 100245, 3282: 100300, 3283: 100320, 3284: 100328, 3285: 100350, 3286: 100380, 3287: 100400, 3288: 100406, 3289: 100470, 3290: 100480, 3291: 100500, 3292: 100513, 3293: 100519, 3294: 100552, 3295: 100554, 3296: 100565, 3297: 100600, 3298: 100608, 3299: 100640, 3300: 100700, 3301: 100703, 3302: 100710, 3303: 100714, 3304: 100800, 3305: 100840, 3306: 100881, 3307: 100903, 3308: 101000, 3309: 101059, 3310: 101061, 3311: 101185, 3312: 101200, 3313: 101236, 3314: 101255, 3315: 101296, 3316: 101300, 3317: 101327, 3318: 101400, 3319: 101480, 3320: 101500, 3321: 101506, 3322: 101517, 3323: 101562, 3324: 101570, 3325: 101700, 3326: 101750, 3327: 101753, 3328: 101800, 3329: 101817, 3330: 101832, 3331: 101900, 3332: 101909, 3333: 101917, 3334: 102000, 3335: 102021, 3336: 102070, 3337: 102145, 3338: 102155, 3339: 102198, 3340: 102225, 3341: 102250, 3342: 102300, 3343: 102345, 3344: 102400, 3345: 102434, 3346: 102500, 3347: 102534, 3348: 102558, 3349: 102582, 3350: 102600, 3351: 102645, 3352: 102650, 3353: 102670, 3354: 102700, 3355: 102758, 3356: 102800, 3357: 102826, 3358: 102876, 3359: 102900, 3360: 102907, 3361: 102919, 3362: 102981, 3363: 102987, 3364: 103000, 3365: 103073, 3366: 103076, 3367: 103080, 3368: 103201, 3369: 103254, 3370: 103255, 3371: 103256, 3372: 103265, 3373: 103269, 3374: 103285, 3375: 103287, 3376: 103300, 3377: 103321, 3378: 103331, 3379: 103335, 3380: 103374, 3381: 103395, 3382: 103400, 3383: 103488, 3384: 103498, 3385: 103500, 3386: 103510, 3387: 103550, 3388: 103565, 3389: 103569, 3390: 103580, 3391: 103598, 3392: 103645, 3393: 103659, 3394: 103700, 3395: 103711, 3396: 103720, 3397: 103730, 3398: 103784, 3399: 103800, 3400: 103855, 3401: 103856, 3402: 103884, 3403: 103898, 3404: 103971, 3405: 104000, 3406: 104022, 3407: 104062, 3408: 104093, 3409: 104100, 3410: 104199, 3411: 104223, 3412: 104250, 3413: 104313, 3414: 104317, 3415: 104320, 3416: 104335, 3417: 104354, 3418: 104400, 3419: 104433, 3420: 104444, 3421: 104473, 3422: 104500, 3423: 104515, 3424: 104527, 3425: 104552, 3426: 104700, 3427: 104800, 3428: 104806, 3429: 104888, 3430: 104920, 3431: 104923, 3432: 105000, 3433: 105050, 3434: 105100, 3435: 105183, 3436: 105200, 3437: 105233, 3438: 105283, 3439: 105309, 3440: 105310, 3441: 105322, 3442: 105332, 3443: 105369, 3444: 105400, 3445: 105428, 3446: 105454, 3447: 105467, 3448: 105500, 3449: 105554, 3450: 105555, 3451: 105577, 3452: 105600, 3453: 105642, 3454: 105659, 3455: 105667, 3456: 105689, 3457: 105725, 3458: 105746, 3459: 105800, 3460: 105837, 3461: 105841, 3462: 105864, 3463: 105930, 3464: 105934, 3465: 105987, 3466: 105989, 3467: 106000, 3468: 106054, 3469: 106060, 3470: 106117, 3471: 106203, 3472: 106235, 3473: 106385, 3474: 106389, 3475: 106394, 3476: 106399, 3477: 106400, 3478: 106452, 3479: 106500, 3480: 106530, 3481: 106582, 3482: 106585, 3483: 106588, 3484: 106594, 3485: 106619, 3486: 106636, 3487: 106700, 3488: 106750, 3489: 106784, 3490: 106800, 3491: 106816, 3492: 106820, 3493: 106844, 3494: 106920, 3495: 107000, 3496: 107051, 3497: 107100, 3498: 107126, 3499: 107213, 3500: 107265, 3501: 107296, 3502: 107500, 3503: 107520, 3504: 107564, 3505: 107589, 3506: 107602, 3507: 107700, 3508: 107764, 3509: 107800, 3510: 107820, 3511: 107821, 3512: 107835, 3513: 107856, 3514: 107863, 3515: 107900, 3516: 107912, 3517: 108000, 3518: 108080, 3519: 108117, 3520: 108125, 3521: 108128, 3522: 108178, 3523: 108200, 3524: 108300, 3525: 108349, 3526: 108355, 3527: 108408, 3528: 108426, 3529: 108456, 3530: 108500, 3531: 108580, 3532: 108591, 3533: 108600, 3534: 108624, 3535: 108677, 3536: 108738, 3537: 108740, 3538: 108888, 3539: 108945, 3540: 108950, 3541: 108965, 3542: 108997, 3543: 109000, 3544: 109047, 3545: 109090, 3546: 109150, 3547: 109200, 3548: 109222, 3549: 109245, 3550: 109300, 3551: 109400, 3552: 109468, 3553: 109500, 3554: 109555, 3555: 109600, 3556: 109667, 3557: 109750, 3558: 109770, 3559: 109774, 3560: 109800, 3561: 109836, 3562: 109868, 3563: 109900, 3564: 109929, 3565: 109983, 3566: 110000, 3567: 110001, 3568: 110020, 3569: 110080, 3570: 110110, 3571: 110215, 3572: 110241, 3573: 110298, 3574: 110300, 3575: 110304, 3576: 110330, 3577: 110392, 3578: 110500, 3579: 110560, 3580: 110603, 3581: 110750, 3582: 110786, 3583: 110852, 3584: 110871, 3585: 110893, 3586: 110940, 3587: 111000, 3588: 111022, 3589: 111100, 3590: 111111, 3591: 111112, 3592: 111122, 3593: 111170, 3594: 111200, 3595: 111206, 3596: 111211, 3597: 111222, 3598: 111225, 3599: 111250, 3600: 111320, 3601: 111334, 3602: 111403, 3603: 111500, 3604: 111580, 3605: 111585, 3606: 111589, 3607: 111597, 3608: 111600, 3609: 111692, 3610: 111773, 3611: 111786, 3612: 111800, 3613: 111886, 3614: 111943, 3615: 111973, 3616: 112000, 3617: 112008, 3618: 112021, 3619: 112075, 3620: 112121, 3621: 112145, 3622: 112160, 3623: 112198, 3624: 112222, 3625: 112233, 3626: 112300, 3627: 112356, 3628: 112385, 3629: 112396, 3630: 112400, 3631: 112412, 3632: 112500, 3633: 112546, 3634: 112582, 3635: 112642, 3636: 112667, 3637: 112676, 3638: 112700, 3639: 112752, 3640: 112800, 3641: 112855, 3642: 112869, 3643: 113000, 3644: 113200, 3645: 113300, 3646: 113329, 3647: 113400, 3648: 113403, 3649: 113456, 3650: 113500, 3651: 113566, 3652: 113589, 3653: 113600, 3654: 113627, 3655: 113750, 3656: 113752, 3657: 113824, 3658: 113900, 3659: 114000, 3660: 114180, 3661: 114230, 3662: 114300, 3663: 114350, 3664: 114356, 3665: 114403, 3666: 114444, 3667: 114500, 3668: 114596, 3669: 114787, 3670: 114800, 3671: 114910, 3672: 114947, 3673: 115000, 3674: 115115, 3675: 115200, 3676: 115230, 3677: 115233, 3678: 115236, 3679: 115248, 3680: 115420, 3681: 115421, 3682: 115427, 3683: 115442, 3684: 115472, 3685: 115500, 3686: 115555, 3687: 115600, 3688: 115603, 3689: 115785, 3690: 115800, 3691: 115891, 3692: 115900, 3693: 115984, 3694: 116000, 3695: 116093, 3696: 116097, 3697: 116222, 3698: 116277, 3699: 116414, 3700: 116456, 3701: 116484, 3702: 116500, 3703: 116532, 3704: 116666, 3705: 116750, 3706: 116792, 3707: 116850, 3708: 116872, 3709: 116926, 3710: 117000, 3711: 117100, 3712: 117200, 3713: 117288, 3714: 117302, 3715: 117354, 3716: 117400, 3717: 117408, 3718: 117440, 3719: 117455, 3720: 117464, 3721: 117500, 3722: 117535, 3723: 117597, 3724: 117600, 3725: 117605, 3726: 117606, 3727: 117670, 3728: 117682, 3729: 117700, 3730: 117800, 3731: 117819, 3732: 117900, 3733: 118000, 3734: 118100, 3735: 118122, 3736: 118134, 3737: 118205, 3738: 118300, 3739: 118400, 3740: 118500, 3741: 118536, 3742: 118542, 3743: 118654, 3744: 118690, 3745: 118700, 3746: 118754, 3747: 118800, 3748: 118830, 3749: 118864, 3750: 118874, 3751: 119000, 3752: 119100, 3753: 119200, 3754: 119300, 3755: 119321, 3756: 119430, 3757: 119460, 3758: 119480, 3759: 119500, 3760: 119654, 3761: 119800, 3762: 119845, 3763: 119862, 3764: 119900, 3765: 119987, 3766: 119994, 3767: 119999, 3768: 120000, 3769: 120004, 3770: 120059, 3771: 120113, 3772: 120275, 3773: 120437, 3774: 120455, 3775: 120476, 3776: 120500, 3777: 120555, 3778: 120640, 3779: 120744, 3780: 120748, 3781: 120751, 3782: 120800, 3783: 120845, 3784: 120858, 3785: 120897, 3786: 121000, 3787: 121034, 3788: 121211, 3789: 121212, 3790: 121276, 3791: 121287, 3792: 121354, 3793: 121356, 3794: 121364, 3795: 121475, 3796: 121500, 3797: 121537, 3798: 121560, 3799: 121649, 3800: 121654, 3801: 121799, 3802: 121800, 3803: 121843, 3804: 122000, 3805: 122112, 3806: 122123, 3807: 122155, 3808: 122222, 3809: 122225, 3810: 122333, 3811: 122360, 3812: 122395, 3813: 122456, 3814: 122468, 3815: 122500, 3816: 122540, 3817: 122552, 3818: 122561, 3819: 122578, 3820: 122600, 3821: 122604, 3822: 122669, 3823: 122745, 3824: 122800, 3825: 122875, 3826: 122900, 3827: 123000, 3828: 123100, 3829: 123123, 3830: 123155, 3831: 123156, 3832: 123169, 3833: 123221, 3834: 123235, 3835: 123297, 3836: 123300, 3837: 123345, 3838: 123362, 3839: 123365, 3840: 123400, 3841: 123423, 3842: 123448, 3843: 123450, 3844: 123451, 3845: 123452, 3846: 123453, 3847: 123454, 3848: 123455, 3849: 123456, 3850: 123457, 3851: 123458, 3852: 123459, 3853: 123465, 3854: 123466, 3855: 123484, 3856: 123486, 3857: 123488, 3858: 123489, 3859: 123500, 3860: 123508, 3861: 123546, 3862: 123547, 3863: 123548, 3864: 123550, 3865: 123552, 3866: 123555, 3867: 123562, 3868: 123564, 3869: 123569, 3870: 123575, 3871: 123585, 3872: 123605, 3873: 123652, 3874: 123654, 3875: 123698, 3876: 123750, 3877: 123759, 3878: 123787, 3879: 123788, 3880: 123855, 3881: 123868, 3882: 123888, 3883: 123900, 3884: 123944, 3885: 124000, 3886: 124031, 3887: 124056, 3888: 124250, 3889: 124252, 3890: 124312, 3891: 124345, 3892: 124348, 3893: 124355, 3894: 124384, 3895: 124439, 3896: 124455, 3897: 124500, 3898: 124502, 3899: 124523, 3900: 124525, 3901: 124531, 3902: 124533, 3903: 124536, 3904: 124551, 3905: 124555, 3906: 124558, 3907: 124560, 3908: 124561, 3909: 124567, 3910: 124568, 3911: 124587, 3912: 124713, 3913: 124800, 3914: 124845, 3915: 124850, 3916: 124854, 3917: 124860, 3918: 124882, 3919: 125000, 3920: 125080, 3921: 125088, 3922: 125150, 3923: 125153, 3924: 125211, 3925: 125300, 3926: 125325, 3927: 125360, 3928: 125365, 3929: 125369, 3930: 125388, 3931: 125403, 3932: 125422, 3933: 125480, 3934: 125489, 3935: 125500, 3936: 125501, 3937: 125540, 3938: 125555, 3939: 125592, 3940: 125600, 3941: 125683, 3942: 125698, 3943: 125748, 3944: 125789, 3945: 125800, 3946: 125821, 3947: 125841, 3948: 125900, 3949: 125935, 3950: 126000, 3951: 126300, 3952: 126315, 3953: 126346, 3954: 126395, 3955: 126400, 3956: 126455, 3957: 126458, 3958: 126500, 3959: 126527, 3960: 126550, 3961: 126560, 3962: 126577, 3963: 126635, 3964: 126665, 3965: 126746, 3966: 126755, 3967: 126769, 3968: 126800, 3969: 126842, 3970: 127000, 3971: 127182, 3972: 127300, 3973: 127500, 3974: 127560, 3975: 127665, 3976: 127700, 3977: 127723, 3978: 127800, 3979: 127862, 3980: 127890, 3981: 127900, 3982: 127953, 3983: 128000, 3984: 128140, 3985: 128300, 3986: 128500, 3987: 128542, 3988: 128560, 3989: 128570, 3990: 128574, 3991: 128600, 3992: 128766, 3993: 128826, 3994: 128863, 3995: 128891, 3996: 128942, 3997: 129000, 3998: 129100, 3999: 129155, 4000: 129200, 4001: 129320, 4002: 129333, 4003: 129488, 4004: 129500, 4005: 129565, 4006: 129600, 4007: 129713, 4008: 129785, 4009: 129850, 4010: 129907, 4011: 129990, 4012: 130000, 4013: 130256, 4014: 130289, 4015: 130394, 4016: 130400, 4017: 130450, 4018: 130500, 4019: 130508, 4020: 130541, 4021: 130569, 4022: 130576, 4023: 130600, 4024: 130633, 4025: 130658, 4026: 130659, 4027: 130689, 4028: 130698, 4029: 130700, 4030: 130756, 4031: 130767, 4032: 130768, 4033: 130856, 4034: 130858, 4035: 130879, 4036: 130894, 4037: 130897, 4038: 130920, 4039: 130960, 4040: 130988, 4041: 131000, 4042: 131076, 4043: 131156, 4044: 131170, 4045: 131256, 4046: 131292, 4047: 131450, 4048: 131460, 4049: 131500, 4050: 131750, 4051: 131800, 4052: 131910, 4053: 132000, 4054: 132173, 4055: 132200, 4056: 132400, 4057: 132421, 4058: 132500, 4059: 132538, 4060: 132569, 4061: 132622, 4062: 132650, 4063: 132707, 4064: 132714, 4065: 132745, 4066: 132799, 4067: 132800, 4068: 132852, 4069: 132868, 4070: 132888, 4071: 132984, 4072: 133000, 4073: 133042, 4074: 133323, 4075: 133330, 4076: 133333, 4077: 133383, 4078: 133400, 4079: 133433, 4080: 133448, 4081: 133455, 4082: 133458, 4083: 133500, 4084: 133567, 4085: 133580, 4086: 133612, 4087: 133800, 4088: 133900, 4089: 134000, 4090: 134065, 4091: 134112, 4092: 134200, 4093: 134330, 4094: 134400, 4095: 134450, 4096: 134487, 4097: 134500, 4098: 134545, 4099: 134548, 4100: 134700, 4101: 134750, 4102: 134800, 4103: 134834, 4104: 134954, 4105: 134998, 4106: 135000, 4107: 135055, 4108: 135056, 4109: 135100, 4110: 135127, 4111: 135170, 4112: 135177, 4113: 135200, 4114: 135400, 4115: 135459, 4116: 135495, 4117: 135500, 4118: 135535, 4119: 135536, 4120: 135538, 4121: 135552, 4122: 135555, 4123: 135606, 4124: 135620, 4125: 135630, 4126: 135685, 4127: 135688, 4128: 135800, 4129: 135802, 4130: 135820, 4131: 135897, 4132: 135963, 4133: 136000, 4134: 136201, 4135: 136221, 4136: 136230, 4137: 136321, 4138: 136363, 4139: 136500, 4140: 136577, 4141: 136582, 4142: 136600, 4143: 136852, 4144: 136992, 4145: 137000, 4146: 137032, 4147: 137298, 4148: 137370, 4149: 137423, 4150: 137438, 4151: 137490, 4152: 137500, 4153: 137554, 4154: 137578, 4155: 137700, 4156: 137800, 4157: 137948, 4158: 137962, 4159: 138000, 4160: 138026, 4161: 138034, 4162: 138056, 4163: 138065, 4164: 138066, 4165: 138075, 4166: 138176, 4167: 138200, 4168: 138351, 4169: 138454, 4170: 138500, 4171: 138506, 4172: 138562, 4173: 138569, 4174: 138570, 4175: 138595, 4176: 138600, 4177: 138615, 4178: 138690, 4179: 138750, 4180: 138800, 4181: 138840, 4182: 138953, 4183: 139000, 4184: 139250, 4185: 139443, 4186: 139500, 4187: 139600, 4188: 139650, 4189: 139680, 4190: 139726, 4191: 139817, 4192: 139999, 4193: 140000, 4194: 140030, 4195: 140145, 4196: 140203, 4197: 140255, 4198: 140290, 4199: 140326, 4200: 140328, 4201: 140329, 4202: 140356, 4203: 140520, 4204: 140540, 4205: 140595, 4206: 140665, 4207: 140698, 4208: 140732, 4209: 140770, 4210: 140855, 4211: 140921, 4212: 140985, 4213: 141000, 4214: 141306, 4215: 141400, 4216: 141491, 4217: 141500, 4218: 141700, 4219: 141734, 4220: 141867, 4221: 142000, 4222: 142020, 4223: 142245, 4224: 142300, 4225: 142330, 4226: 142333, 4227: 142455, 4228: 142500, 4229: 142533, 4230: 142536, 4231: 142660, 4232: 142700, 4233: 142940, 4234: 143000, 4235: 143212, 4236: 143420, 4237: 143486, 4238: 143567, 4239: 143651, 4240: 143660, 4241: 143686, 4242: 143847, 4243: 143854, 4244: 144000, 4245: 144070, 4246: 144087, 4247: 144167, 4248: 144300, 4249: 144438, 4250: 144444, 4251: 144500, 4252: 144556, 4253: 144600, 4254: 144678, 4255: 144730, 4256: 144770, 4257: 144886, 4258: 144890, 4259: 145000, 4260: 145070, 4261: 145234, 4262: 145236, 4263: 145245, 4264: 145247, 4265: 145278, 4266: 145286, 4267: 145300, 4268: 145355, 4269: 145400, 4270: 145432, 4271: 145500, 4272: 145555, 4273: 145596, 4274: 145630, 4275: 145685, 4276: 145690, 4277: 145700, 4278: 145702, 4279: 145711, 4280: 145738, 4281: 145764, 4282: 145779, 4283: 145885, 4284: 146000, 4285: 146243, 4286: 146250, 4287: 146277, 4288: 146372, 4289: 146500, 4290: 146525, 4291: 146530, 4292: 146849, 4293: 146870, 4294: 146900, 4295: 146991, 4296: 147000, 4297: 147015, 4298: 147112, 4299: 147226, 4300: 147500, 4301: 147600, 4302: 147786, 4303: 147800, 4304: 147870, 4305: 148000, 4306: 148056, 4307: 148065, 4308: 148098, 4309: 148100, 4310: 148125, 4311: 148132, 4312: 148500, 4313: 148690, 4314: 148860, 4315: 148900, 4316: 148999, 4317: 149000, 4318: 149018, 4319: 149220, 4320: 149421, 4321: 149452, 4322: 149500, 4323: 149521, 4324: 149570, 4325: 149690, 4326: 149750, 4327: 149843, 4328: 149900, 4329: 149947, 4330: 149999, 4331: 150000, 4332: 150005, 4333: 150008, 4334: 150101, 4335: 150150, 4336: 150157, 4337: 150200, 4338: 150273, 4339: 150322, 4340: 150323, 4341: 150325, 4342: 150328, 4343: 150340, 4344: 150365, 4345: 150480, 4346: 150500, 4347: 150666, 4348: 150699, 4349: 150775, 4350: 150875, 4351: 150997, 4352: 151000, 4353: 151059, 4354: 151102, 4355: 151130, 4356: 151200, 4357: 151400, 4358: 151412, 4359: 151450, 4360: 151500, 4361: 151540, 4362: 151825, 4363: 151937, 4364: 152000, 4365: 152100, 4366: 152202, 4367: 152273, 4368: 152300, 4369: 152333, 4370: 152434, 4371: 152485, 4372: 152495, 4373: 152500, 4374: 152522, 4375: 152541, 4376: 152719, 4377: 152745, 4378: 152802, 4379: 152888, 4380: 153000, 4381: 153038, 4382: 153200, 4383: 153210, 4384: 153228, 4385: 153455, 4386: 153480, 4387: 153500, 4388: 153600, 4389: 153613, 4390: 153628, 4391: 153670, 4392: 153678, 4393: 153687, 4394: 153688, 4395: 153716, 4396: 153844, 4397: 154000, 4398: 154001, 4399: 154233, 4400: 154324, 4401: 154348, 4402: 154500, 4403: 154571, 4404: 154648, 4405: 154784, 4406: 154800, 4407: 154858, 4408: 154878, 4409: 155000, 4410: 155006, 4411: 155038, 4412: 155111, 4413: 155140, 4414: 155200, 4415: 155349, 4416: 155400, 4417: 155428, 4418: 155484, 4419: 155500, 4420: 155532, 4421: 155546, 4422: 155555, 4423: 155558, 4424: 155630, 4425: 155800, 4426: 155974, 4427: 156000, 4428: 156050, 4429: 156300, 4430: 156319, 4431: 156328, 4432: 156358, 4433: 156397, 4434: 156450, 4435: 156456, 4436: 156500, 4437: 156683, 4438: 156800, 4439: 156802, 4440: 156900, 4441: 156918, 4442: 156999, 4443: 157000, 4444: 157023, 4445: 157125, 4446: 157234, 4447: 157250, 4448: 157258, 4449: 157323, 4450: 157370, 4451: 157500, 4452: 157600, 4453: 158000, 4454: 158002, 4455: 158035, 4456: 158056, 4457: 158070, 4458: 158080, 4459: 158100, 4460: 158112, 4461: 158205, 4462: 158300, 4463: 158385, 4464: 158400, 4465: 158555, 4466: 158570, 4467: 158600, 4468: 158700, 4469: 158859, 4470: 158874, 4471: 158888, 4472: 158902, 4473: 159000, 4474: 159058, 4475: 159291, 4476: 159300, 4477: 159500, 4478: 159532, 4479: 159600, 4480: 160000, 4481: 160005, 4482: 160328, 4483: 160355, 4484: 160356, 4485: 160361, 4486: 160500, 4487: 160558, 4488: 160560, 4489: 160584, 4490: 160592, 4491: 160598, 4492: 160610, 4493: 160680, 4494: 160772, 4495: 160850, 4496: 160889, 4497: 160898, 4498: 160899, 4499: 160985, 4500: 161000, 4501: 161200, 4502: 161265, 4503: 161280, 4504: 161610, 4505: 161635, 4506: 161659, 4507: 161800, 4508: 161950, 4509: 162000, 4510: 162003, 4511: 162037, 4512: 162059, 4513: 162089, 4514: 162100, 4515: 162128, 4516: 162350, 4517: 162356, 4518: 162425, 4519: 162531, 4520: 162538, 4521: 162580, 4522: 162700, 4523: 162800, 4524: 163000, 4525: 163088, 4526: 163169, 4527: 163200, 4528: 163385, 4529: 163391, 4530: 163463, 4531: 163556, 4532: 163582, 4533: 163588, 4534: 163645, 4535: 163704, 4536: 163774, 4537: 163939, 4538: 164000, 4539: 164144, 4540: 164200, 4541: 164204, 4542: 164240, 4543: 164388, 4544: 164455, 4545: 164500, 4546: 164548, 4547: 164700, 4548: 164722, 4549: 164751, 4550: 164848, 4551: 164964, 4552: 164999, 4553: 165000, 4554: 165022, 4555: 165032, 4556: 165035, 4557: 165036, 4558: 165038, 4559: 165054, 4560: 165065, 4561: 165085, 4562: 165088, 4563: 165149, 4564: 165200, 4565: 165223, 4566: 165225, 4567: 165235, 4568: 165400, 4569: 165480, 4570: 165500, 4571: 165560, 4572: 165600, 4573: 165685, 4574: 165700, 4575: 165780, 4576: 165788, 4577: 165800, 4578: 165806, 4579: 165808, 4580: 165820, 4581: 165823, 4582: 165852, 4583: 165882, 4584: 165980, 4585: 166000, 4586: 166007, 4587: 166095, 4588: 166107, 4589: 166258, 4590: 166511, 4591: 166600, 4592: 166640, 4593: 166681, 4594: 166700, 4595: 166878, 4596: 166900, 4597: 166982, 4598: 166992, 4599: 167000, 4600: 167227, 4601: 167300, 4602: 167500, 4603: 167534, 4604: 167592, 4605: 167638, 4606: 167700, 4607: 167804, 4608: 167855, 4609: 167888, 4610: 167900, 4611: 167987, 4612: 167990, 4613: 168000, 4614: 168010, 4615: 168022, 4616: 168023, 4617: 168032, 4618: 168035, 4619: 168036, 4620: 168039, 4621: 168045, 4622: 168054, 4623: 168055, 4624: 168065, 4625: 168200, 4626: 168232, 4627: 168246, 4628: 168250, 4629: 168254, 4630: 168300, 4631: 168360, 4632: 168381, 4633: 168430, 4634: 168480, 4635: 168515, 4636: 168520, 4637: 168532, 4638: 168535, 4639: 168656, 4640: 168664, 4641: 168741, 4642: 168779, 4643: 168980, 4644: 169000, 4645: 169023, 4646: 169032, 4647: 169035, 4648: 169200, 4649: 169400, 4650: 169488, 4651: 169550, 4652: 169678, 4653: 169842, 4654: 169930, 4655: 169969, 4656: 169994, 4657: 170000, 4658: 170010, 4659: 170054, 4660: 170105, 4661: 170157, 4662: 170270, 4663: 170388, 4664: 170414, 4665: 170504, 4666: 170542, 4667: 170580, 4668: 170592, 4669: 170597, 4670: 170645, 4671: 170689, 4672: 170800, 4673: 171000, 4674: 171111, 4675: 171536, 4676: 171955, 4677: 172000, 4678: 172029, 4679: 172200, 4680: 172330, 4681: 172336, 4682: 172490, 4683: 172695, 4684: 172753, 4685: 172916, 4686: 173000, 4687: 173124, 4688: 173207, 4689: 173235, 4690: 173298, 4691: 173410, 4692: 173500, 4693: 173520, 4694: 173666, 4695: 173717, 4696: 173899, 4697: 174000, 4698: 174176, 4699: 174233, 4700: 174449, 4701: 174586, 4702: 174806, 4703: 175000, 4704: 175400, 4705: 175454, 4706: 175520, 4707: 175533, 4708: 175625, 4709: 175816, 4710: 175962, 4711: 176000, 4712: 176320, 4713: 176341, 4714: 176352, 4715: 176400, 4716: 176421, 4717: 176500, 4718: 176520, 4719: 176565, 4720: 176789, 4721: 176800, 4722: 176999, 4723: 177000, 4724: 177334, 4725: 177400, 4726: 177420, 4727: 177436, 4728: 177500, 4729: 177600, 4730: 177750, 4731: 177761, 4732: 177800, 4733: 177900, 4734: 178000, 4735: 178299, 4736: 178409, 4737: 178450, 4738: 178469, 4739: 178500, 4740: 178600, 4741: 178650, 4742: 178786, 4743: 178873, 4744: 178888, 4745: 179000, 4746: 179200, 4747: 179766, 4748: 179852, 4749: 180000, 4750: 180050, 4751: 180122, 4752: 180153, 4753: 180165, 4754: 180236, 4755: 180326, 4756: 180355, 4757: 180356, 4758: 180406, 4759: 180500, 4760: 180658, 4761: 180800, 4762: 180808, 4763: 180830, 4764: 180987, 4765: 180999, 4766: 181000, 4767: 181050, 4768: 181240, 4769: 181243, 4770: 181400, 4771: 181617, 4772: 181622, 4773: 181637, 4774: 181798, 4775: 181995, 4776: 182000, 4777: 182200, 4778: 182269, 4779: 182500, 4780: 182992, 4781: 183000, 4782: 183231, 4783: 183470, 4784: 183527, 4785: 183728, 4786: 183935, 4787: 184000, 4788: 184200, 4789: 184500, 4790: 184546, 4791: 184600, 4792: 184648, 4793: 184657, 4794: 184679, 4795: 185000, 4796: 185032, 4797: 185080, 4798: 185123, 4799: 185258, 4800: 185366, 4801: 185438, 4802: 185552, 4803: 185600, 4804: 185678, 4805: 185900, 4806: 186000, 4807: 186012, 4808: 186024, 4809: 186200, 4810: 186323, 4811: 186538, 4812: 186547, 4813: 186582, 4814: 186600, 4815: 186660, 4816: 186686, 4817: 186750, 4818: 186800, 4819: 186858, 4820: 187000, 4821: 187056, 4822: 187408, 4823: 187503, 4824: 187544, 4825: 187560, 4826: 187587, 4827: 187632, 4828: 187676, 4829: 187678, 4830: 187790, 4831: 187946, 4832: 188000, 4833: 188002, 4834: 188099, 4835: 188359, 4836: 188552, 4837: 188690, 4838: 188745, 4839: 188888, 4840: 188900, 4841: 188970, 4842: 189000, 4843: 189061, 4844: 189654, 4845: 189850, 4846: 190000, 4847: 190085, 4848: 190241, 4849: 190448, 4850: 190450, 4851: 190478, 4852: 190642, 4853: 190852, 4854: 190874, 4855: 191000, 4856: 191285, 4857: 191443, 4858: 191628, 4859: 191633, 4860: 192000, 4861: 192074, 4862: 192322, 4863: 192500, 4864: 192507, 4865: 192520, 4866: 192600, 4867: 192632, 4868: 192750, 4869: 192929, 4870: 193000, 4871: 193022, 4872: 193500, 4873: 193552, 4874: 193562, 4875: 193646, 4876: 193780, 4877: 194000, 4878: 194500, 4879: 194520, 4880: 194632, 4881: 195000, 4882: 195043, 4883: 195105, 4884: 195111, 4885: 195130, 4886: 195200, 4887: 195233, 4888: 195292, 4889: 195304, 4890: 195480, 4891: 195500, 4892: 195585, 4893: 195600, 4894: 195635, 4895: 195800, 4896: 195888, 4897: 196000, 4898: 196307, 4899: 196500, 4900: 196666, 4901: 196774, 4902: 196800, 4903: 196886, 4904: 197000, 4905: 197330, 4906: 197398, 4907: 197500, 4908: 197568, 4909: 197777, 4910: 197805, 4911: 198000, 4912: 198032, 4913: 198035, 4914: 198051, 4915: 198161, 4916: 198200, 4917: 198222, 4918: 198226, 4919: 198300, 4920: 198323, 4921: 198500, 4922: 198520, 4923: 198565, 4924: 198630, 4925: 198654, 4926: 198766, 4927: 198774, 4928: 198828, 4929: 198830, 4930: 198890, 4931: 199000, 4932: 199600, 4933: 199850, 4934: 199880, 4935: 199900, 4936: 199978, 4937: 199990, 4938: 199999, 4939: 200000, 4940: 200001, 4941: 200002, 4942: 200007, 4943: 200009, 4944: 200018, 4945: 200085, 4946: 200100, 4947: 200130, 4948: 200240, 4949: 200270, 4950: 200294, 4951: 200350, 4952: 200455, 4953: 200500, 4954: 200658, 4955: 200786, 4956: 200800, 4957: 200930, 4958: 201000, 4959: 201230, 4960: 201235, 4961: 201300, 4962: 201423, 4963: 201600, 4964: 201836, 4965: 202000, 4966: 202020, 4967: 202300, 4968: 202387, 4969: 202600, 4970: 202842, 4971: 203000, 4972: 203220, 4973: 203317, 4974: 203502, 4975: 203561, 4976: 203598, 4977: 204000, 4978: 204161, 4979: 204179, 4980: 204301, 4981: 204338, 4982: 204537, 4983: 204666, 4984: 204700, 4985: 204800, 4986: 205000, 4987: 205242, 4988: 205500, 4989: 205506, 4990: 205600, 4991: 205666, 4992: 205689, 4993: 205927, 4994: 206000, 4995: 206250, 4996: 206300, 4997: 206485, 4998: 206500, 4999: 206544, 5000: 206582, 5001: 206604, 5002: 206782, 5003: 207000, 5004: 207252, 5005: 207450, 5006: 207471, 5007: 207500, 5008: 207522, 5009: 207861, 5010: 208000, 5011: 208032, 5012: 208100, 5013: 208744, 5014: 208893, 5015: 209000, 5016: 209009, 5017: 209479, 5018: 209513, 5019: 210000, 5020: 210500, 5021: 210527, 5022: 211000, 5023: 211230, 5024: 212000, 5025: 212399, 5026: 212487, 5027: 212669, 5028: 212833, 5029: 213000, 5030: 213458, 5031: 213568, 5032: 214000, 5033: 214224, 5034: 214344, 5035: 214539, 5036: 214590, 5037: 214718, 5038: 215000, 5039: 215133, 5040: 215203, 5041: 215277, 5042: 215480, 5043: 215800, 5044: 215900, 5045: 216000, 5046: 216291, 5047: 216952, 5048: 217000, 5049: 217312, 5050: 217493, 5051: 217500, 5052: 218000, 5053: 218355, 5054: 218523, 5055: 219000, 5056: 219051, 5057: 219548, 5058: 219695, 5059: 220000, 5060: 220200, 5061: 220275, 5062: 220555, 5063: 220865, 5064: 221000, 5065: 221616, 5066: 222000, 5067: 222100, 5068: 222175, 5069: 222222, 5070: 222356, 5071: 223000, 5072: 223346, 5073: 223444, 5074: 223454, 5075: 223455, 5076: 223456, 5077: 224000, 5078: 224184, 5079: 224419, 5080: 225000, 5081: 225123, 5082: 225400, 5083: 225563, 5084: 225600, 5085: 225632, 5086: 226000, 5087: 227182, 5088: 227500, 5089: 227823, 5090: 227995, 5091: 228000, 5092: 228026, 5093: 228067, 5094: 228450, 5095: 228525, 5096: 228659, 5097: 229000, 5098: 229450, 5099: 229521, 5100: 229812, 5101: 230000, 5102: 230110, 5103: 230202, 5104: 230268, 5105: 230560, 5106: 231000, 5107: 231122, 5108: 231231, 5109: 231261, 5110: 231271, 5111: 231291, 5112: 231430, 5113: 231498, 5114: 232000, 5115: 232054, 5116: 232500, 5117: 232729, 5118: 233000, 5119: 233325, 5120: 233500, 5121: 233837, 5122: 234000, 5123: 234268, 5124: 234455, 5125: 234465, 5126: 234500, 5127: 234555, 5128: 234560, 5129: 234567, 5130: 234864, 5131: 235000, 5132: 235230, 5133: 235400, 5134: 235462, 5135: 235734, 5136: 235819, 5137: 235845, 5138: 235863, 5139: 236000, 5140: 236001, 5141: 236200, 5142: 236419, 5143: 236485, 5144: 236547, 5145: 236676, 5146: 236886, 5147: 237000, 5148: 237811, 5149: 238000, 5150: 238754, 5151: 238845, 5152: 239000, 5153: 239210, 5154: 239766, 5155: 240000, 5156: 240900, 5157: 241000, 5158: 241110, 5159: 241208, 5160: 241536, 5161: 242000, 5162: 242546, 5163: 242908, 5164: 243000, 5165: 243454, 5166: 243455, 5167: 243488, 5168: 243604, 5169: 243788, 5170: 243949, 5171: 244000, 5172: 244500, 5173: 245000, 5174: 245125, 5175: 245333, 5176: 245687, 5177: 245688, 5178: 245700, 5179: 245900, 5180: 245990, 5181: 246000, 5182: 246211, 5183: 246490, 5184: 246678, 5185: 246788, 5186: 246839, 5187: 247000, 5188: 247240, 5189: 247500, 5190: 248000, 5191: 248611, 5192: 248664, 5193: 249000, 5194: 250000, 5195: 250230, 5196: 250525, 5197: 250740, 5198: 251000, 5199: 251690, 5200: 252000, 5201: 252074, 5202: 252340, 5203: 252525, 5204: 252808, 5205: 252937, 5206: 253472, 5207: 253585, 5208: 253645, 5209: 254000, 5210: 254151, 5211: 254162, 5212: 254297, 5213: 254798, 5214: 254875, 5215: 254881, 5216: 254882, 5217: 254980, 5218: 254991, 5219: 255000, 5220: 255440, 5221: 255555, 5222: 255556, 5223: 255633, 5224: 255800, 5225: 255841, 5226: 255855, 5227: 256000, 5228: 256120, 5229: 256300, 5230: 256453, 5231: 256547, 5232: 256600, 5233: 256800, 5234: 256823, 5235: 256859, 5236: 256878, 5237: 256934, 5238: 257000, 5239: 258000, 5240: 258050, 5241: 258096, 5242: 258314, 5243: 258468, 5244: 258500, 5245: 258569, 5246: 258623, 5247: 258745, 5248: 258880, 5249: 258888, 5250: 258963, 5251: 259000, 5252: 259523, 5253: 259643, 5254: 260000, 5255: 260480, 5256: 260560, 5257: 260898, 5258: 261000, 5259: 261609, 5260: 262000, 5261: 262050, 5262: 263000, 5263: 264000, 5264: 264340, 5265: 265000, 5266: 265323, 5267: 265365, 5268: 265568, 5269: 266000, 5270: 266208, 5271: 266629, 5272: 266860, 5273: 267000, 5274: 267700, 5275: 268889, 5276: 268946, 5277: 269334, 5278: 269478, 5279: 269631, 5280: 270000, 5281: 270001, 5282: 270586, 5283: 271000, 5284: 271199, 5285: 271405, 5286: 271500, 5287: 271523, 5288: 272000, 5289: 273000, 5290: 273070, 5291: 274145, 5292: 274585, 5293: 274809, 5294: 275000, 5295: 275544, 5296: 276000, 5297: 276500, 5298: 277000, 5299: 277800, 5300: 278000, 5301: 279000, 5302: 280000, 5303: 280005, 5304: 281197, 5305: 281351, 5306: 282000, 5307: 282113, 5308: 282858, 5309: 282965, 5310: 283000, 5311: 283121, 5312: 284000, 5313: 284289, 5314: 285000, 5315: 285088, 5316: 285305, 5317: 285560, 5318: 285660, 5319: 285752, 5320: 285755, 5321: 286000, 5322: 286335, 5323: 286575, 5324: 286750, 5325: 286800, 5326: 287090, 5327: 287292, 5328: 287500, 5329: 287671, 5330: 288000, 5331: 288123, 5332: 289000, 5333: 289178, 5334: 290000, 5335: 290555, 5336: 290740, 5337: 291000, 5338: 291500, 5339: 292000, 5340: 292086, 5341: 292720, 5342: 293000, 5343: 293335, 5344: 294000, 5345: 294200, 5346: 294927, 5347: 295000, 5348: 295848, 5349: 295887, 5350: 296000, 5351: 296200, 5352: 296542, 5353: 296951, 5354: 297000, 5355: 297001, 5356: 298000, 5357: 298336, 5358: 299999, 5359: 300000, 5360: 301777, 5361: 302700, 5362: 303000, 5363: 304000, 5364: 304735, 5365: 305000, 5366: 305360, 5367: 306800, 5368: 310000, 5369: 310608, 5370: 312000, 5371: 312480, 5372: 313000, 5373: 313043, 5374: 313454, 5375: 313500, 5376: 313900, 5377: 314000, 5378: 315000, 5379: 315925, 5380: 316208, 5381: 316423, 5382: 316453, 5383: 317000, 5384: 319199, 5385: 319810, 5386: 320000, 5387: 321000, 5388: 321563, 5389: 322000, 5390: 322500, 5391: 323000, 5392: 323383, 5393: 323405, 5394: 323600, 5395: 323622, 5396: 323641, 5397: 324000, 5398: 324123, 5399: 325000, 5400: 325070, 5401: 325415, 5402: 326894, 5403: 327000, 5404: 328316, 5405: 328517, 5406: 329079, 5407: 329402, 5408: 330000, 5409: 331000, 5410: 331366, 5411: 332000, 5412: 332511, 5413: 332600, 5414: 332668, 5415: 333000, 5416: 333333, 5417: 333641, 5418: 334000, 5419: 334455, 5420: 335000, 5421: 335680, 5422: 336557, 5423: 338000, 5424: 338200, 5425: 340000, 5426: 340001, 5427: 340050, 5428: 342255, 5429: 342316, 5430: 343051, 5431: 344000, 5432: 344987, 5433: 345000, 5434: 345421, 5435: 345545, 5436: 346200, 5437: 347800, 5438: 347865, 5439: 348468, 5440: 350000, 5441: 350090, 5442: 350350, 5443: 353880, 5444: 354273, 5445: 354564, 5446: 354566, 5447: 354666, 5448: 355000, 5449: 356000, 5450: 356898, 5451: 357200, 5452: 357809, 5453: 358000, 5454: 358686, 5455: 359000, 5456: 360000, 5457: 360090, 5458: 361000, 5459: 362000, 5460: 362333, 5461: 364886, 5462: 365005, 5463: 365600, 5464: 365880, 5465: 366000, 5466: 368000, 5467: 369000, 5468: 370000, 5469: 370263, 5470: 375000, 5471: 375730, 5472: 377000, 5473: 378000, 5474: 380000, 5475: 382320, 5476: 384000, 5477: 384864, 5478: 385450, 5479: 389000, 5480: 390000, 5481: 390642, 5482: 394000, 5483: 395000, 5484: 395641, 5485: 398000, 5486: 398565, 5487: 398634, 5488: 400000, 5489: 406000, 5490: 407987, 5491: 409000, 5492: 410000, 5493: 410008, 5494: 411111, 5495: 412000, 5496: 415700, 5497: 420000, 5498: 422000, 5499: 423485, 5500: 429185, 5501: 430000, 5502: 430002, 5503: 430118, 5504: 432030, 5505: 432962, 5506: 435713, 5507: 436041, 5508: 436598, 5509: 440000, 5510: 440045, 5511: 440831, 5512: 441084, 5513: 441560, 5514: 444444, 5515: 444580, 5516: 445000, 5517: 445657, 5518: 446000, 5519: 450000, 5520: 450002, 5521: 450750, 5522: 450867, 5523: 454558, 5524: 456789, 5525: 458008, 5526: 459000, 5527: 460000, 5528: 463000, 5529: 465000, 5530: 465450, 5531: 465885, 5532: 467676, 5533: 469380, 5534: 470000, 5535: 471120, 5536: 477800, 5537: 480000, 5538: 484520, 5539: 490000, 5540: 493710, 5541: 496649, 5542: 500000, 5543: 500100, 5544: 540000, 5545: 546000, 5546: 570000, 5547: 579000, 5548: 580000, 5549: 600000, 5550: 640000, 5551: 642832, 5552: 642894, 5553: 646464, 5554: 650000, 5555: 654321, 5556: 666647, 5557: 666666, 5558: 680000, 5559: 700000, 5560: 750000, 5561: 780000, 5562: 786786, 5563: 820000, 5564: 850000, 5565: 870000, 5566: 880000, 5567: 900000, 5568: 930000, 5569: 950000, 5570: 985600, 5571: 990000, 5572: 999999}\n",
            "engine_type : {0: 'Diesel', 1: 'Hybrid', 2: 'Petrol'}\n",
            "engine_cap : {0: 16, 1: 100, 2: 559, 3: 600, 4: 610, 5: 660, 6: 700, 7: 800, 8: 860, 9: 875, 10: 880, 11: 894, 12: 896, 13: 900, 14: 933, 15: 950, 16: 1000, 17: 1086, 18: 1098, 19: 1100, 20: 1138, 21: 1200, 22: 1300, 23: 1400, 24: 1500, 25: 1600, 26: 1668, 27: 1700, 28: 1798, 29: 1800, 30: 1900, 31: 2000, 32: 2171, 33: 2184, 34: 2200, 35: 2300, 36: 2350, 37: 2400, 38: 2500, 39: 2590, 40: 2597, 41: 2600, 42: 2700, 43: 2800, 44: 3000, 45: 3199, 46: 3200, 47: 3378, 48: 3400, 49: 3500, 50: 3600, 51: 4000, 52: 4163, 53: 4164, 54: 4169, 55: 4196, 56: 4200, 57: 4400, 58: 4476, 59: 4500, 60: 4600, 61: 4608, 62: 4663, 63: 4700, 64: 4800, 65: 5000, 66: 5461, 67: 5500, 68: 5600, 69: 5656, 70: 5663, 71: 5700, 72: 5972, 73: 6200, 74: 6600}\n",
            "Color : {0: 'Assembly', 1: 'Beige', 2: 'Black', 3: 'Blue', 4: 'Bronze', 5: 'Brown', 6: 'Burgundy', 7: 'Gold', 8: 'Green', 9: 'Grey', 10: 'Indigo', 11: 'Magenta', 12: 'Maroon', 13: 'Navy', 14: 'Orange', 15: 'Pink', 16: 'Purple', 17: 'Red', 18: 'Silver', 19: 'Turquoise', 20: 'Unlisted', 21: 'White', 22: 'Wine', 23: 'Yellow'}\n",
            "assembly : {0: 'Imported', 1: 'Local'}\n",
            "body_type : {0: 'Cross Over', 1: 'Hatchback', 2: 'Mini Van', 3: 'SUV', 4: 'Sedan', 5: 'Van'}\n",
            "Transmission Type : {0: 'Automatic', 1: 'Manual'}\n",
            "Registration Status : {0: 'Registered', 1: 'Un-Registered'}\n"
          ]
        }
      ]
    },
    {
      "cell_type": "code",
      "source": [
        "from sklearn.preprocessing import LabelEncoder\n",
        "columns = ['Company Name', 'Model Name', 'Location', 'Engine Type', 'Color', 'Assembly', 'Body Type',\n",
        "           'Transmission Type', 'Registration Status']\n",
        "label_encoder = LabelEncoder()\n",
        "for col in columns:\n",
        "    car[col + '_encoded'] = label_encoder.fit_transform(car[col])\n",
        "car = car.drop(columns=columns)\n",
        "car.head()"
      ],
      "metadata": {
        "execution": {
          "iopub.status.busy": "2024-04-23T05:00:36.032700Z",
          "iopub.execute_input": "2024-04-23T05:00:36.034050Z",
          "iopub.status.idle": "2024-04-23T05:00:36.288552Z",
          "shell.execute_reply.started": "2024-04-23T05:00:36.034004Z",
          "shell.execute_reply": "2024-04-23T05:00:36.287201Z"
        },
        "trusted": true,
        "id": "zfpAQnRTfEv3",
        "colab": {
          "base_uri": "https://localhost:8080/",
          "height": 243
        },
        "outputId": "9682519b-cb94-4606-f84d-72daa56ca686"
      },
      "execution_count": null,
      "outputs": [
        {
          "output_type": "execute_result",
          "data": {
            "text/plain": [
              "     Price  Model Year  Mileage  Engine Capacity  Company Name_encoded  \\\n",
              "0  2385000        2017     9869             1000                    28   \n",
              "1   111000        2019    11111             1300                    28   \n",
              "2  1530000        2019    17500              660                    27   \n",
              "3  1650000        2019     9600              660                    27   \n",
              "4  1435000        2010   120000             1300                    28   \n",
              "\n",
              "   Model Name_encoded  Location_encoded  Engine Type_encoded  Color_encoded  \\\n",
              "0                 181                 1                    2             18   \n",
              "1                  53                 2                    2             21   \n",
              "2                  14                 2                    2             21   \n",
              "3                  14                 4                    2             21   \n",
              "4                  53                 1                    2              2   \n",
              "\n",
              "   Assembly_encoded  Body Type_encoded  Transmission Type_encoded  \\\n",
              "0                 0                  1                          0   \n",
              "1                 1                  4                          0   \n",
              "2                 1                  1                          0   \n",
              "3                 1                  1                          1   \n",
              "4                 1                  4                          1   \n",
              "\n",
              "   Registration Status_encoded  \n",
              "0                            1  \n",
              "1                            0  \n",
              "2                            1  \n",
              "3                            0  \n",
              "4                            0  "
            ],
            "text/html": [
              "\n",
              "  <div id=\"df-aa1a6d82-cf97-4242-8668-93085ba7e0cc\" class=\"colab-df-container\">\n",
              "    <div>\n",
              "<style scoped>\n",
              "    .dataframe tbody tr th:only-of-type {\n",
              "        vertical-align: middle;\n",
              "    }\n",
              "\n",
              "    .dataframe tbody tr th {\n",
              "        vertical-align: top;\n",
              "    }\n",
              "\n",
              "    .dataframe thead th {\n",
              "        text-align: right;\n",
              "    }\n",
              "</style>\n",
              "<table border=\"1\" class=\"dataframe\">\n",
              "  <thead>\n",
              "    <tr style=\"text-align: right;\">\n",
              "      <th></th>\n",
              "      <th>Price</th>\n",
              "      <th>Model Year</th>\n",
              "      <th>Mileage</th>\n",
              "      <th>Engine Capacity</th>\n",
              "      <th>Company Name_encoded</th>\n",
              "      <th>Model Name_encoded</th>\n",
              "      <th>Location_encoded</th>\n",
              "      <th>Engine Type_encoded</th>\n",
              "      <th>Color_encoded</th>\n",
              "      <th>Assembly_encoded</th>\n",
              "      <th>Body Type_encoded</th>\n",
              "      <th>Transmission Type_encoded</th>\n",
              "      <th>Registration Status_encoded</th>\n",
              "    </tr>\n",
              "  </thead>\n",
              "  <tbody>\n",
              "    <tr>\n",
              "      <th>0</th>\n",
              "      <td>2385000</td>\n",
              "      <td>2017</td>\n",
              "      <td>9869</td>\n",
              "      <td>1000</td>\n",
              "      <td>28</td>\n",
              "      <td>181</td>\n",
              "      <td>1</td>\n",
              "      <td>2</td>\n",
              "      <td>18</td>\n",
              "      <td>0</td>\n",
              "      <td>1</td>\n",
              "      <td>0</td>\n",
              "      <td>1</td>\n",
              "    </tr>\n",
              "    <tr>\n",
              "      <th>1</th>\n",
              "      <td>111000</td>\n",
              "      <td>2019</td>\n",
              "      <td>11111</td>\n",
              "      <td>1300</td>\n",
              "      <td>28</td>\n",
              "      <td>53</td>\n",
              "      <td>2</td>\n",
              "      <td>2</td>\n",
              "      <td>21</td>\n",
              "      <td>1</td>\n",
              "      <td>4</td>\n",
              "      <td>0</td>\n",
              "      <td>0</td>\n",
              "    </tr>\n",
              "    <tr>\n",
              "      <th>2</th>\n",
              "      <td>1530000</td>\n",
              "      <td>2019</td>\n",
              "      <td>17500</td>\n",
              "      <td>660</td>\n",
              "      <td>27</td>\n",
              "      <td>14</td>\n",
              "      <td>2</td>\n",
              "      <td>2</td>\n",
              "      <td>21</td>\n",
              "      <td>1</td>\n",
              "      <td>1</td>\n",
              "      <td>0</td>\n",
              "      <td>1</td>\n",
              "    </tr>\n",
              "    <tr>\n",
              "      <th>3</th>\n",
              "      <td>1650000</td>\n",
              "      <td>2019</td>\n",
              "      <td>9600</td>\n",
              "      <td>660</td>\n",
              "      <td>27</td>\n",
              "      <td>14</td>\n",
              "      <td>4</td>\n",
              "      <td>2</td>\n",
              "      <td>21</td>\n",
              "      <td>1</td>\n",
              "      <td>1</td>\n",
              "      <td>1</td>\n",
              "      <td>0</td>\n",
              "    </tr>\n",
              "    <tr>\n",
              "      <th>4</th>\n",
              "      <td>1435000</td>\n",
              "      <td>2010</td>\n",
              "      <td>120000</td>\n",
              "      <td>1300</td>\n",
              "      <td>28</td>\n",
              "      <td>53</td>\n",
              "      <td>1</td>\n",
              "      <td>2</td>\n",
              "      <td>2</td>\n",
              "      <td>1</td>\n",
              "      <td>4</td>\n",
              "      <td>1</td>\n",
              "      <td>0</td>\n",
              "    </tr>\n",
              "  </tbody>\n",
              "</table>\n",
              "</div>\n",
              "    <div class=\"colab-df-buttons\">\n",
              "\n",
              "  <div class=\"colab-df-container\">\n",
              "    <button class=\"colab-df-convert\" onclick=\"convertToInteractive('df-aa1a6d82-cf97-4242-8668-93085ba7e0cc')\"\n",
              "            title=\"Convert this dataframe to an interactive table.\"\n",
              "            style=\"display:none;\">\n",
              "\n",
              "  <svg xmlns=\"http://www.w3.org/2000/svg\" height=\"24px\" viewBox=\"0 -960 960 960\">\n",
              "    <path d=\"M120-120v-720h720v720H120Zm60-500h600v-160H180v160Zm220 220h160v-160H400v160Zm0 220h160v-160H400v160ZM180-400h160v-160H180v160Zm440 0h160v-160H620v160ZM180-180h160v-160H180v160Zm440 0h160v-160H620v160Z\"/>\n",
              "  </svg>\n",
              "    </button>\n",
              "\n",
              "  <style>\n",
              "    .colab-df-container {\n",
              "      display:flex;\n",
              "      gap: 12px;\n",
              "    }\n",
              "\n",
              "    .colab-df-convert {\n",
              "      background-color: #E8F0FE;\n",
              "      border: none;\n",
              "      border-radius: 50%;\n",
              "      cursor: pointer;\n",
              "      display: none;\n",
              "      fill: #1967D2;\n",
              "      height: 32px;\n",
              "      padding: 0 0 0 0;\n",
              "      width: 32px;\n",
              "    }\n",
              "\n",
              "    .colab-df-convert:hover {\n",
              "      background-color: #E2EBFA;\n",
              "      box-shadow: 0px 1px 2px rgba(60, 64, 67, 0.3), 0px 1px 3px 1px rgba(60, 64, 67, 0.15);\n",
              "      fill: #174EA6;\n",
              "    }\n",
              "\n",
              "    .colab-df-buttons div {\n",
              "      margin-bottom: 4px;\n",
              "    }\n",
              "\n",
              "    [theme=dark] .colab-df-convert {\n",
              "      background-color: #3B4455;\n",
              "      fill: #D2E3FC;\n",
              "    }\n",
              "\n",
              "    [theme=dark] .colab-df-convert:hover {\n",
              "      background-color: #434B5C;\n",
              "      box-shadow: 0px 1px 3px 1px rgba(0, 0, 0, 0.15);\n",
              "      filter: drop-shadow(0px 1px 2px rgba(0, 0, 0, 0.3));\n",
              "      fill: #FFFFFF;\n",
              "    }\n",
              "  </style>\n",
              "\n",
              "    <script>\n",
              "      const buttonEl =\n",
              "        document.querySelector('#df-aa1a6d82-cf97-4242-8668-93085ba7e0cc button.colab-df-convert');\n",
              "      buttonEl.style.display =\n",
              "        google.colab.kernel.accessAllowed ? 'block' : 'none';\n",
              "\n",
              "      async function convertToInteractive(key) {\n",
              "        const element = document.querySelector('#df-aa1a6d82-cf97-4242-8668-93085ba7e0cc');\n",
              "        const dataTable =\n",
              "          await google.colab.kernel.invokeFunction('convertToInteractive',\n",
              "                                                    [key], {});\n",
              "        if (!dataTable) return;\n",
              "\n",
              "        const docLinkHtml = 'Like what you see? Visit the ' +\n",
              "          '<a target=\"_blank\" href=https://colab.research.google.com/notebooks/data_table.ipynb>data table notebook</a>'\n",
              "          + ' to learn more about interactive tables.';\n",
              "        element.innerHTML = '';\n",
              "        dataTable['output_type'] = 'display_data';\n",
              "        await google.colab.output.renderOutput(dataTable, element);\n",
              "        const docLink = document.createElement('div');\n",
              "        docLink.innerHTML = docLinkHtml;\n",
              "        element.appendChild(docLink);\n",
              "      }\n",
              "    </script>\n",
              "  </div>\n",
              "\n",
              "\n",
              "<div id=\"df-6c6f3c75-87e9-40a9-a8a7-ecbe7dade4d3\">\n",
              "  <button class=\"colab-df-quickchart\" onclick=\"quickchart('df-6c6f3c75-87e9-40a9-a8a7-ecbe7dade4d3')\"\n",
              "            title=\"Suggest charts\"\n",
              "            style=\"display:none;\">\n",
              "\n",
              "<svg xmlns=\"http://www.w3.org/2000/svg\" height=\"24px\"viewBox=\"0 0 24 24\"\n",
              "     width=\"24px\">\n",
              "    <g>\n",
              "        <path d=\"M19 3H5c-1.1 0-2 .9-2 2v14c0 1.1.9 2 2 2h14c1.1 0 2-.9 2-2V5c0-1.1-.9-2-2-2zM9 17H7v-7h2v7zm4 0h-2V7h2v10zm4 0h-2v-4h2v4z\"/>\n",
              "    </g>\n",
              "</svg>\n",
              "  </button>\n",
              "\n",
              "<style>\n",
              "  .colab-df-quickchart {\n",
              "      --bg-color: #E8F0FE;\n",
              "      --fill-color: #1967D2;\n",
              "      --hover-bg-color: #E2EBFA;\n",
              "      --hover-fill-color: #174EA6;\n",
              "      --disabled-fill-color: #AAA;\n",
              "      --disabled-bg-color: #DDD;\n",
              "  }\n",
              "\n",
              "  [theme=dark] .colab-df-quickchart {\n",
              "      --bg-color: #3B4455;\n",
              "      --fill-color: #D2E3FC;\n",
              "      --hover-bg-color: #434B5C;\n",
              "      --hover-fill-color: #FFFFFF;\n",
              "      --disabled-bg-color: #3B4455;\n",
              "      --disabled-fill-color: #666;\n",
              "  }\n",
              "\n",
              "  .colab-df-quickchart {\n",
              "    background-color: var(--bg-color);\n",
              "    border: none;\n",
              "    border-radius: 50%;\n",
              "    cursor: pointer;\n",
              "    display: none;\n",
              "    fill: var(--fill-color);\n",
              "    height: 32px;\n",
              "    padding: 0;\n",
              "    width: 32px;\n",
              "  }\n",
              "\n",
              "  .colab-df-quickchart:hover {\n",
              "    background-color: var(--hover-bg-color);\n",
              "    box-shadow: 0 1px 2px rgba(60, 64, 67, 0.3), 0 1px 3px 1px rgba(60, 64, 67, 0.15);\n",
              "    fill: var(--button-hover-fill-color);\n",
              "  }\n",
              "\n",
              "  .colab-df-quickchart-complete:disabled,\n",
              "  .colab-df-quickchart-complete:disabled:hover {\n",
              "    background-color: var(--disabled-bg-color);\n",
              "    fill: var(--disabled-fill-color);\n",
              "    box-shadow: none;\n",
              "  }\n",
              "\n",
              "  .colab-df-spinner {\n",
              "    border: 2px solid var(--fill-color);\n",
              "    border-color: transparent;\n",
              "    border-bottom-color: var(--fill-color);\n",
              "    animation:\n",
              "      spin 1s steps(1) infinite;\n",
              "  }\n",
              "\n",
              "  @keyframes spin {\n",
              "    0% {\n",
              "      border-color: transparent;\n",
              "      border-bottom-color: var(--fill-color);\n",
              "      border-left-color: var(--fill-color);\n",
              "    }\n",
              "    20% {\n",
              "      border-color: transparent;\n",
              "      border-left-color: var(--fill-color);\n",
              "      border-top-color: var(--fill-color);\n",
              "    }\n",
              "    30% {\n",
              "      border-color: transparent;\n",
              "      border-left-color: var(--fill-color);\n",
              "      border-top-color: var(--fill-color);\n",
              "      border-right-color: var(--fill-color);\n",
              "    }\n",
              "    40% {\n",
              "      border-color: transparent;\n",
              "      border-right-color: var(--fill-color);\n",
              "      border-top-color: var(--fill-color);\n",
              "    }\n",
              "    60% {\n",
              "      border-color: transparent;\n",
              "      border-right-color: var(--fill-color);\n",
              "    }\n",
              "    80% {\n",
              "      border-color: transparent;\n",
              "      border-right-color: var(--fill-color);\n",
              "      border-bottom-color: var(--fill-color);\n",
              "    }\n",
              "    90% {\n",
              "      border-color: transparent;\n",
              "      border-bottom-color: var(--fill-color);\n",
              "    }\n",
              "  }\n",
              "</style>\n",
              "\n",
              "  <script>\n",
              "    async function quickchart(key) {\n",
              "      const quickchartButtonEl =\n",
              "        document.querySelector('#' + key + ' button');\n",
              "      quickchartButtonEl.disabled = true;  // To prevent multiple clicks.\n",
              "      quickchartButtonEl.classList.add('colab-df-spinner');\n",
              "      try {\n",
              "        const charts = await google.colab.kernel.invokeFunction(\n",
              "            'suggestCharts', [key], {});\n",
              "      } catch (error) {\n",
              "        console.error('Error during call to suggestCharts:', error);\n",
              "      }\n",
              "      quickchartButtonEl.classList.remove('colab-df-spinner');\n",
              "      quickchartButtonEl.classList.add('colab-df-quickchart-complete');\n",
              "    }\n",
              "    (() => {\n",
              "      let quickchartButtonEl =\n",
              "        document.querySelector('#df-6c6f3c75-87e9-40a9-a8a7-ecbe7dade4d3 button');\n",
              "      quickchartButtonEl.style.display =\n",
              "        google.colab.kernel.accessAllowed ? 'block' : 'none';\n",
              "    })();\n",
              "  </script>\n",
              "</div>\n",
              "\n",
              "    </div>\n",
              "  </div>\n"
            ],
            "application/vnd.google.colaboratory.intrinsic+json": {
              "type": "dataframe",
              "variable_name": "car",
              "summary": "{\n  \"name\": \"car\",\n  \"rows\": 46022,\n  \"fields\": [\n    {\n      \"column\": \"Price\",\n      \"properties\": {\n        \"dtype\": \"number\",\n        \"std\": 2939071,\n        \"min\": 111000,\n        \"max\": 77500000,\n        \"num_unique_values\": 1419,\n        \"samples\": [\n          1140000,\n          325000,\n          605000\n        ],\n        \"semantic_type\": \"\",\n        \"description\": \"\"\n      }\n    },\n    {\n      \"column\": \"Model Year\",\n      \"properties\": {\n        \"dtype\": \"number\",\n        \"std\": 6,\n        \"min\": 1990,\n        \"max\": 2019,\n        \"num_unique_values\": 30,\n        \"samples\": [\n          1997,\n          2005,\n          1996\n        ],\n        \"semantic_type\": \"\",\n        \"description\": \"\"\n      }\n    },\n    {\n      \"column\": \"Mileage\",\n      \"properties\": {\n        \"dtype\": \"number\",\n        \"std\": 63656,\n        \"min\": 1,\n        \"max\": 999999,\n        \"num_unique_values\": 5573,\n        \"samples\": [\n          130289,\n          95171,\n          167592\n        ],\n        \"semantic_type\": \"\",\n        \"description\": \"\"\n      }\n    },\n    {\n      \"column\": \"Engine Capacity\",\n      \"properties\": {\n        \"dtype\": \"number\",\n        \"std\": 614,\n        \"min\": 16,\n        \"max\": 6600,\n        \"num_unique_values\": 75,\n        \"samples\": [\n          3000,\n          600,\n          2500\n        ],\n        \"semantic_type\": \"\",\n        \"description\": \"\"\n      }\n    },\n    {\n      \"column\": \"Company Name_encoded\",\n      \"properties\": {\n        \"dtype\": \"number\",\n        \"std\": 8,\n        \"min\": 0,\n        \"max\": 30,\n        \"num_unique_values\": 31,\n        \"samples\": [\n          14,\n          15,\n          9\n        ],\n        \"semantic_type\": \"\",\n        \"description\": \"\"\n      }\n    },\n    {\n      \"column\": \"Model Name_encoded\",\n      \"properties\": {\n        \"dtype\": \"number\",\n        \"std\": 50,\n        \"min\": 0,\n        \"max\": 195,\n        \"num_unique_values\": 196,\n        \"samples\": [\n          104,\n          72,\n          135\n        ],\n        \"semantic_type\": \"\",\n        \"description\": \"\"\n      }\n    },\n    {\n      \"column\": \"Location_encoded\",\n      \"properties\": {\n        \"dtype\": \"number\",\n        \"std\": 1,\n        \"min\": 0,\n        \"max\": 5,\n        \"num_unique_values\": 6,\n        \"samples\": [\n          1,\n          2,\n          3\n        ],\n        \"semantic_type\": \"\",\n        \"description\": \"\"\n      }\n    },\n    {\n      \"column\": \"Engine Type_encoded\",\n      \"properties\": {\n        \"dtype\": \"number\",\n        \"std\": 0,\n        \"min\": 0,\n        \"max\": 2,\n        \"num_unique_values\": 3,\n        \"samples\": [\n          2,\n          0,\n          1\n        ],\n        \"semantic_type\": \"\",\n        \"description\": \"\"\n      }\n    },\n    {\n      \"column\": \"Color_encoded\",\n      \"properties\": {\n        \"dtype\": \"number\",\n        \"std\": 7,\n        \"min\": 0,\n        \"max\": 23,\n        \"num_unique_values\": 24,\n        \"samples\": [\n          12,\n          19,\n          18\n        ],\n        \"semantic_type\": \"\",\n        \"description\": \"\"\n      }\n    },\n    {\n      \"column\": \"Assembly_encoded\",\n      \"properties\": {\n        \"dtype\": \"number\",\n        \"std\": 0,\n        \"min\": 0,\n        \"max\": 1,\n        \"num_unique_values\": 2,\n        \"samples\": [\n          1,\n          0\n        ],\n        \"semantic_type\": \"\",\n        \"description\": \"\"\n      }\n    },\n    {\n      \"column\": \"Body Type_encoded\",\n      \"properties\": {\n        \"dtype\": \"number\",\n        \"std\": 1,\n        \"min\": 0,\n        \"max\": 5,\n        \"num_unique_values\": 6,\n        \"samples\": [\n          1,\n          4\n        ],\n        \"semantic_type\": \"\",\n        \"description\": \"\"\n      }\n    },\n    {\n      \"column\": \"Transmission Type_encoded\",\n      \"properties\": {\n        \"dtype\": \"number\",\n        \"std\": 0,\n        \"min\": 0,\n        \"max\": 1,\n        \"num_unique_values\": 2,\n        \"samples\": [\n          1,\n          0\n        ],\n        \"semantic_type\": \"\",\n        \"description\": \"\"\n      }\n    },\n    {\n      \"column\": \"Registration Status_encoded\",\n      \"properties\": {\n        \"dtype\": \"number\",\n        \"std\": 0,\n        \"min\": 0,\n        \"max\": 1,\n        \"num_unique_values\": 2,\n        \"samples\": [\n          0,\n          1\n        ],\n        \"semantic_type\": \"\",\n        \"description\": \"\"\n      }\n    }\n  ]\n}"
            }
          },
          "metadata": {},
          "execution_count": 30
        }
      ]
    },
    {
      "cell_type": "code",
      "source": [
        "corr_matrix = car.corr()\n",
        "plt.figure(figsize=(15,10))\n",
        "sns.heatmap(corr_matrix, annot=True)\n",
        "plt.show()"
      ],
      "metadata": {
        "execution": {
          "iopub.status.busy": "2024-04-23T05:00:36.306179Z",
          "iopub.execute_input": "2024-04-23T05:00:36.307033Z",
          "iopub.status.idle": "2024-04-23T05:00:37.442139Z",
          "shell.execute_reply.started": "2024-04-23T05:00:36.306998Z",
          "shell.execute_reply": "2024-04-23T05:00:37.440507Z"
        },
        "trusted": true,
        "id": "fqWMqdhEfEv3",
        "colab": {
          "base_uri": "https://localhost:8080/",
          "height": 650
        },
        "outputId": "c809c7ad-c2c0-4d7f-e12a-061b495c6842"
      },
      "execution_count": null,
      "outputs": [
        {
          "output_type": "display_data",
          "data": {
            "text/plain": [
              "<Figure size 1500x1000 with 2 Axes>"
            ],
            "image/png": "[encoded data removed]"
          },
          "metadata": {}
        }
      ]
    },
    {
      "cell_type": "markdown",
      "source": [
        "# 6) Model Building"
      ],
      "metadata": {
        "id": "YTC5ut3mfEv3"
      }
    },
    {
      "cell_type": "code",
      "source": [
        "X = car.drop(['Price'], axis=1)\n",
        "Y = car['Price']"
      ],
      "metadata": {
        "execution": {
          "iopub.status.busy": "2024-04-23T05:00:37.444245Z",
          "iopub.execute_input": "2024-04-23T05:00:37.444691Z",
          "iopub.status.idle": "2024-04-23T05:00:37.452943Z",
          "shell.execute_reply.started": "2024-04-23T05:00:37.444658Z",
          "shell.execute_reply": "2024-04-23T05:00:37.451872Z"
        },
        "trusted": true,
        "id": "JqfNzEbTfEv3"
      },
      "execution_count": null,
      "outputs": []
    },
    {
      "cell_type": "code",
      "source": [
        "from sklearn.model_selection import train_test_split\n",
        "Xtrain, Xtest, Ytrain, Ytest = train_test_split(X, Y, random_state=123, test_size=0.2)"
      ],
      "metadata": {
        "execution": {
          "iopub.status.busy": "2024-04-23T05:00:37.454202Z",
          "iopub.execute_input": "2024-04-23T05:00:37.455162Z",
          "iopub.status.idle": "2024-04-23T05:00:37.605823Z",
          "shell.execute_reply.started": "2024-04-23T05:00:37.455128Z",
          "shell.execute_reply": "2024-04-23T05:00:37.604202Z"
        },
        "trusted": true,
        "id": "HQG4jrKVfEv4"
      },
      "execution_count": null,
      "outputs": []
    },
    {
      "cell_type": "code",
      "source": [
        "Xtrain.head()"
      ],
      "metadata": {
        "execution": {
          "iopub.status.busy": "2024-04-23T05:00:37.607465Z",
          "iopub.execute_input": "2024-04-23T05:00:37.607850Z",
          "iopub.status.idle": "2024-04-23T05:00:37.617139Z",
          "shell.execute_reply.started": "2024-04-23T05:00:37.607818Z",
          "shell.execute_reply": "2024-04-23T05:00:37.615603Z"
        },
        "trusted": true,
        "id": "6vIe7P50fEv4",
        "colab": {
          "base_uri": "https://localhost:8080/",
          "height": 243
        },
        "outputId": "4ae28804-b4f5-420d-9287-9f3185419c45"
      },
      "execution_count": null,
      "outputs": [
        {
          "output_type": "execute_result",
          "data": {
            "text/plain": [
              "       Model Year  Mileage  Engine Capacity  Company Name_encoded  \\\n",
              "42930        2006    88000             1000                    28   \n",
              "15945        2015    59492             1000                    27   \n",
              "5683         2018    35000             1800                    10   \n",
              "38989        2016    48000              660                    27   \n",
              "39436        2003   122000             1000                    12   \n",
              "\n",
              "       Model Name_encoded  Location_encoded  Engine Type_encoded  \\\n",
              "42930                 181                 4                    2   \n",
              "15945                 183                 4                    2   \n",
              "5683                   49                 2                    2   \n",
              "38989                  14                 2                    2   \n",
              "39436                 151                 4                    2   \n",
              "\n",
              "       Color_encoded  Assembly_encoded  Body Type_encoded  \\\n",
              "42930             18                 0                  1   \n",
              "15945             21                 1                  1   \n",
              "5683              21                 1                  4   \n",
              "38989              1                 1                  1   \n",
              "39436              9                 1                  1   \n",
              "\n",
              "       Transmission Type_encoded  Registration Status_encoded  \n",
              "42930                          0                            0  \n",
              "15945                          1                            0  \n",
              "5683                           0                            0  \n",
              "38989                          0                            1  \n",
              "39436                          1                            0  "
            ],
            "text/html": [
              "\n",
              "  <div id=\"df-522cf5c4-3519-4ffb-b3e4-fed94c609f5f\" class=\"colab-df-container\">\n",
              "    <div>\n",
              "<style scoped>\n",
              "    .dataframe tbody tr th:only-of-type {\n",
              "        vertical-align: middle;\n",
              "    }\n",
              "\n",
              "    .dataframe tbody tr th {\n",
              "        vertical-align: top;\n",
              "    }\n",
              "\n",
              "    .dataframe thead th {\n",
              "        text-align: right;\n",
              "    }\n",
              "</style>\n",
              "<table border=\"1\" class=\"dataframe\">\n",
              "  <thead>\n",
              "    <tr style=\"text-align: right;\">\n",
              "      <th></th>\n",
              "      <th>Model Year</th>\n",
              "      <th>Mileage</th>\n",
              "      <th>Engine Capacity</th>\n",
              "      <th>Company Name_encoded</th>\n",
              "      <th>Model Name_encoded</th>\n",
              "      <th>Location_encoded</th>\n",
              "      <th>Engine Type_encoded</th>\n",
              "      <th>Color_encoded</th>\n",
              "      <th>Assembly_encoded</th>\n",
              "      <th>Body Type_encoded</th>\n",
              "      <th>Transmission Type_encoded</th>\n",
              "      <th>Registration Status_encoded</th>\n",
              "    </tr>\n",
              "  </thead>\n",
              "  <tbody>\n",
              "    <tr>\n",
              "      <th>42930</th>\n",
              "      <td>2006</td>\n",
              "      <td>88000</td>\n",
              "      <td>1000</td>\n",
              "      <td>28</td>\n",
              "      <td>181</td>\n",
              "      <td>4</td>\n",
              "      <td>2</td>\n",
              "      <td>18</td>\n",
              "      <td>0</td>\n",
              "      <td>1</td>\n",
              "      <td>0</td>\n",
              "      <td>0</td>\n",
              "    </tr>\n",
              "    <tr>\n",
              "      <th>15945</th>\n",
              "      <td>2015</td>\n",
              "      <td>59492</td>\n",
              "      <td>1000</td>\n",
              "      <td>27</td>\n",
              "      <td>183</td>\n",
              "      <td>4</td>\n",
              "      <td>2</td>\n",
              "      <td>21</td>\n",
              "      <td>1</td>\n",
              "      <td>1</td>\n",
              "      <td>1</td>\n",
              "      <td>0</td>\n",
              "    </tr>\n",
              "    <tr>\n",
              "      <th>5683</th>\n",
              "      <td>2018</td>\n",
              "      <td>35000</td>\n",
              "      <td>1800</td>\n",
              "      <td>10</td>\n",
              "      <td>49</td>\n",
              "      <td>2</td>\n",
              "      <td>2</td>\n",
              "      <td>21</td>\n",
              "      <td>1</td>\n",
              "      <td>4</td>\n",
              "      <td>0</td>\n",
              "      <td>0</td>\n",
              "    </tr>\n",
              "    <tr>\n",
              "      <th>38989</th>\n",
              "      <td>2016</td>\n",
              "      <td>48000</td>\n",
              "      <td>660</td>\n",
              "      <td>27</td>\n",
              "      <td>14</td>\n",
              "      <td>2</td>\n",
              "      <td>2</td>\n",
              "      <td>1</td>\n",
              "      <td>1</td>\n",
              "      <td>1</td>\n",
              "      <td>0</td>\n",
              "      <td>1</td>\n",
              "    </tr>\n",
              "    <tr>\n",
              "      <th>39436</th>\n",
              "      <td>2003</td>\n",
              "      <td>122000</td>\n",
              "      <td>1000</td>\n",
              "      <td>12</td>\n",
              "      <td>151</td>\n",
              "      <td>4</td>\n",
              "      <td>2</td>\n",
              "      <td>9</td>\n",
              "      <td>1</td>\n",
              "      <td>1</td>\n",
              "      <td>1</td>\n",
              "      <td>0</td>\n",
              "    </tr>\n",
              "  </tbody>\n",
              "</table>\n",
              "</div>\n",
              "    <div class=\"colab-df-buttons\">\n",
              "\n",
              "  <div class=\"colab-df-container\">\n",
              "    <button class=\"colab-df-convert\" onclick=\"convertToInteractive('df-522cf5c4-3519-4ffb-b3e4-fed94c609f5f')\"\n",
              "            title=\"Convert this dataframe to an interactive table.\"\n",
              "            style=\"display:none;\">\n",
              "\n",
              "  <svg xmlns=\"http://www.w3.org/2000/svg\" height=\"24px\" viewBox=\"0 -960 960 960\">\n",
              "    <path d=\"M120-120v-720h720v720H120Zm60-500h600v-160H180v160Zm220 220h160v-160H400v160Zm0 220h160v-160H400v160ZM180-400h160v-160H180v160Zm440 0h160v-160H620v160ZM180-180h160v-160H180v160Zm440 0h160v-160H620v160Z\"/>\n",
              "  </svg>\n",
              "    </button>\n",
              "\n",
              "  <style>\n",
              "    .colab-df-container {\n",
              "      display:flex;\n",
              "      gap: 12px;\n",
              "    }\n",
              "\n",
              "    .colab-df-convert {\n",
              "      background-color: #E8F0FE;\n",
              "      border: none;\n",
              "      border-radius: 50%;\n",
              "      cursor: pointer;\n",
              "      display: none;\n",
              "      fill: #1967D2;\n",
              "      height: 32px;\n",
              "      padding: 0 0 0 0;\n",
              "      width: 32px;\n",
              "    }\n",
              "\n",
              "    .colab-df-convert:hover {\n",
              "      background-color: #E2EBFA;\n",
              "      box-shadow: 0px 1px 2px rgba(60, 64, 67, 0.3), 0px 1px 3px 1px rgba(60, 64, 67, 0.15);\n",
              "      fill: #174EA6;\n",
              "    }\n",
              "\n",
              "    .colab-df-buttons div {\n",
              "      margin-bottom: 4px;\n",
              "    }\n",
              "\n",
              "    [theme=dark] .colab-df-convert {\n",
              "      background-color: #3B4455;\n",
              "      fill: #D2E3FC;\n",
              "    }\n",
              "\n",
              "    [theme=dark] .colab-df-convert:hover {\n",
              "      background-color: #434B5C;\n",
              "      box-shadow: 0px 1px 3px 1px rgba(0, 0, 0, 0.15);\n",
              "      filter: drop-shadow(0px 1px 2px rgba(0, 0, 0, 0.3));\n",
              "      fill: #FFFFFF;\n",
              "    }\n",
              "  </style>\n",
              "\n",
              "    <script>\n",
              "      const buttonEl =\n",
              "        document.querySelector('#df-522cf5c4-3519-4ffb-b3e4-fed94c609f5f button.colab-df-convert');\n",
              "      buttonEl.style.display =\n",
              "        google.colab.kernel.accessAllowed ? 'block' : 'none';\n",
              "\n",
              "      async function convertToInteractive(key) {\n",
              "        const element = document.querySelector('#df-522cf5c4-3519-4ffb-b3e4-fed94c609f5f');\n",
              "        const dataTable =\n",
              "          await google.colab.kernel.invokeFunction('convertToInteractive',\n",
              "                                                    [key], {});\n",
              "        if (!dataTable) return;\n",
              "\n",
              "        const docLinkHtml = 'Like what you see? Visit the ' +\n",
              "          '<a target=\"_blank\" href=https://colab.research.google.com/notebooks/data_table.ipynb>data table notebook</a>'\n",
              "          + ' to learn more about interactive tables.';\n",
              "        element.innerHTML = '';\n",
              "        dataTable['output_type'] = 'display_data';\n",
              "        await google.colab.output.renderOutput(dataTable, element);\n",
              "        const docLink = document.createElement('div');\n",
              "        docLink.innerHTML = docLinkHtml;\n",
              "        element.appendChild(docLink);\n",
              "      }\n",
              "    </script>\n",
              "  </div>\n",
              "\n",
              "\n",
              "<div id=\"df-8ecd3ba1-a19d-484c-9f66-6af87e7b42af\">\n",
              "  <button class=\"colab-df-quickchart\" onclick=\"quickchart('df-8ecd3ba1-a19d-484c-9f66-6af87e7b42af')\"\n",
              "            title=\"Suggest charts\"\n",
              "            style=\"display:none;\">\n",
              "\n",
              "<svg xmlns=\"http://www.w3.org/2000/svg\" height=\"24px\"viewBox=\"0 0 24 24\"\n",
              "     width=\"24px\">\n",
              "    <g>\n",
              "        <path d=\"M19 3H5c-1.1 0-2 .9-2 2v14c0 1.1.9 2 2 2h14c1.1 0 2-.9 2-2V5c0-1.1-.9-2-2-2zM9 17H7v-7h2v7zm4 0h-2V7h2v10zm4 0h-2v-4h2v4z\"/>\n",
              "    </g>\n",
              "</svg>\n",
              "  </button>\n",
              "\n",
              "<style>\n",
              "  .colab-df-quickchart {\n",
              "      --bg-color: #E8F0FE;\n",
              "      --fill-color: #1967D2;\n",
              "      --hover-bg-color: #E2EBFA;\n",
              "      --hover-fill-color: #174EA6;\n",
              "      --disabled-fill-color: #AAA;\n",
              "      --disabled-bg-color: #DDD;\n",
              "  }\n",
              "\n",
              "  [theme=dark] .colab-df-quickchart {\n",
              "      --bg-color: #3B4455;\n",
              "      --fill-color: #D2E3FC;\n",
              "      --hover-bg-color: #434B5C;\n",
              "      --hover-fill-color: #FFFFFF;\n",
              "      --disabled-bg-color: #3B4455;\n",
              "      --disabled-fill-color: #666;\n",
              "  }\n",
              "\n",
              "  .colab-df-quickchart {\n",
              "    background-color: var(--bg-color);\n",
              "    border: none;\n",
              "    border-radius: 50%;\n",
              "    cursor: pointer;\n",
              "    display: none;\n",
              "    fill: var(--fill-color);\n",
              "    height: 32px;\n",
              "    padding: 0;\n",
              "    width: 32px;\n",
              "  }\n",
              "\n",
              "  .colab-df-quickchart:hover {\n",
              "    background-color: var(--hover-bg-color);\n",
              "    box-shadow: 0 1px 2px rgba(60, 64, 67, 0.3), 0 1px 3px 1px rgba(60, 64, 67, 0.15);\n",
              "    fill: var(--button-hover-fill-color);\n",
              "  }\n",
              "\n",
              "  .colab-df-quickchart-complete:disabled,\n",
              "  .colab-df-quickchart-complete:disabled:hover {\n",
              "    background-color: var(--disabled-bg-color);\n",
              "    fill: var(--disabled-fill-color);\n",
              "    box-shadow: none;\n",
              "  }\n",
              "\n",
              "  .colab-df-spinner {\n",
              "    border: 2px solid var(--fill-color);\n",
              "    border-color: transparent;\n",
              "    border-bottom-color: var(--fill-color);\n",
              "    animation:\n",
              "      spin 1s steps(1) infinite;\n",
              "  }\n",
              "\n",
              "  @keyframes spin {\n",
              "    0% {\n",
              "      border-color: transparent;\n",
              "      border-bottom-color: var(--fill-color);\n",
              "      border-left-color: var(--fill-color);\n",
              "    }\n",
              "    20% {\n",
              "      border-color: transparent;\n",
              "      border-left-color: var(--fill-color);\n",
              "      border-top-color: var(--fill-color);\n",
              "    }\n",
              "    30% {\n",
              "      border-color: transparent;\n",
              "      border-left-color: var(--fill-color);\n",
              "      border-top-color: var(--fill-color);\n",
              "      border-right-color: var(--fill-color);\n",
              "    }\n",
              "    40% {\n",
              "      border-color: transparent;\n",
              "      border-right-color: var(--fill-color);\n",
              "      border-top-color: var(--fill-color);\n",
              "    }\n",
              "    60% {\n",
              "      border-color: transparent;\n",
              "      border-right-color: var(--fill-color);\n",
              "    }\n",
              "    80% {\n",
              "      border-color: transparent;\n",
              "      border-right-color: var(--fill-color);\n",
              "      border-bottom-color: var(--fill-color);\n",
              "    }\n",
              "    90% {\n",
              "      border-color: transparent;\n",
              "      border-bottom-color: var(--fill-color);\n",
              "    }\n",
              "  }\n",
              "</style>\n",
              "\n",
              "  <script>\n",
              "    async function quickchart(key) {\n",
              "      const quickchartButtonEl =\n",
              "        document.querySelector('#' + key + ' button');\n",
              "      quickchartButtonEl.disabled = true;  // To prevent multiple clicks.\n",
              "      quickchartButtonEl.classList.add('colab-df-spinner');\n",
              "      try {\n",
              "        const charts = await google.colab.kernel.invokeFunction(\n",
              "            'suggestCharts', [key], {});\n",
              "      } catch (error) {\n",
              "        console.error('Error during call to suggestCharts:', error);\n",
              "      }\n",
              "      quickchartButtonEl.classList.remove('colab-df-spinner');\n",
              "      quickchartButtonEl.classList.add('colab-df-quickchart-complete');\n",
              "    }\n",
              "    (() => {\n",
              "      let quickchartButtonEl =\n",
              "        document.querySelector('#df-8ecd3ba1-a19d-484c-9f66-6af87e7b42af button');\n",
              "      quickchartButtonEl.style.display =\n",
              "        google.colab.kernel.accessAllowed ? 'block' : 'none';\n",
              "    })();\n",
              "  </script>\n",
              "</div>\n",
              "\n",
              "    </div>\n",
              "  </div>\n"
            ],
            "application/vnd.google.colaboratory.intrinsic+json": {
              "type": "dataframe",
              "variable_name": "Xtrain",
              "summary": "{\n  \"name\": \"Xtrain\",\n  \"rows\": 36817,\n  \"fields\": [\n    {\n      \"column\": \"Model Year\",\n      \"properties\": {\n        \"dtype\": \"number\",\n        \"std\": 6,\n        \"min\": 1990,\n        \"max\": 2019,\n        \"num_unique_values\": 30,\n        \"samples\": [\n          1999,\n          2019,\n          2002\n        ],\n        \"semantic_type\": \"\",\n        \"description\": \"\"\n      }\n    },\n    {\n      \"column\": \"Mileage\",\n      \"properties\": {\n        \"dtype\": \"number\",\n        \"std\": 63616,\n        \"min\": 1,\n        \"max\": 999999,\n        \"num_unique_values\": 4717,\n        \"samples\": [\n          171000,\n          80500,\n          18340\n        ],\n        \"semantic_type\": \"\",\n        \"description\": \"\"\n      }\n    },\n    {\n      \"column\": \"Engine Capacity\",\n      \"properties\": {\n        \"dtype\": \"number\",\n        \"std\": 615,\n        \"min\": 16,\n        \"max\": 6200,\n        \"num_unique_values\": 70,\n        \"samples\": [\n          4608,\n          1000,\n          5461\n        ],\n        \"semantic_type\": \"\",\n        \"description\": \"\"\n      }\n    },\n    {\n      \"column\": \"Company Name_encoded\",\n      \"properties\": {\n        \"dtype\": \"number\",\n        \"std\": 8,\n        \"min\": 0,\n        \"max\": 30,\n        \"num_unique_values\": 31,\n        \"samples\": [\n          9,\n          4,\n          14\n        ],\n        \"semantic_type\": \"\",\n        \"description\": \"\"\n      }\n    },\n    {\n      \"column\": \"Model Name_encoded\",\n      \"properties\": {\n        \"dtype\": \"number\",\n        \"std\": 50,\n        \"min\": 0,\n        \"max\": 195,\n        \"num_unique_values\": 192,\n        \"samples\": [\n          133,\n          16,\n          152\n        ],\n        \"semantic_type\": \"\",\n        \"description\": \"\"\n      }\n    },\n    {\n      \"column\": \"Location_encoded\",\n      \"properties\": {\n        \"dtype\": \"number\",\n        \"std\": 1,\n        \"min\": 0,\n        \"max\": 5,\n        \"num_unique_values\": 6,\n        \"samples\": [\n          4,\n          2,\n          0\n        ],\n        \"semantic_type\": \"\",\n        \"description\": \"\"\n      }\n    },\n    {\n      \"column\": \"Engine Type_encoded\",\n      \"properties\": {\n        \"dtype\": \"number\",\n        \"std\": 0,\n        \"min\": 0,\n        \"max\": 2,\n        \"num_unique_values\": 3,\n        \"samples\": [\n          2,\n          0,\n          1\n        ],\n        \"semantic_type\": \"\",\n        \"description\": \"\"\n      }\n    },\n    {\n      \"column\": \"Color_encoded\",\n      \"properties\": {\n        \"dtype\": \"number\",\n        \"std\": 7,\n        \"min\": 0,\n        \"max\": 23,\n        \"num_unique_values\": 24,\n        \"samples\": [\n          17,\n          19,\n          18\n        ],\n        \"semantic_type\": \"\",\n        \"description\": \"\"\n      }\n    },\n    {\n      \"column\": \"Assembly_encoded\",\n      \"properties\": {\n        \"dtype\": \"number\",\n        \"std\": 0,\n        \"min\": 0,\n        \"max\": 1,\n        \"num_unique_values\": 2,\n        \"samples\": [\n          1,\n          0\n        ],\n        \"semantic_type\": \"\",\n        \"description\": \"\"\n      }\n    },\n    {\n      \"column\": \"Body Type_encoded\",\n      \"properties\": {\n        \"dtype\": \"number\",\n        \"std\": 1,\n        \"min\": 0,\n        \"max\": 5,\n        \"num_unique_values\": 6,\n        \"samples\": [\n          1,\n          4\n        ],\n        \"semantic_type\": \"\",\n        \"description\": \"\"\n      }\n    },\n    {\n      \"column\": \"Transmission Type_encoded\",\n      \"properties\": {\n        \"dtype\": \"number\",\n        \"std\": 0,\n        \"min\": 0,\n        \"max\": 1,\n        \"num_unique_values\": 2,\n        \"samples\": [\n          1,\n          0\n        ],\n        \"semantic_type\": \"\",\n        \"description\": \"\"\n      }\n    },\n    {\n      \"column\": \"Registration Status_encoded\",\n      \"properties\": {\n        \"dtype\": \"number\",\n        \"std\": 0,\n        \"min\": 0,\n        \"max\": 1,\n        \"num_unique_values\": 2,\n        \"samples\": [\n          1,\n          0\n        ],\n        \"semantic_type\": \"\",\n        \"description\": \"\"\n      }\n    }\n  ]\n}"
            }
          },
          "metadata": {},
          "execution_count": 35
        }
      ]
    },
    {
      "cell_type": "code",
      "source": [
        "Xtest.shape"
      ],
      "metadata": {
        "execution": {
          "iopub.status.busy": "2024-04-23T05:00:37.618579Z",
          "iopub.execute_input": "2024-04-23T05:00:37.618909Z",
          "iopub.status.idle": "2024-04-23T05:00:37.628704Z",
          "shell.execute_reply.started": "2024-04-23T05:00:37.618882Z",
          "shell.execute_reply": "2024-04-23T05:00:37.627562Z"
        },
        "trusted": true,
        "id": "oX3B11U_fEv4",
        "colab": {
          "base_uri": "https://localhost:8080/"
        },
        "outputId": "3a217c2b-3537-458b-9772-66178a61e81e"
      },
      "execution_count": null,
      "outputs": [
        {
          "output_type": "execute_result",
          "data": {
            "text/plain": [
              "(9205, 12)"
            ]
          },
          "metadata": {},
          "execution_count": 36
        }
      ]
    },
    {
      "cell_type": "markdown",
      "source": [
        "\n",
        "\n",
        "*    Decision Tree\n",
        "\n"
      ],
      "metadata": {
        "id": "R7F7WQqvfEv4"
      }
    },
    {
      "cell_type": "code",
      "source": [
        "from sklearn.tree import DecisionTreeRegressor\n",
        "DT = DecisionTreeRegressor()\n",
        "DT = DT.fit(Xtrain, Ytrain)\n",
        "y_DT = DT.predict(Xtest)"
      ],
      "metadata": {
        "execution": {
          "iopub.status.busy": "2024-04-23T05:00:37.630466Z",
          "iopub.execute_input": "2024-04-23T05:00:37.631051Z",
          "iopub.status.idle": "2024-04-23T05:00:38.146103Z",
          "shell.execute_reply.started": "2024-04-23T05:00:37.631007Z",
          "shell.execute_reply": "2024-04-23T05:00:38.144764Z"
        },
        "trusted": true,
        "id": "VTRa2QzGfEv4"
      },
      "execution_count": null,
      "outputs": []
    },
    {
      "cell_type": "code",
      "source": [
        "from sklearn.metrics import r2_score\n",
        "r2_DT = r2_score(Ytest, y_DT)\n",
        "r2_DT"
      ],
      "metadata": {
        "execution": {
          "iopub.status.busy": "2024-04-23T05:00:38.147632Z",
          "iopub.execute_input": "2024-04-23T05:00:38.147962Z",
          "iopub.status.idle": "2024-04-23T05:00:38.158244Z",
          "shell.execute_reply.started": "2024-04-23T05:00:38.147934Z",
          "shell.execute_reply": "2024-04-23T05:00:38.156758Z"
        },
        "trusted": true,
        "id": "zYZz3mS8fEv4",
        "colab": {
          "base_uri": "https://localhost:8080/"
        },
        "outputId": "7fcdd0b4-7a82-4cff-d2a7-8ff5e8e4d8e9"
      },
      "execution_count": null,
      "outputs": [
        {
          "output_type": "execute_result",
          "data": {
            "text/plain": [
              "0.9347363573931067"
            ]
          },
          "metadata": {},
          "execution_count": 38
        }
      ]
    },
    {
      "cell_type": "code",
      "source": [
        "from sklearn.metrics import mean_squared_error\n",
        "mse_DT = mean_squared_error(Ytest, y_DT)\n",
        "mse_DT"
      ],
      "metadata": {
        "execution": {
          "iopub.status.busy": "2024-04-23T05:00:38.160393Z",
          "iopub.execute_input": "2024-04-23T05:00:38.160942Z",
          "iopub.status.idle": "2024-04-23T05:00:38.176613Z",
          "shell.execute_reply.started": "2024-04-23T05:00:38.160900Z",
          "shell.execute_reply": "2024-04-23T05:00:38.175476Z"
        },
        "trusted": true,
        "id": "-yZnAqM1fEv5",
        "colab": {
          "base_uri": "https://localhost:8080/"
        },
        "outputId": "23b7174b-2e79-43c5-cb8e-54bf42863778"
      },
      "execution_count": null,
      "outputs": [
        {
          "output_type": "execute_result",
          "data": {
            "text/plain": [
              "481769475324.2966"
            ]
          },
          "metadata": {},
          "execution_count": 39
        }
      ]
    },
    {
      "cell_type": "code",
      "source": [
        "from sklearn.metrics import mean_absolute_error\n",
        "mae_DT = mean_absolute_error(Ytest, y_DT)\n",
        "mae_DT"
      ],
      "metadata": {
        "execution": {
          "iopub.status.busy": "2024-04-23T05:00:38.178096Z",
          "iopub.execute_input": "2024-04-23T05:00:38.178527Z",
          "iopub.status.idle": "2024-04-23T05:00:38.193283Z",
          "shell.execute_reply.started": "2024-04-23T05:00:38.178492Z",
          "shell.execute_reply": "2024-04-23T05:00:38.192243Z"
        },
        "trusted": true,
        "id": "bs4dafxwfEv5",
        "colab": {
          "base_uri": "https://localhost:8080/"
        },
        "outputId": "7991f88c-608f-44d9-ad5d-f3bfca9cc58e"
      },
      "execution_count": null,
      "outputs": [
        {
          "output_type": "execute_result",
          "data": {
            "text/plain": [
              "207716.11863180576"
            ]
          },
          "metadata": {},
          "execution_count": 40
        }
      ]
    },
    {
      "cell_type": "markdown",
      "source": [
        "\n",
        "\n",
        "*   Random Forest\n",
        "\n"
      ],
      "metadata": {
        "id": "n1FhiEiifEv5"
      }
    },
    {
      "cell_type": "code",
      "source": [],
      "metadata": {
        "id": "TQnJYW3hz7PN"
      },
      "execution_count": null,
      "outputs": []
    },
    {
      "cell_type": "code",
      "source": [
        "from sklearn.ensemble import RandomForestRegressor\n",
        "RF = RandomForestRegressor()\n",
        "RF = RF.fit(Xtrain, Ytrain)\n",
        "y_RF = RF.predict(Xtest)"
      ],
      "metadata": {
        "execution": {
          "iopub.status.busy": "2024-04-23T05:00:38.194872Z",
          "iopub.execute_input": "2024-04-23T05:00:38.195246Z",
          "iopub.status.idle": "2024-04-23T05:00:51.206271Z",
          "shell.execute_reply.started": "2024-04-23T05:00:38.195215Z",
          "shell.execute_reply": "2024-04-23T05:00:51.204838Z"
        },
        "trusted": true,
        "id": "OFuht_XsfEv5"
      },
      "execution_count": null,
      "outputs": []
    },
    {
      "cell_type": "code",
      "source": [
        "# RF.predict(Xtest.iloc[0:])\n",
        "Xtrain.columns"
      ],
      "metadata": {
        "colab": {
          "base_uri": "https://localhost:8080/"
        },
        "id": "AIihRxzJyvHF",
        "outputId": "7041923a-e30a-4017-aa6c-2786623fe518"
      },
      "execution_count": null,
      "outputs": [
        {
          "output_type": "execute_result",
          "data": {
            "text/plain": [
              "Index(['Model Year', 'Mileage', 'Engine Capacity', 'Company Name_encoded',\n",
              "       'Model Name_encoded', 'Location_encoded', 'Engine Type_encoded',\n",
              "       'Color_encoded', 'Assembly_encoded', 'Body Type_encoded',\n",
              "       'Transmission Type_encoded', 'Registration Status_encoded'],\n",
              "      dtype='object')"
            ]
          },
          "metadata": {},
          "execution_count": 42
        }
      ]
    },
    {
      "cell_type": "code",
      "source": [
        "import pickle\n",
        "with open('model.pkl','wb') as f:\n",
        "    pickle.dump(RF,f)"
      ],
      "metadata": {
        "id": "PJdpRszrzsSi"
      },
      "execution_count": null,
      "outputs": []
    },
    {
      "cell_type": "code",
      "source": [
        "with open('model.pkl','rb') as f:\n",
        "  RF=pickle.load(f)"
      ],
      "metadata": {
        "id": "a6_rUc7q_5bs"
      },
      "execution_count": null,
      "outputs": []
    },
    {
      "cell_type": "code",
      "source": [
        "RF.predict(Xtest)"
      ],
      "metadata": {
        "colab": {
          "base_uri": "https://localhost:8080/"
        },
        "id": "OtDaXkhtADk7",
        "outputId": "1ce65dda-6b16-442a-ed1a-95b53f9d5eaf"
      },
      "execution_count": null,
      "outputs": [
        {
          "output_type": "execute_result",
          "data": {
            "text/plain": [
              "array([2252550.        , 2627500.        , 2994100.        , ...,\n",
              "        277355.45238095,  743100.        , 3066295.        ])"
            ]
          },
          "metadata": {},
          "execution_count": 45
        }
      ]
    },
    {
      "cell_type": "code",
      "source": [
        "r2_RF = r2_score(Ytest, y_RF)\n",
        "r2_RF"
      ],
      "metadata": {
        "execution": {
          "iopub.status.busy": "2024-04-23T05:00:51.207943Z",
          "iopub.execute_input": "2024-04-23T05:00:51.208281Z",
          "iopub.status.idle": "2024-04-23T05:00:51.218542Z",
          "shell.execute_reply.started": "2024-04-23T05:00:51.208251Z",
          "shell.execute_reply": "2024-04-23T05:00:51.217183Z"
        },
        "trusted": true,
        "id": "ZFrACx6yfEv6",
        "colab": {
          "base_uri": "https://localhost:8080/"
        },
        "outputId": "2d59fb8a-f696-4df7-9b2e-59ff34bf3ec0"
      },
      "execution_count": null,
      "outputs": [
        {
          "output_type": "execute_result",
          "data": {
            "text/plain": [
              "0.9551899993432722"
            ]
          },
          "metadata": {},
          "execution_count": 46
        }
      ]
    },
    {
      "cell_type": "code",
      "source": [
        "mse_RF = mean_squared_error(Ytest, y_RF)\n",
        "mse_RF"
      ],
      "metadata": {
        "execution": {
          "iopub.status.busy": "2024-04-23T05:00:51.220897Z",
          "iopub.execute_input": "2024-04-23T05:00:51.221426Z",
          "iopub.status.idle": "2024-04-23T05:00:51.245243Z",
          "shell.execute_reply.started": "2024-04-23T05:00:51.221382Z",
          "shell.execute_reply": "2024-04-23T05:00:51.243451Z"
        },
        "trusted": true,
        "id": "EVTUonPbfEv6",
        "colab": {
          "base_uri": "https://localhost:8080/"
        },
        "outputId": "9c0d7246-20ec-4961-fb4d-285e3a232d3d"
      },
      "execution_count": null,
      "outputs": [
        {
          "output_type": "execute_result",
          "data": {
            "text/plain": [
              "330782801010.7567"
            ]
          },
          "metadata": {},
          "execution_count": 47
        }
      ]
    },
    {
      "cell_type": "code",
      "source": [
        "mae_RF = mean_absolute_error(Ytest, y_RF)\n",
        "mae_RF"
      ],
      "metadata": {
        "execution": {
          "iopub.status.busy": "2024-04-23T05:00:51.248853Z",
          "iopub.execute_input": "2024-04-23T05:00:51.249743Z",
          "iopub.status.idle": "2024-04-23T05:00:51.259915Z",
          "shell.execute_reply.started": "2024-04-23T05:00:51.249707Z",
          "shell.execute_reply": "2024-04-23T05:00:51.258322Z"
        },
        "trusted": true,
        "id": "-1UTDW1efEv6",
        "colab": {
          "base_uri": "https://localhost:8080/"
        },
        "outputId": "7e19613a-b278-4b77-f4ee-acf03ed692d1"
      },
      "execution_count": null,
      "outputs": [
        {
          "output_type": "execute_result",
          "data": {
            "text/plain": [
              "169393.9173137996"
            ]
          },
          "metadata": {},
          "execution_count": 48
        }
      ]
    },
    {
      "cell_type": "markdown",
      "source": [
        "*  Multiple Linear Regression\n",
        "\n"
      ],
      "metadata": {
        "id": "9KWGZ0djfEv6"
      }
    },
    {
      "cell_type": "code",
      "source": [
        "from sklearn.linear_model import LinearRegression\n",
        "MLR = LinearRegression()\n",
        "MLR = MLR.fit(Xtrain, Ytrain)\n",
        "y_MLR = MLR.predict(Xtest)"
      ],
      "metadata": {
        "execution": {
          "iopub.status.busy": "2024-04-23T05:00:51.261381Z",
          "iopub.execute_input": "2024-04-23T05:00:51.262189Z",
          "iopub.status.idle": "2024-04-23T05:00:51.332704Z",
          "shell.execute_reply.started": "2024-04-23T05:00:51.262137Z",
          "shell.execute_reply": "2024-04-23T05:00:51.331093Z"
        },
        "trusted": true,
        "id": "Iu9GbwK2fEv7"
      },
      "execution_count": null,
      "outputs": []
    },
    {
      "cell_type": "code",
      "source": [
        "r2_MLR = r2_score(Ytest, y_MLR)\n",
        "r2_MLR"
      ],
      "metadata": {
        "execution": {
          "iopub.status.busy": "2024-04-23T05:00:51.362600Z",
          "iopub.execute_input": "2024-04-23T05:00:51.365002Z",
          "iopub.status.idle": "2024-04-23T05:00:51.387664Z",
          "shell.execute_reply.started": "2024-04-23T05:00:51.364930Z",
          "shell.execute_reply": "2024-04-23T05:00:51.385790Z"
        },
        "trusted": true,
        "id": "o2sbhWDzfEv7",
        "colab": {
          "base_uri": "https://localhost:8080/"
        },
        "outputId": "71d7e11b-fe66-4dae-bbdb-da9e0d070976"
      },
      "execution_count": null,
      "outputs": [
        {
          "output_type": "execute_result",
          "data": {
            "text/plain": [
              "0.6018346934783718"
            ]
          },
          "metadata": {},
          "execution_count": 50
        }
      ]
    },
    {
      "cell_type": "code",
      "source": [
        "mse_MLR = mean_squared_error(Ytest, y_MLR)\n",
        "mse_MLR"
      ],
      "metadata": {
        "execution": {
          "iopub.status.busy": "2024-04-23T05:00:51.390099Z",
          "iopub.execute_input": "2024-04-23T05:00:51.392955Z",
          "iopub.status.idle": "2024-04-23T05:00:51.415344Z",
          "shell.execute_reply.started": "2024-04-23T05:00:51.392866Z",
          "shell.execute_reply": "2024-04-23T05:00:51.413475Z"
        },
        "trusted": true,
        "id": "PAJtLi22fEv7",
        "colab": {
          "base_uri": "https://localhost:8080/"
        },
        "outputId": "78a64a2f-fc77-4481-94bc-9a69d1c67669"
      },
      "execution_count": null,
      "outputs": [
        {
          "output_type": "execute_result",
          "data": {
            "text/plain": [
              "2939215207013.3066"
            ]
          },
          "metadata": {},
          "execution_count": 51
        }
      ]
    },
    {
      "cell_type": "code",
      "source": [
        "mae_MLR = mean_absolute_error(Ytest, y_MLR)\n",
        "mae_MLR"
      ],
      "metadata": {
        "execution": {
          "iopub.status.busy": "2024-04-23T05:00:51.417897Z",
          "iopub.execute_input": "2024-04-23T05:00:51.419790Z",
          "iopub.status.idle": "2024-04-23T05:00:51.432929Z",
          "shell.execute_reply.started": "2024-04-23T05:00:51.419727Z",
          "shell.execute_reply": "2024-04-23T05:00:51.430824Z"
        },
        "trusted": true,
        "id": "frHbmiZifEv7",
        "colab": {
          "base_uri": "https://localhost:8080/"
        },
        "outputId": "fb2286dd-9a03-42c2-a8f2-377bf28ca31e"
      },
      "execution_count": null,
      "outputs": [
        {
          "output_type": "execute_result",
          "data": {
            "text/plain": [
              "853967.1003535123"
            ]
          },
          "metadata": {},
          "execution_count": 52
        }
      ]
    },
    {
      "cell_type": "markdown",
      "source": [
        "\n",
        "\n",
        "*   Support Vector Regressor\n",
        "\n"
      ],
      "metadata": {
        "id": "HRBxtwAmfEv8"
      }
    },
    {
      "cell_type": "code",
      "source": [
        "from sklearn.svm import SVR\n",
        "SVR = SVR()\n",
        "SVR = SVR.fit(Xtrain, Ytrain)\n",
        "y_SVR = SVR.predict(Xtest)"
      ],
      "metadata": {
        "execution": {
          "iopub.status.busy": "2024-04-23T05:00:51.435977Z",
          "iopub.execute_input": "2024-04-23T05:00:51.436416Z",
          "iopub.status.idle": "2024-04-23T05:02:50.710093Z",
          "shell.execute_reply.started": "2024-04-23T05:00:51.436375Z",
          "shell.execute_reply": "2024-04-23T05:02:50.708409Z"
        },
        "trusted": true,
        "id": "kH750dPXfEv8"
      },
      "execution_count": null,
      "outputs": []
    },
    {
      "cell_type": "code",
      "source": [
        "r2_SVR = r2_score(Ytest, y_SVR)\n",
        "r2_SVR"
      ],
      "metadata": {
        "execution": {
          "iopub.status.busy": "2024-04-23T05:02:50.711964Z",
          "iopub.execute_input": "2024-04-23T05:02:50.712389Z",
          "iopub.status.idle": "2024-04-23T05:02:50.721884Z",
          "shell.execute_reply.started": "2024-04-23T05:02:50.712338Z",
          "shell.execute_reply": "2024-04-23T05:02:50.720427Z"
        },
        "trusted": true,
        "id": "eQpfdZ54fEv8",
        "colab": {
          "base_uri": "https://localhost:8080/"
        },
        "outputId": "232840f1-c118-42bb-910b-905e43d6cc5d"
      },
      "execution_count": null,
      "outputs": [
        {
          "output_type": "execute_result",
          "data": {
            "text/plain": [
              "-0.039676247416953414"
            ]
          },
          "metadata": {},
          "execution_count": 54
        }
      ]
    },
    {
      "cell_type": "code",
      "source": [
        "mse_SVR = mean_squared_error(Ytest, y_SVR)\n",
        "mse_SVR"
      ],
      "metadata": {
        "execution": {
          "iopub.status.busy": "2024-04-23T05:02:50.723643Z",
          "iopub.execute_input": "2024-04-23T05:02:50.724036Z",
          "iopub.status.idle": "2024-04-23T05:02:50.738807Z",
          "shell.execute_reply.started": "2024-04-23T05:02:50.724003Z",
          "shell.execute_reply": "2024-04-23T05:02:50.737802Z"
        },
        "trusted": true,
        "id": "2x2OQdsofEv8",
        "colab": {
          "base_uri": "https://localhost:8080/"
        },
        "outputId": "6db23484-840b-4f55-897b-e497182c966f"
      },
      "execution_count": null,
      "outputs": [
        {
          "output_type": "execute_result",
          "data": {
            "text/plain": [
              "7674782776717.003"
            ]
          },
          "metadata": {},
          "execution_count": 55
        }
      ]
    },
    {
      "cell_type": "code",
      "source": [
        "mae_SVR = mean_absolute_error(Ytest, y_SVR)\n",
        "mae_SVR"
      ],
      "metadata": {
        "execution": {
          "iopub.status.busy": "2024-04-23T05:02:50.739991Z",
          "iopub.execute_input": "2024-04-23T05:02:50.741248Z",
          "iopub.status.idle": "2024-04-23T05:02:50.758318Z",
          "shell.execute_reply.started": "2024-04-23T05:02:50.741211Z",
          "shell.execute_reply": "2024-04-23T05:02:50.756915Z"
        },
        "trusted": true,
        "id": "3B9sBfQ-fEv9",
        "colab": {
          "base_uri": "https://localhost:8080/"
        },
        "outputId": "7f85b71a-e472-4ac0-89a0-fcdad22f8c72"
      },
      "execution_count": null,
      "outputs": [
        {
          "output_type": "execute_result",
          "data": {
            "text/plain": [
              "1123239.6681410659"
            ]
          },
          "metadata": {},
          "execution_count": 56
        }
      ]
    },
    {
      "cell_type": "markdown",
      "source": [
        "\n",
        "\n",
        "*  Extreme Gradient Boosting (XGBoost)\n",
        "\n"
      ],
      "metadata": {
        "id": "1ZJAFVhgfEv9"
      }
    },
    {
      "cell_type": "code",
      "source": [
        "import xgboost as xgb\n",
        "XGBoost = xgb.XGBRegressor()\n",
        "XGBoost = XGBoost.fit(Xtrain, Ytrain)\n",
        "y_XGBoost = XGBoost.predict(Xtest)"
      ],
      "metadata": {
        "execution": {
          "iopub.status.busy": "2024-04-23T05:02:50.760420Z",
          "iopub.execute_input": "2024-04-23T05:02:50.761399Z",
          "iopub.status.idle": "2024-04-23T05:02:53.085405Z",
          "shell.execute_reply.started": "2024-04-23T05:02:50.761301Z",
          "shell.execute_reply": "2024-04-23T05:02:53.084416Z"
        },
        "trusted": true,
        "id": "q0JLFuGOfEv9"
      },
      "execution_count": null,
      "outputs": []
    },
    {
      "cell_type": "code",
      "source": [
        "r2_XGBoost = r2_score(Ytest, y_XGBoost)\n",
        "r2_XGBoost"
      ],
      "metadata": {
        "execution": {
          "iopub.status.busy": "2024-04-23T05:02:53.086748Z",
          "iopub.execute_input": "2024-04-23T05:02:53.087840Z",
          "iopub.status.idle": "2024-04-23T05:02:53.097854Z",
          "shell.execute_reply.started": "2024-04-23T05:02:53.087800Z",
          "shell.execute_reply": "2024-04-23T05:02:53.096158Z"
        },
        "trusted": true,
        "id": "wdmmnqf3fEv9",
        "colab": {
          "base_uri": "https://localhost:8080/"
        },
        "outputId": "854df632-5b20-441a-9730-4eeb55849070"
      },
      "execution_count": null,
      "outputs": [
        {
          "output_type": "execute_result",
          "data": {
            "text/plain": [
              "0.9466242440545551"
            ]
          },
          "metadata": {},
          "execution_count": 58
        }
      ]
    },
    {
      "cell_type": "code",
      "source": [
        "mse_XGBoost = mean_squared_error(Ytest, y_XGBoost)\n",
        "mse_XGBoost"
      ],
      "metadata": {
        "execution": {
          "iopub.status.busy": "2024-04-23T05:02:53.099961Z",
          "iopub.execute_input": "2024-04-23T05:02:53.101130Z",
          "iopub.status.idle": "2024-04-23T05:02:53.116295Z",
          "shell.execute_reply.started": "2024-04-23T05:02:53.101063Z",
          "shell.execute_reply": "2024-04-23T05:02:53.114296Z"
        },
        "trusted": true,
        "id": "fCiawwRtfEv-",
        "colab": {
          "base_uri": "https://localhost:8080/"
        },
        "outputId": "9802d164-1081-4eb1-c5e0-65a85eca8d8d"
      },
      "execution_count": null,
      "outputs": [
        {
          "output_type": "execute_result",
          "data": {
            "text/plain": [
              "394014322672.1857"
            ]
          },
          "metadata": {},
          "execution_count": 59
        }
      ]
    },
    {
      "cell_type": "code",
      "source": [
        "mae_XGBoost = mean_absolute_error(Ytest, y_XGBoost)\n",
        "mae_XGBoost"
      ],
      "metadata": {
        "execution": {
          "iopub.status.busy": "2024-04-23T05:02:53.117803Z",
          "iopub.execute_input": "2024-04-23T05:02:53.118698Z",
          "iopub.status.idle": "2024-04-23T05:02:53.134176Z",
          "shell.execute_reply.started": "2024-04-23T05:02:53.118646Z",
          "shell.execute_reply": "2024-04-23T05:02:53.132728Z"
        },
        "trusted": true,
        "id": "ZduFPsW_fEv-",
        "colab": {
          "base_uri": "https://localhost:8080/"
        },
        "outputId": "aa41cca9-023a-42eb-e116-2d83f6f7b525"
      },
      "execution_count": null,
      "outputs": [
        {
          "output_type": "execute_result",
          "data": {
            "text/plain": [
              "175544.72222212792"
            ]
          },
          "metadata": {},
          "execution_count": 60
        }
      ]
    },
    {
      "cell_type": "markdown",
      "source": [
        "\n",
        "\n",
        "*  Least Absolute Shrinkage and Selection Operator (LASSO)\n",
        "\n"
      ],
      "metadata": {
        "id": "5sSpc20AfEv-"
      }
    },
    {
      "cell_type": "code",
      "source": [
        "from sklearn.linear_model import Lasso\n",
        "LASSO = Lasso()\n",
        "LASSO = LASSO.fit(Xtrain, Ytrain)\n",
        "y_LASSO = LASSO.predict(Xtest)"
      ],
      "metadata": {
        "execution": {
          "iopub.status.busy": "2024-04-23T05:02:53.135811Z",
          "iopub.execute_input": "2024-04-23T05:02:53.136220Z",
          "iopub.status.idle": "2024-04-23T05:02:53.199708Z",
          "shell.execute_reply.started": "2024-04-23T05:02:53.136188Z",
          "shell.execute_reply": "2024-04-23T05:02:53.196917Z"
        },
        "trusted": true,
        "id": "--deyLwkfEv_"
      },
      "execution_count": null,
      "outputs": []
    },
    {
      "cell_type": "code",
      "source": [
        "r2_LASSO = r2_score(Ytest, y_LASSO)\n",
        "r2_LASSO"
      ],
      "metadata": {
        "execution": {
          "iopub.status.busy": "2024-04-23T05:02:53.202145Z",
          "iopub.execute_input": "2024-04-23T05:02:53.202621Z",
          "iopub.status.idle": "2024-04-23T05:02:53.227656Z",
          "shell.execute_reply.started": "2024-04-23T05:02:53.202578Z",
          "shell.execute_reply": "2024-04-23T05:02:53.225426Z"
        },
        "trusted": true,
        "id": "f9TwVd7ufEv_",
        "colab": {
          "base_uri": "https://localhost:8080/"
        },
        "outputId": "410b4f45-dc0b-4414-c9ea-064c57f87648"
      },
      "execution_count": null,
      "outputs": [
        {
          "output_type": "execute_result",
          "data": {
            "text/plain": [
              "0.6018348372221778"
            ]
          },
          "metadata": {},
          "execution_count": 62
        }
      ]
    },
    {
      "cell_type": "code",
      "source": [
        "mse_LASSO = mean_squared_error(Ytest, y_LASSO)\n",
        "mse_LASSO"
      ],
      "metadata": {
        "execution": {
          "iopub.status.busy": "2024-04-23T05:02:53.230389Z",
          "iopub.execute_input": "2024-04-23T05:02:53.233215Z",
          "iopub.status.idle": "2024-04-23T05:02:53.258909Z",
          "shell.execute_reply.started": "2024-04-23T05:02:53.233158Z",
          "shell.execute_reply": "2024-04-23T05:02:53.255894Z"
        },
        "trusted": true,
        "id": "-tLEprrLfEwA",
        "colab": {
          "base_uri": "https://localhost:8080/"
        },
        "outputId": "18a940e8-beeb-4ef0-a6b6-a0d0747057fc"
      },
      "execution_count": null,
      "outputs": [
        {
          "output_type": "execute_result",
          "data": {
            "text/plain": [
              "2939214145911.3633"
            ]
          },
          "metadata": {},
          "execution_count": 63
        }
      ]
    },
    {
      "cell_type": "code",
      "source": [
        "mae_LASSO = mean_absolute_error(Ytest, y_LASSO)\n",
        "mae_LASSO"
      ],
      "metadata": {
        "execution": {
          "iopub.status.busy": "2024-04-23T05:02:53.261920Z",
          "iopub.execute_input": "2024-04-23T05:02:53.266934Z",
          "iopub.status.idle": "2024-04-23T05:02:53.292444Z",
          "shell.execute_reply.started": "2024-04-23T05:02:53.266849Z",
          "shell.execute_reply": "2024-04-23T05:02:53.290492Z"
        },
        "trusted": true,
        "id": "I9CmPjcPfEwA",
        "colab": {
          "base_uri": "https://localhost:8080/"
        },
        "outputId": "ef270029-bde4-44a9-ea50-1cab028895b4"
      },
      "execution_count": null,
      "outputs": [
        {
          "output_type": "execute_result",
          "data": {
            "text/plain": [
              "853966.0478693111"
            ]
          },
          "metadata": {},
          "execution_count": 64
        }
      ]
    },
    {
      "cell_type": "code",
      "source": [
        "dp=pd.DataFrame(\n",
        " data={'model':['linear_regression'],'best_score':[r2_MLR,]})\n"
      ],
      "metadata": {
        "id": "WJhAEx8rlsid"
      },
      "execution_count": null,
      "outputs": []
    },
    {
      "cell_type": "code",
      "source": [
        "dp"
      ],
      "metadata": {
        "colab": {
          "base_uri": "https://localhost:8080/",
          "height": 89
        },
        "id": "PQrgx9irmV4F",
        "outputId": "8a27185e-a53e-4ffc-9da2-a55beeb831f5"
      },
      "execution_count": null,
      "outputs": [
        {
          "output_type": "execute_result",
          "data": {
            "text/plain": [
              "               model  best_score\n",
              "0  linear_regression    0.601835"
            ],
            "text/html": [
              "\n",
              "  <div id=\"df-6702f23d-4706-4d27-99f7-0d8cf2556167\" class=\"colab-df-container\">\n",
              "    <div>\n",
              "<style scoped>\n",
              "    .dataframe tbody tr th:only-of-type {\n",
              "        vertical-align: middle;\n",
              "    }\n",
              "\n",
              "    .dataframe tbody tr th {\n",
              "        vertical-align: top;\n",
              "    }\n",
              "\n",
              "    .dataframe thead th {\n",
              "        text-align: right;\n",
              "    }\n",
              "</style>\n",
              "<table border=\"1\" class=\"dataframe\">\n",
              "  <thead>\n",
              "    <tr style=\"text-align: right;\">\n",
              "      <th></th>\n",
              "      <th>model</th>\n",
              "      <th>best_score</th>\n",
              "    </tr>\n",
              "  </thead>\n",
              "  <tbody>\n",
              "    <tr>\n",
              "      <th>0</th>\n",
              "      <td>linear_regression</td>\n",
              "      <td>0.601835</td>\n",
              "    </tr>\n",
              "  </tbody>\n",
              "</table>\n",
              "</div>\n",
              "    <div class=\"colab-df-buttons\">\n",
              "\n",
              "  <div class=\"colab-df-container\">\n",
              "    <button class=\"colab-df-convert\" onclick=\"convertToInteractive('df-6702f23d-4706-4d27-99f7-0d8cf2556167')\"\n",
              "            title=\"Convert this dataframe to an interactive table.\"\n",
              "            style=\"display:none;\">\n",
              "\n",
              "  <svg xmlns=\"http://www.w3.org/2000/svg\" height=\"24px\" viewBox=\"0 -960 960 960\">\n",
              "    <path d=\"M120-120v-720h720v720H120Zm60-500h600v-160H180v160Zm220 220h160v-160H400v160Zm0 220h160v-160H400v160ZM180-400h160v-160H180v160Zm440 0h160v-160H620v160ZM180-180h160v-160H180v160Zm440 0h160v-160H620v160Z\"/>\n",
              "  </svg>\n",
              "    </button>\n",
              "\n",
              "  <style>\n",
              "    .colab-df-container {\n",
              "      display:flex;\n",
              "      gap: 12px;\n",
              "    }\n",
              "\n",
              "    .colab-df-convert {\n",
              "      background-color: #E8F0FE;\n",
              "      border: none;\n",
              "      border-radius: 50%;\n",
              "      cursor: pointer;\n",
              "      display: none;\n",
              "      fill: #1967D2;\n",
              "      height: 32px;\n",
              "      padding: 0 0 0 0;\n",
              "      width: 32px;\n",
              "    }\n",
              "\n",
              "    .colab-df-convert:hover {\n",
              "      background-color: #E2EBFA;\n",
              "      box-shadow: 0px 1px 2px rgba(60, 64, 67, 0.3), 0px 1px 3px 1px rgba(60, 64, 67, 0.15);\n",
              "      fill: #174EA6;\n",
              "    }\n",
              "\n",
              "    .colab-df-buttons div {\n",
              "      margin-bottom: 4px;\n",
              "    }\n",
              "\n",
              "    [theme=dark] .colab-df-convert {\n",
              "      background-color: #3B4455;\n",
              "      fill: #D2E3FC;\n",
              "    }\n",
              "\n",
              "    [theme=dark] .colab-df-convert:hover {\n",
              "      background-color: #434B5C;\n",
              "      box-shadow: 0px 1px 3px 1px rgba(0, 0, 0, 0.15);\n",
              "      filter: drop-shadow(0px 1px 2px rgba(0, 0, 0, 0.3));\n",
              "      fill: #FFFFFF;\n",
              "    }\n",
              "  </style>\n",
              "\n",
              "    <script>\n",
              "      const buttonEl =\n",
              "        document.querySelector('#df-6702f23d-4706-4d27-99f7-0d8cf2556167 button.colab-df-convert');\n",
              "      buttonEl.style.display =\n",
              "        google.colab.kernel.accessAllowed ? 'block' : 'none';\n",
              "\n",
              "      async function convertToInteractive(key) {\n",
              "        const element = document.querySelector('#df-6702f23d-4706-4d27-99f7-0d8cf2556167');\n",
              "        const dataTable =\n",
              "          await google.colab.kernel.invokeFunction('convertToInteractive',\n",
              "                                                    [key], {});\n",
              "        if (!dataTable) return;\n",
              "\n",
              "        const docLinkHtml = 'Like what you see? Visit the ' +\n",
              "          '<a target=\"_blank\" href=https://colab.research.google.com/notebooks/data_table.ipynb>data table notebook</a>'\n",
              "          + ' to learn more about interactive tables.';\n",
              "        element.innerHTML = '';\n",
              "        dataTable['output_type'] = 'display_data';\n",
              "        await google.colab.output.renderOutput(dataTable, element);\n",
              "        const docLink = document.createElement('div');\n",
              "        docLink.innerHTML = docLinkHtml;\n",
              "        element.appendChild(docLink);\n",
              "      }\n",
              "    </script>\n",
              "  </div>\n",
              "\n",
              "\n",
              "  <div id=\"id_c75da3e3-5017-4453-9109-b588844e8de1\">\n",
              "    <style>\n",
              "      .colab-df-generate {\n",
              "        background-color: #E8F0FE;\n",
              "        border: none;\n",
              "        border-radius: 50%;\n",
              "        cursor: pointer;\n",
              "        display: none;\n",
              "        fill: #1967D2;\n",
              "        height: 32px;\n",
              "        padding: 0 0 0 0;\n",
              "        width: 32px;\n",
              "      }\n",
              "\n",
              "      .colab-df-generate:hover {\n",
              "        background-color: #E2EBFA;\n",
              "        box-shadow: 0px 1px 2px rgba(60, 64, 67, 0.3), 0px 1px 3px 1px rgba(60, 64, 67, 0.15);\n",
              "        fill: #174EA6;\n",
              "      }\n",
              "\n",
              "      [theme=dark] .colab-df-generate {\n",
              "        background-color: #3B4455;\n",
              "        fill: #D2E3FC;\n",
              "      }\n",
              "\n",
              "      [theme=dark] .colab-df-generate:hover {\n",
              "        background-color: #434B5C;\n",
              "        box-shadow: 0px 1px 3px 1px rgba(0, 0, 0, 0.15);\n",
              "        filter: drop-shadow(0px 1px 2px rgba(0, 0, 0, 0.3));\n",
              "        fill: #FFFFFF;\n",
              "      }\n",
              "    </style>\n",
              "    <button class=\"colab-df-generate\" onclick=\"generateWithVariable('dp')\"\n",
              "            title=\"Generate code using this dataframe.\"\n",
              "            style=\"display:none;\">\n",
              "\n",
              "  <svg xmlns=\"http://www.w3.org/2000/svg\" height=\"24px\"viewBox=\"0 0 24 24\"\n",
              "       width=\"24px\">\n",
              "    <path d=\"M7,19H8.4L18.45,9,17,7.55,7,17.6ZM5,21V16.75L18.45,3.32a2,2,0,0,1,2.83,0l1.4,1.43a1.91,1.91,0,0,1,.58,1.4,1.91,1.91,0,0,1-.58,1.4L9.25,21ZM18.45,9,17,7.55Zm-12,3A5.31,5.31,0,0,0,4.9,8.1,5.31,5.31,0,0,0,1,6.5,5.31,5.31,0,0,0,4.9,4.9,5.31,5.31,0,0,0,6.5,1,5.31,5.31,0,0,0,8.1,4.9,5.31,5.31,0,0,0,12,6.5,5.46,5.46,0,0,0,6.5,12Z\"/>\n",
              "  </svg>\n",
              "    </button>\n",
              "    <script>\n",
              "      (() => {\n",
              "      const buttonEl =\n",
              "        document.querySelector('#id_c75da3e3-5017-4453-9109-b588844e8de1 button.colab-df-generate');\n",
              "      buttonEl.style.display =\n",
              "        google.colab.kernel.accessAllowed ? 'block' : 'none';\n",
              "\n",
              "      buttonEl.onclick = () => {\n",
              "        google.colab.notebook.generateWithVariable('dp');\n",
              "      }\n",
              "      })();\n",
              "    </script>\n",
              "  </div>\n",
              "\n",
              "    </div>\n",
              "  </div>\n"
            ],
            "application/vnd.google.colaboratory.intrinsic+json": {
              "type": "dataframe",
              "variable_name": "dp",
              "summary": "{\n  \"name\": \"dp\",\n  \"rows\": 1,\n  \"fields\": [\n    {\n      \"column\": \"model\",\n      \"properties\": {\n        \"dtype\": \"string\",\n        \"num_unique_values\": 1,\n        \"samples\": [\n          \"linear_regression\"\n        ],\n        \"semantic_type\": \"\",\n        \"description\": \"\"\n      }\n    },\n    {\n      \"column\": \"best_score\",\n      \"properties\": {\n        \"dtype\": \"number\",\n        \"std\": null,\n        \"min\": 0.6018346934783718,\n        \"max\": 0.6018346934783718,\n        \"num_unique_values\": 1,\n        \"samples\": [\n          0.6018346934783718\n        ],\n        \"semantic_type\": \"\",\n        \"description\": \"\"\n      }\n    }\n  ]\n}"
            }
          },
          "metadata": {},
          "execution_count": 66
        }
      ]
    },
    {
      "cell_type": "markdown",
      "source": [
        "# 7) Evaluation the model"
      ],
      "metadata": {
        "id": "kGRnEmVJfEwB"
      }
    },
    {
      "cell_type": "markdown",
      "source": [
        "\n",
        "\n",
        "*  R-Squared\n",
        "\n"
      ],
      "metadata": {
        "id": "Gb9reVvdfEwB"
      }
    },
    {
      "cell_type": "code",
      "source": [
        "plt.rcParams[\"figure.figsize\"] = [6,5]\n",
        "acc = [r2_DT, r2_RF, r2_MLR, r2_SVR, r2_XGBoost, r2_LASSO]\n",
        "models = ['DT', 'RF', 'MLR', 'SVR', 'XGBoost', 'LASSO']\n",
        "\n",
        "plt.plot(models,acc, color = 'palevioletred', marker = 'o', markerfacecolor = 'red')\n",
        "plt.grid(False)\n",
        "plt.show()"
      ],
      "metadata": {
        "execution": {
          "iopub.status.busy": "2024-04-23T05:02:53.295020Z",
          "iopub.execute_input": "2024-04-23T05:02:53.298252Z",
          "iopub.status.idle": "2024-04-23T05:02:53.557738Z",
          "shell.execute_reply.started": "2024-04-23T05:02:53.298178Z",
          "shell.execute_reply": "2024-04-23T05:02:53.556250Z"
        },
        "trusted": true,
        "id": "L_uLpZcnfEwB",
        "colab": {
          "base_uri": "https://localhost:8080/",
          "height": 449
        },
        "outputId": "8664b067-0041-49d1-b240-52a4634d40d9"
      },
      "execution_count": null,
      "outputs": [
        {
          "output_type": "display_data",
          "data": {
            "text/plain": [
              "<Figure size 600x500 with 1 Axes>"
            ],
            "image/png": "[encoded data removed]"
          },
          "metadata": {}
        }
      ]
    },
    {
      "cell_type": "markdown",
      "source": [
        "\n",
        "\n",
        "* Mean Squared Error (MSE)\n",
        "\n"
      ],
      "metadata": {
        "id": "yF-NHe0ZfEwB"
      }
    },
    {
      "cell_type": "code",
      "source": [
        "plt.rcParams[\"figure.figsize\"] = [6,5]\n",
        "acc = [mse_DT, mse_RF, mse_MLR, mse_SVR, mse_XGBoost, mse_LASSO]\n",
        "models = ['DT', 'RF', 'MLR', 'SVR', 'XGBoost', 'LASSO']\n",
        "\n",
        "plt.plot(models,acc, color = 'palevioletred', marker = 'o', markerfacecolor = 'red')\n",
        "plt.grid(False)\n",
        "plt.show()"
      ],
      "metadata": {
        "execution": {
          "iopub.status.busy": "2024-04-23T05:02:53.559493Z",
          "iopub.execute_input": "2024-04-23T05:02:53.559877Z",
          "iopub.status.idle": "2024-04-23T05:02:53.849980Z",
          "shell.execute_reply.started": "2024-04-23T05:02:53.559846Z",
          "shell.execute_reply": "2024-04-23T05:02:53.848378Z"
        },
        "trusted": true,
        "id": "M0XrBB3FfEwB",
        "colab": {
          "base_uri": "https://localhost:8080/",
          "height": 460
        },
        "outputId": "18b9177e-6238-48d0-9d4f-60103e414e90"
      },
      "execution_count": null,
      "outputs": [
        {
          "output_type": "display_data",
          "data": {
            "text/plain": [
              "<Figure size 600x500 with 1 Axes>"
            ],
            "image/png": "[encoded data removed]"
          },
          "metadata": {}
        }
      ]
    },
    {
      "cell_type": "markdown",
      "source": [
        "\n",
        "\n",
        "* Mean Absolute Error (MAE)\n"
      ],
      "metadata": {
        "id": "g8x7lksifEwC"
      }
    },
    {
      "cell_type": "code",
      "source": [
        "plt.rcParams[\"figure.figsize\"] = [6,5]\n",
        "acc = [mae_DT, mae_RF, mae_MLR, mae_SVR, mae_XGBoost, mae_LASSO]\n",
        "models = ['DT', 'RF', 'MLR', 'SVR', 'XGBoost', 'LASSO']\n",
        "\n",
        "plt.plot(models,acc, color = 'palevioletred', marker = 'o', markerfacecolor = 'red')\n",
        "plt.grid(False)\n",
        "plt.show()"
      ],
      "metadata": {
        "execution": {
          "iopub.status.busy": "2024-04-23T05:02:53.851820Z",
          "iopub.execute_input": "2024-04-23T05:02:53.852896Z",
          "iopub.status.idle": "2024-04-23T05:02:54.104146Z",
          "shell.execute_reply.started": "2024-04-23T05:02:53.852838Z",
          "shell.execute_reply": "2024-04-23T05:02:54.102866Z"
        },
        "trusted": true,
        "id": "I8P27qxYfEwC",
        "colab": {
          "base_uri": "https://localhost:8080/",
          "height": 460
        },
        "outputId": "95172c82-3289-4fc8-86b1-8c6b32d3ea0b"
      },
      "execution_count": null,
      "outputs": [
        {
          "output_type": "display_data",
          "data": {
            "text/plain": [
              "<Figure size 600x500 with 1 Axes>"
            ],
            "image/png": "[encoded data removed]"
          },
          "metadata": {}
        }
      ]
    },
    {
      "cell_type": "markdown",
      "source": [
        "- ***Based on the evaluations, it can be concluded that the Random Forest (RF) model is the best model.***"
      ],
      "metadata": {
        "id": "Ae77Y-pGfEwC"
      }
    },
    {
      "cell_type": "code",
      "source": [
        "# x.to_csv('Cleaning_data.csv')"
      ],
      "metadata": {
        "execution": {
          "iopub.status.busy": "2024-04-23T05:02:54.125932Z",
          "iopub.execute_input": "2024-04-23T05:02:54.126271Z",
          "iopub.status.idle": "2024-04-23T05:02:54.563035Z",
          "shell.execute_reply.started": "2024-04-23T05:02:54.126243Z",
          "shell.execute_reply": "2024-04-23T05:02:54.561381Z"
        },
        "trusted": true,
        "id": "gyTjZiOJfEwF"
      },
      "execution_count": null,
      "outputs": []
    },
    {
      "cell_type": "code",
      "source": [],
      "metadata": {
        "id": "J2m-6iWSkQAA"
      },
      "execution_count": null,
      "outputs": []
    }
  ]
}